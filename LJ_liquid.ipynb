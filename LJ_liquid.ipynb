{
 "cells": [
  {
   "cell_type": "markdown",
   "id": "5e929689-952b-4b00-b8eb-d6df4a0a5678",
   "metadata": {},
   "source": [
    "# RISM - A Gentle Introduction"
   ]
  },
  {
   "cell_type": "markdown",
   "id": "1cc3e0ab-8b1a-4a4c-9fcd-10b2458cd7d0",
   "metadata": {},
   "source": [
    "We are going to write a Python implementation of the extended RISM equation with the goal of computing the direct, indirect and total correlation function along with the radial distribution function."
   ]
  },
  {
   "cell_type": "markdown",
   "id": "43050c62-e1bb-46f3-a09e-bbc8871af275",
   "metadata": {},
   "source": [
    "First, we import the libraries we will be needing:"
   ]
  },
  {
   "cell_type": "code",
   "execution_count": 188,
   "id": "18a17f90-70f6-422e-b1cc-d0303bbe78f3",
   "metadata": {},
   "outputs": [],
   "source": [
    "import numpy as np\n",
    "from scipy.fftpack import dstn, idstn\n",
    "from scipy.special import erf\n",
    "import matplotlib.pyplot as plt"
   ]
  },
  {
   "cell_type": "markdown",
   "id": "cb1166f7-b064-45b0-b87f-b2ad0d00ee24",
   "metadata": {},
   "source": [
    "First, we need to set up our problem domain. While the RISM equations are written as continuous functions $r$ (e.g. $c(r)$), computationally we solve them on a discretised grid.\n",
    "\n",
    "We'll set up a discrete domain of length (or radius since we are working with spherically symmetric functions) $r = 15\\, Å$ partitioned into $N = 100$ points. The resulting grid spacing is given by $\\Delta r = \\frac{r}{N}$."
   ]
  },
  {
   "cell_type": "code",
   "execution_count": 189,
   "id": "97cc8d43-e8e2-422d-bfb6-82f92ada9573",
   "metadata": {},
   "outputs": [],
   "source": [
    "r = 20.48\n",
    "N = 1024\n",
    "dr = r / N"
   ]
  },
  {
   "cell_type": "markdown",
   "id": "76ca9db6-c7e3-47f2-a548-b3951c60df83",
   "metadata": {},
   "source": [
    "We also want to set up a grid spacing for our Fourier-space grid such that $\\Delta r \\Delta k = \\frac{\\pi}{N}$"
   ]
  },
  {
   "cell_type": "code",
   "execution_count": 190,
   "id": "1879c0c5-94e4-43b2-bc3b-b538151c1585",
   "metadata": {},
   "outputs": [],
   "source": [
    "dk = 2.0 * np.pi / (2.0 * N * dr)"
   ]
  },
  {
   "cell_type": "markdown",
   "id": "19288397-40c9-438a-bd93-cf3568b6a87f",
   "metadata": {},
   "source": [
    "Lets check the equality we stated above:"
   ]
  },
  {
   "cell_type": "code",
   "execution_count": 191,
   "id": "bf0060ec-adb2-4b14-bf99-c1ae161f28ee",
   "metadata": {},
   "outputs": [
    {
     "data": {
      "text/plain": [
       "True"
      ]
     },
     "execution_count": 191,
     "metadata": {},
     "output_type": "execute_result"
    }
   ],
   "source": [
    "np.isclose(dr * dk, np.pi / N)"
   ]
  },
  {
   "cell_type": "markdown",
   "id": "2971c660-9d79-48d1-b188-7e59c83bf24c",
   "metadata": {},
   "source": [
    "We use `np.isclose()` here because we are comparing floating point numbers. Using `==` would not work since there is always some precision loss with floats. You need to compared them within tolerances instead.\n",
    "\n",
    "We can use these to generate our real and Fourier-space midpoint grids."
   ]
  },
  {
   "cell_type": "code",
   "execution_count": 192,
   "id": "7fdb7ab7-1798-4bc6-822a-9927a56f56c4",
   "metadata": {},
   "outputs": [],
   "source": [
    "r_grid = np.arange(0.5, N, 1.0) * dr\n",
    "k_grid = np.arange(0.5, N, 1.0) * dk"
   ]
  },
  {
   "cell_type": "markdown",
   "id": "99ed2917-d40d-44ab-99bc-e2692ca4b81a",
   "metadata": {},
   "source": [
    "## Simple Lennard-Jones Liquid"
   ]
  },
  {
   "cell_type": "markdown",
   "id": "2c1fc071-4a19-405b-9883-101bfd6bff4e",
   "metadata": {},
   "source": [
    "Now that we have our problem domain set up, we can focus on solving a particular problem. We're going to look at solving RISM for a simple Lennard-Jones liquid.\n",
    "\n",
    "We first need to set up the thermodynamical state of the system and the unit systems we're going to use. We'll be working with energies in kJ / mol."
   ]
  },
  {
   "cell_type": "code",
   "execution_count": 193,
   "id": "594d458d-5e7e-41e3-b3d9-8e51a6c67f05",
   "metadata": {},
   "outputs": [],
   "source": [
    "T = 300.0 # Kelvin\n",
    "kB = 8.314462618e-3 # kJ / mol / K\n",
    "beta = 1.0 / T / kB # Thermodynamic Beta\n",
    "ns = 1 # Number of ites"
   ]
  },
  {
   "cell_type": "markdown",
   "id": "b22e027e-3dc7-4e1e-bac9-134396ff3f8c",
   "metadata": {},
   "source": [
    "We also need to define the parameters for Argon, as well as its number density. "
   ]
  },
  {
   "cell_type": "code",
   "execution_count": 194,
   "id": "420894b5-8233-4ae3-a487-ef436061fc88",
   "metadata": {},
   "outputs": [],
   "source": [
    "ar_epsilon = 0.997 # kJ / mol\n",
    "ar_sigma = 3.4 # Angstroms\n",
    "ar_dens = 0.02071 # 1 / Angstroms^3\n",
    "ar_rho = np.diag([ar_dens])"
   ]
  },
  {
   "cell_type": "markdown",
   "id": "2df16806-3053-4f18-9e36-99b5d8d652c1",
   "metadata": {},
   "source": [
    "We need to tabulate the LJ potential with the above parameters. We define a function to evaluate the potential over a grid, and then we plot the potential."
   ]
  },
  {
   "cell_type": "code",
   "execution_count": 195,
   "id": "4041ca68-9477-44f1-8dd5-9fb46128f8d3",
   "metadata": {},
   "outputs": [],
   "source": [
    "def LJ(epsilon, sigma, r):\n",
    "    return 4.0 * epsilon * ( np.power( (sigma / r), 12) - np.power( (sigma / r), 6) )"
   ]
  },
  {
   "cell_type": "code",
   "execution_count": 196,
   "id": "b8161d69-4283-4ca8-a45b-7f1a31e516bf",
   "metadata": {},
   "outputs": [
    {
     "data": {
      "image/png": "[encoded data removed]",
      "text/plain": [
       "<Figure size 640x480 with 1 Axes>"
      ]
     },
     "metadata": {},
     "output_type": "display_data"
    }
   ],
   "source": [
    "ar_ur = np.zeros((N, ns, ns))\n",
    "ar_ur[:, 0, 0] = LJ(ar_epsilon, ar_sigma, r_grid)\n",
    "\n",
    "plt.plot(r_grid, ar_ur[:, 0, 0])\n",
    "plt.ylim([-1.5, 1.0])\n",
    "plt.show()"
   ]
  },
  {
   "cell_type": "markdown",
   "id": "51afe76f-9b93-496e-aaa1-b4d87865cf65",
   "metadata": {},
   "source": [
    "One aspect of the RISM equation that we need to consider is the intramolecular correlation function $\\omega(k)$. In the case of a simple liquid, $\\omega(k) = 1$, in which case we the RISM equation reduces to the Ornstein-Zernike (OZ) equation.\n",
    "We'll implement the full RISM equation, but we will set $\\omega(k)$ to 1 for the case our current system."
   ]
  },
  {
   "cell_type": "code",
   "execution_count": 197,
   "id": "d252ba9f-5ccd-4efc-930a-00d31cc92d1c",
   "metadata": {},
   "outputs": [],
   "source": [
    "ar_wk = np.ones((N, ns, ns))"
   ]
  },
  {
   "cell_type": "markdown",
   "id": "bc6c6720-0ee0-4604-8e1a-37ad9cdb88aa",
   "metadata": {},
   "source": [
    "Another aspect is the closure. The closure is what relates our unknowns ($h(r)$ and $c(r)$), in a sense \"closing\" the RISM equation.\n",
    "Generally the closure in terms of $c(r)$ is $$ c(r) = e^{-\\beta u(r) + t(r) - B(r)} - t(r) - 1 $$ where $B(r)$ is the bridge function - something that we need to approximate - and $t(r) = h(r) - c(r)$ is the indirect correlation function.\n",
    "\n",
    "We're going to use the simplest approximation, $B(r) = 0$. This is the Hypernetted Chain (HNC) closure.\n",
    "\n",
    "$$ c(r) = e^{-\\beta u(r) + t(r)} - t(r) - 1 $$"
   ]
  },
  {
   "cell_type": "code",
   "execution_count": 198,
   "id": "ec371707-7ab8-4875-89ca-da7f5a3d292c",
   "metadata": {},
   "outputs": [],
   "source": [
    "def HNC(beta, ur, tr):\n",
    "    return np.exp(-beta * ur + tr) - 1.0 - tr"
   ]
  },
  {
   "cell_type": "markdown",
   "id": "e0f5f445-e7ec-465e-9829-dddd494cd9c1",
   "metadata": {},
   "source": [
    "The final detail before we implement the RISM equation is that we need to be able to transform our correlation functions into Fourier-space and back.\n",
    "We use the Fourier transforms of spherically symmetric functions:\n",
    "\n",
    "$$ f(k) = 4 \\pi \\int_0^\\infty f(r) r^2 \\frac{\\sin(kr)}{kr} dr $$\n",
    "\n",
    "and the inverse:\n",
    "\n",
    "$$ f(r) = \\frac{1}{2 \\pi^2} \\int_0^\\infty f(k) k^2 \\frac{\\sin(kr)}{kr} dk $$\n",
    "\n",
    "The function $J_0(kr) = \\frac{\\sin(kr)}{kr}$ is the zeroth-order spherical Bessel function of the first kind, so sometimes these transforms are called Fourier-Bessel (or Hankel) transforms.\n",
    "\n",
    "This can neatly be related to the Fourier sine transform:\n",
    "\n",
    "$$ f(k) = \\int_0^\\infty f(r) \\sin(kr) dr $$\n",
    "\n",
    "$$ f(r) = \\frac{2}{\\pi} \\int_0^\\infty f(k) \\sin(kr) dk $$\n",
    "\n",
    "So that the fourier transform of the spherically symmetric function $f(r)$ is just the Fourier sine transform of the function $f(r) \\cdot r$\n",
    "\n",
    "Scipy has discrete sine transform functions we can use."
   ]
  },
  {
   "cell_type": "code",
   "execution_count": 199,
   "id": "44e20eaa-2675-4e6e-a373-4558e8b3005a",
   "metadata": {},
   "outputs": [],
   "source": [
    "def fbt(fr, r, k, dr):\n",
    "    return 2.0 * np.pi * dr * dstn(fr * r[:, np.newaxis, np.newaxis], type=4, axes=[0]) / k[:, np.newaxis, np.newaxis]\n",
    "\n",
    "def ifbt(fk, r, k, dk):\n",
    "    return dk / 4.0 / np.pi / np.pi * idstn(fk * k[:, np.newaxis, np.newaxis], type=4, axes=[0]) / r[:, np.newaxis, np.newaxis]"
   ]
  },
  {
   "cell_type": "markdown",
   "id": "f2209dda-8a0a-4864-b8b3-76b9e29f7d67",
   "metadata": {},
   "source": [
    "We have all the key parts to solve the RISM equation now.\n",
    "The equation in Fourier-space is $$h(k) = \\omega(k) * c(k) * \\omega(k) - \\rho * \\omega(k) * c(k) * h(k)$$\n",
    "We can rearrange this for $h(k)$ $$h(k) = [1 - \\rho * \\omega(k) * c(k)]^{-1} \\omega(k) * c(k) * \\omega(k)$$\n",
    "\n",
    "For brevity, I'm going to drop the function argument $(k)$\n",
    "$$h = [1 - \\rho\\omega c]^{-1} \\omega c \\omega$$\n",
    "\n",
    "We're interested in calculating the indirect correlation function $t(k)$ $$t = [1 - \\rho\\omega c]^{-1} \\omega c \\omega - c$$"
   ]
  },
  {
   "cell_type": "code",
   "execution_count": 200,
   "id": "539abfca-a1fb-4915-a3cf-9be460f3418c",
   "metadata": {},
   "outputs": [],
   "source": [
    "def RISM(cr, w, p, r, k, dr, dk):\n",
    "    N = r.shape[0]\n",
    "    I = np.eye(w.shape[1])\n",
    "    tk = np.zeros_like(cr)\n",
    "    # Transform c(r) to c(k)\n",
    "    ck = fbt(cr, r, k, dr)\n",
    "    # Solve the RISM equation for t(k)\n",
    "    for l in np.arange(0, N):\n",
    "        tk[l] = w[l] @ ck[l] @ w[l] @ np.linalg.inv(I - p * w[l] * ck[l]) - ck[l]\n",
    "    # Transform t(k) to t(r)\n",
    "    tr = ifbt(tk, r, k, dk)\n",
    "    return tr"
   ]
  },
  {
   "cell_type": "markdown",
   "id": "30929a74-6da7-4b14-8128-31761f502679",
   "metadata": {},
   "source": [
    "We have all the equations we need to perform a single closure and RISM calculation. Now we need to numerically solve this problem.\n",
    "\n",
    "The RISM equation is an integro-differential equation, and is posed to be solved using fixed-point iteration (i.e. the self-consistent approach used in electronic structure theory e.g. for solving Hartree-Fock).\n",
    "\n",
    "We set some initial guess for $t_0(r)$, and use that as input into the closure and RISM equation, and get a new value out. If we represent the closure and RISM equation as an operator $F(\\cdot)$ on $t(r)$ then we get a value of $F(t(r))$.\n",
    "\n",
    "We can then mix this new value with our initial value to obtain a new solution for $t(r)$ $$t_1(r) = \\alpha F(t_0(r))  + (1 - \\alpha) t_0(r) $$\n",
    "\n",
    "More generally $$t_{k+1}(r) = \\alpha F(t_k(r)) + (1 + \\alpha) t_k(r)$$\n",
    "\n",
    "where $\\alpha$ is a dampening parameter. The lower this is, the stiffer our iteration process is (because we're including more of the previous solution than the current). This is called Picard iteration.\n",
    "\n",
    "\n",
    "We keep iterating this set of equations and check the difference between current and previous solutions until that difference is below some tolerance $\\zeta$ $$ |t_{k+1}(r) - t_{k}(r)| < \\zeta $$\n",
    "\n",
    "Once the difference is below this tolerance, the calculation is finished.\n",
    "\n",
    "We use an initial guess of $t(r) = 0$ and a tolerance of $\\zeta = 1\\times10^{-5}$"
   ]
  },
  {
   "cell_type": "code",
   "execution_count": 201,
   "id": "0036c47a-bd92-4463-85e5-48b26d4cf3c4",
   "metadata": {},
   "outputs": [
    {
     "name": "stdout",
     "output_type": "stream",
     "text": [
      "Iteration: 0 Diff: 2.43e+00\n",
      "Iteration: 1 Diff: 7.87e-01\n",
      "Iteration: 2 Diff: 9.57e-01\n",
      "Iteration: 3 Diff: 5.20e+00\n",
      "Iteration: 4 Diff: 1.13e+01\n",
      "Iteration: 5 Diff: 1.42e+00\n",
      "Iteration: 6 Diff: 2.78e-01\n",
      "Iteration: 7 Diff: 1.63e-01\n",
      "Iteration: 8 Diff: 4.27e+00\n",
      "Iteration: 9 Diff: 2.99e+00\n",
      "Iteration: 10 Diff: 1.33e+00\n",
      "Iteration: 11 Diff: 6.77e-01\n",
      "Iteration: 12 Diff: 2.62e+00\n",
      "Iteration: 13 Diff: 5.46e+00\n",
      "Iteration: 14 Diff: 4.16e-01\n",
      "Iteration: 15 Diff: 6.31e-03\n",
      "Iteration: 16 Diff: 4.06e-04\n",
      "Iteration: 17 Diff: 7.98e-02\n",
      "Iteration: 18 Diff: 3.33e-01\n",
      "Iteration: 19 Diff: 8.23e-03\n",
      "Iteration: 20 Diff: 6.80e-04\n",
      "Iteration: 21 Diff: 6.22e-05\n",
      "Iteration: 22 Diff: 5.25e-04\n"
     ]
    },
    {
     "name": "stdout",
     "output_type": "stream",
     "text": [
      "Iteration: 23 Diff: 1.56e-03\n",
      "Iteration: 24 Diff: 2.57e-03\n",
      "Iteration: 25 Diff: 4.19e-03\n",
      "Iteration: 26 Diff: 6.87e-04\n",
      "Iteration: 27 Diff: 1.41e-04\n",
      "Iteration: 28 Diff: 4.39e-05\n",
      "Iteration: 29 Diff: 1.07e-04\n",
      "Iteration: 30 Diff: 1.14e-03\n",
      "Iteration: 31 Diff: 2.91e-04\n",
      "Iteration: 32 Diff: 8.26e-05\n",
      "Iteration: 33 Diff: 2.32e-05\n",
      "Iteration: 34 Diff: 1.02e-05\n",
      "Iteration: 35 Diff: 1.35e-04\n",
      "Iteration: 36 Diff: 2.85e-04\n",
      "Iteration: 37 Diff: 3.74e-05\n",
      "Iteration: 38 Diff: 5.31e-06\n",
      "Iteration: 39 Diff: 8.38e-08\n",
      "Iteration: 40 Diff: 4.01e-09\n",
      "Iteration: 41 Diff: 4.38e-08\n",
      "Iteration: 42 Diff: 1.38e-06\n",
      "Iteration: 43 Diff: 2.69e-06\n",
      "Iteration: 44 Diff: 2.33e-07\n",
      "Iteration: 45 Diff: 5.58e-08\n",
      "Iteration: 46 Diff: 7.33e-09\n",
      "Iteration: 47 Diff: 1.19e-08\n",
      "Iteration: 48 Diff: 2.40e-07\n",
      "Iteration: 49 Diff: 2.44e-07\n",
      "Iteration: 50 Diff: 9.28e-09\n",
      "Iteration: 51 Diff: 5.29e-10\n",
      "Iteration: 52 Diff: 8.98e-11\n",
      "Final Iteration: 52 Diff: 8.98e-11\n",
      " message: A solution was found at the specified tolerance.\n",
      " success: True\n",
      "  status: 1\n",
      "     fun: [-2.178e-06 -2.174e-06 ...  3.991e-07  3.988e-07]\n",
      "       x: [[[ 1.385e+01]]\n",
      "          \n",
      "           [[ 1.384e+01]]\n",
      "          \n",
      "           ...\n",
      "          \n",
      "           [[-9.903e-05]]\n",
      "          \n",
      "           [[-9.943e-05]]]\n",
      "     nit: 62\n"
     ]
    }
   ],
   "source": [
    "def picard_iteration(tolerance, max_steps, alpha, beta, wk, ur, rho, init_tr, r_grid, k_grid, dr, dk):\n",
    "\n",
    "    tr = init_tr\n",
    "\n",
    "    step = 0\n",
    "\n",
    "    while step < max_steps:\n",
    "        # Store previous t(r)\n",
    "        tr_prev = tr\n",
    "\n",
    "        # t(r) -> c(r) from closure\n",
    "        cr = HNC(beta, ar_ur, tr)\n",
    "\n",
    "        # c(r) -> F(t(r)) from RISM equation\n",
    "        f_tr = RISM(cr, ar_wk, ar_rho, r_grid, k_grid, dr, dk)\n",
    "\n",
    "        # Use Picard iteration to get the new solution\n",
    "        tr_new = alpha * f_tr + (1.0 - alpha) * tr_prev\n",
    "        \n",
    "        # Checking the L2-norm between steps\n",
    "        diff = np.sqrt(np.power((tr_new - tr_prev), 2).sum() * dr)\n",
    "        \n",
    "        # Set t(r) to the new t(r) we just computed\n",
    "        tr = tr_new\n",
    "\n",
    "        # Print the iteration step and difference every 10 steps\n",
    "        if step % 10 == 0:\n",
    "            print(\"Iteration: {step} Diff: {diff:.2e}\".format(step=step, diff=diff))\n",
    "\n",
    "        # Test if the difference is below our tolerance\n",
    "        if diff < tolerance:\n",
    "            # Print the final step\n",
    "            print(\"Final Iteration: {step} Diff: {diff:.2e}\".format(step=step, diff=diff))\n",
    "            break\n",
    "\n",
    "        # Update our step counter. We have a max_step because we don't want this calculation to go \n",
    "        # on forever and freeze our PC.\n",
    "        step += 1\n",
    "\n",
    "    return tr\n",
    "\n",
    "def Ng_step(f, g):\n",
    "    # f and g are our lists of f and g functions\n",
    "    # We'll index relative to n = 2, so that we can better match the maths (2 rather than 3 because Python is a zero-indexed language)\n",
    "    n = 2\n",
    "    \n",
    "    # First, preserve the shape of the inputs, since we'll be flattening them into vectors\n",
    "    dims = f[0].shape\n",
    "    \n",
    "    # Compute the residuals. We need to flatten these into vectors.\n",
    "    d_n = (g[n] - f[n]).flatten()\n",
    "    d_1 = (g[n-1] - f[n-1]).flatten()\n",
    "    d_2 = (g[n-2] - f[n-2]).flatten()\n",
    "    \n",
    "    d01 = d_n - d_1\n",
    "    d02 = d_n - d_2\n",
    "    \n",
    "    # We can fill up A and b now\n",
    "    A = np.zeros((2, 2))\n",
    "    b = np.zeros(2)\n",
    "    \n",
    "    A[0, 0] = np.dot(d01, d01)\n",
    "    A[0, 1] = np.dot(d01, d02)\n",
    "    A[1, 0] = np.dot(d01, d02)\n",
    "    A[1, 1] = np.dot(d02, d02)\n",
    "    \n",
    "    b[0] = np.dot(d_n, d01)\n",
    "    b[1] = np.dot(d_n, d02)\n",
    "    \n",
    "    # We can now perform a linear solve to get x1 and x2\n",
    "    x = np.linalg.solve(A, b)\n",
    "\n",
    "    # And we can construct a new solution\n",
    "    f_new = (1.0 - x[0] - x[1]) * g[n] \n",
    "    + x[0] * g[n-1] \n",
    "    + x[1] * g[n-2]\n",
    "    \n",
    "    return f_new.reshape(dims)\n",
    "\n",
    "\n",
    "def Ng_iteration(tolerance, max_step, alpha, beta, ur, wk, rho, init_tr, r_grid, k_grid, dr, dk):\n",
    "    # Set up our loop variable tr\n",
    "    tr = init_tr\n",
    "    \n",
    "    # Define our counter\n",
    "    step = 0\n",
    "    \n",
    "    # Define empty f and g lists\n",
    "    f = []\n",
    "    g = []\n",
    "    \n",
    "    while True:\n",
    "        # Store previous t(r)\n",
    "        tr_prev = tr\n",
    "\n",
    "        # t(r) -> c(r) from closure\n",
    "        cr = HNC(beta, ur, tr)\n",
    "\n",
    "        # c(r) -> F(t(r)) from RISM equation\n",
    "        f_tr = RISM(cr, wk, rho, r_grid, k_grid, dr, dk)\n",
    "\n",
    "        # Use Picard iteration to get the new solution\n",
    "        # if we've not got a history of 3 solutions yet\n",
    "        if len(f) < 3:\n",
    "            \n",
    "            tr_new = alpha * f_tr + (1.0 - alpha) * tr_prev\n",
    "\n",
    "            # Update f and g lists.\n",
    "            f.append(tr)\n",
    "            g.append(tr_new)\n",
    "            \n",
    "        # Otherwise lets use the Ng method\n",
    "        else:\n",
    "        \n",
    "            tr_new = Ng_step(f, g)\n",
    "\n",
    "            # Update f and g lists\n",
    "            f.append(tr)\n",
    "            g.append(tr_new)\n",
    "            \n",
    "            \n",
    "            # We want to keep the list to 3 elements, so we pop off the oldest elements\n",
    "            f.pop(0)\n",
    "            g.pop(0)\n",
    "            \n",
    "        # Check the convergence criterion\n",
    "        diff = np.sqrt(np.power((tr_new - tr_prev), 2).sum() * dr)\n",
    "\n",
    "        # Set t(r) to the new t(r) we just computed\n",
    "        tr = tr_new\n",
    "\n",
    "        # Print the iteration step every 10 steps and difference\n",
    "        if step % 1 == 0:\n",
    "            print(\"Iteration: {step} Diff: {diff:.2e}\".format(step=step, diff=diff))\n",
    "\n",
    "        # Test if the difference is below our tolerance\n",
    "        if diff < tolerance:\n",
    "            print(\"Final Iteration: {step} Diff: {diff:.2e}\".format(step=step, diff=diff))\n",
    "            break\n",
    "        \n",
    "        # If we reach max_step, raise an error!\n",
    "        if step == max_step:\n",
    "            print(\"Reached max steps!\")\n",
    "            break\n",
    "\n",
    "        # Update our step counter. We have a max_step because we don't want this calculation to go \n",
    "        # on forever and freeze our PC.\n",
    "        step += 1\n",
    "    \n",
    "    # Return solved t(r)\n",
    "    return tr\n",
    "\n",
    "def cost(tr, beta, wk, rho, ur, r_grid, k_grid, dr, dk):\n",
    "        # t(r) -> c(r) from closure\n",
    "        cr = HNC(beta, ur, tr)\n",
    "\n",
    "        # c(r) -> F(t(r)) from RISM equation\n",
    "        f_tr = RISM(cr, wk, rho, r_grid, k_grid, dr, dk)\n",
    "\n",
    "        return f_tr - tr\n",
    "\n",
    "# Setting up parameters for iterations\n",
    "tolerance = 1e-10\n",
    "max_steps = 5000\n",
    "step = 0\n",
    "\n",
    "# 1.0 is essentially undamped direct iteration\n",
    "alpha = 1.0\n",
    "\n",
    "#tr_pic = picard_iteration(tolerance, max_steps, alpha, beta, ar_ur, ar_wk, ar_rho, np.zeros((N, ns, ns)), r_grid, k_grid, dr, dk)\n",
    "#cr_pic = HNC(beta, ar_ur, tr_pic)\n",
    "tr_ng = Ng_iteration(tolerance, max_steps, alpha, beta, ar_ur, ar_wk, ar_rho, np.zeros((N, ns, ns)), r_grid, k_grid, dr, dk)\n",
    "cr_ng = HNC(beta, ar_ur, tr_ng)\n",
    "\n",
    "from scipy.optimize import root\n",
    "\n",
    "result = root(cost, np.zeros((N, ns, ns)), method=\"anderson\", args=(beta, ar_wk, ar_rho, ar_ur, r_grid, k_grid, dr, dk))\n",
    "print(result)\n",
    "tr = result.x\n",
    "cr = HNC(beta, ar_ur, tr)"
   ]
  },
  {
   "cell_type": "markdown",
   "id": "c4b95f0a-7ab6-4d43-8094-922c5b53ea1f",
   "metadata": {},
   "source": [
    "Once solved, we can use the calculated correlation functions to calculate the radial distribution function and plot it."
   ]
  },
  {
   "cell_type": "code",
   "execution_count": 202,
   "id": "a8ae7f5f-578e-4bdb-8b4d-c3d97faceeb0",
   "metadata": {},
   "outputs": [
    {
     "data": {
      "image/png": "[encoded data removed]",
      "text/plain": [
       "<Figure size 640x480 with 1 Axes>"
      ]
     },
     "metadata": {},
     "output_type": "display_data"
    }
   ],
   "source": [
    "# Get h(r)\n",
    "hr = tr + cr\n",
    "#hr_pic = tr_pic + cr_pic\n",
    "#hr_ng = tr_ng + cr_ng\n",
    "\n",
    "# Get and plot g(r)\n",
    "gr = hr + 1\n",
    "#gr_pic = hr_pic + 1\n",
    "#gr_ng = hr_ng + 1\n",
    "\n",
    "plt.plot(r_grid, gr[:, 0, 0])\n",
    "#plt.plot(r_grid, gr_pic[:, 0, 0])\n",
    "#plt.plot(r_grid, gr_ng[:, 0, 0])\n",
    "plt.show()"
   ]
  },
  {
   "cell_type": "markdown",
   "id": "2d48c3ec-ba25-4bbf-8d74-b48b1c38ae65",
   "metadata": {
    "tags": []
   },
   "source": [
    "This is the radial distribution function for a Lennard-Jones Argon liquid!"
   ]
  },
  {
   "cell_type": "markdown",
   "id": "d1c52054-2bd1-4781-ae01-97f863081200",
   "metadata": {},
   "source": [
    "On your machine you might find that it took over 300 iterations to come to a solution.\n",
    "We're using a very simple iteration scheme, but there are more complex iteration schemes we can use that can reduce the number of iterations.\n",
    "We will look at one convergence acceleration method later, but most methods are beyond the scope of this tutorial."
   ]
  }
 ],
 "metadata": {
  "kernelspec": {
   "display_name": "Python 3 (ipykernel)",
   "language": "python",
   "name": "python3"
  },
  "language_info": {
   "codemirror_mode": {
    "name": "ipython",
    "version": 3
   },
   "file_extension": ".py",
   "mimetype": "text/x-python",
   "name": "python",
   "nbconvert_exporter": "python",
   "pygments_lexer": "ipython3",
   "version": "3.9.17"
  }
 },
 "nbformat": 4,
 "nbformat_minor": 5
}
