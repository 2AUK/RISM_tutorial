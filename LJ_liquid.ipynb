{
 "cells": [
  {
   "cell_type": "markdown",
   "id": "5e929689-952b-4b00-b8eb-d6df4a0a5678",
   "metadata": {},
   "source": [
    "# RISM - A Gentle Introduction"
   ]
  },
  {
   "cell_type": "markdown",
   "id": "1cc3e0ab-8b1a-4a4c-9fcd-10b2458cd7d0",
   "metadata": {},
   "source": [
    "We are going to write a Python implementation of the extended RISM equation with the goal of computing the direct, indirect and total correlation function along with the radial distribution function."
   ]
  },
  {
   "cell_type": "markdown",
   "id": "43050c62-e1bb-46f3-a09e-bbc8871af275",
   "metadata": {},
   "source": [
    "First, we import the libraries we will be needing:"
   ]
  },
  {
   "cell_type": "code",
   "execution_count": 104,
   "id": "18a17f90-70f6-422e-b1cc-d0303bbe78f3",
   "metadata": {},
   "outputs": [],
   "source": [
    "import numpy as np\n",
    "from scipy.fftpack import dstn, idstn\n",
    "from scipy.special import erf\n",
    "import matplotlib.pyplot as plt"
   ]
  },
  {
   "cell_type": "markdown",
   "id": "cb1166f7-b064-45b0-b87f-b2ad0d00ee24",
   "metadata": {},
   "source": [
    "First, we need to set up our problem domain. While the RISM equations are written as continuous functions $r$ (e.g. $c(r)$), computationally we solve them on a discretised grid.\n",
    "\n",
    "We'll set up a discrete domain of length (or radius since we are working with spherically symmetric functions) $r = 15\\, Å$ partitioned into $N = 100$ points. The resulting grid spacing is given by $\\Delta r = \\frac{r}{N}$."
   ]
  },
  {
   "cell_type": "code",
   "execution_count": 105,
   "id": "97cc8d43-e8e2-422d-bfb6-82f92ada9573",
   "metadata": {},
   "outputs": [],
   "source": [
    "r = 15.0\n",
    "N = 100\n",
    "dr = r / N"
   ]
  },
  {
   "cell_type": "markdown",
   "id": "76ca9db6-c7e3-47f2-a548-b3951c60df83",
   "metadata": {},
   "source": [
    "We also want to set up a grid spacing for our Fourier-space grid such that $\\Delta r \\Delta k = \\frac{\\pi}{N}$"
   ]
  },
  {
   "cell_type": "code",
   "execution_count": 106,
   "id": "1879c0c5-94e4-43b2-bc3b-b538151c1585",
   "metadata": {},
   "outputs": [],
   "source": [
    "dk = 2.0 * np.pi / (2.0 * N * dr)"
   ]
  },
  {
   "cell_type": "markdown",
   "id": "19288397-40c9-438a-bd93-cf3568b6a87f",
   "metadata": {},
   "source": [
    "Lets check the equality we stated above:"
   ]
  },
  {
   "cell_type": "code",
   "execution_count": 107,
   "id": "bf0060ec-adb2-4b14-bf99-c1ae161f28ee",
   "metadata": {},
   "outputs": [
    {
     "data": {
      "text/plain": [
       "True"
      ]
     },
     "execution_count": 107,
     "metadata": {},
     "output_type": "execute_result"
    }
   ],
   "source": [
    "np.isclose(dr * dk, np.pi / N)"
   ]
  },
  {
   "cell_type": "markdown",
   "id": "2971c660-9d79-48d1-b188-7e59c83bf24c",
   "metadata": {},
   "source": [
    "We use `np.isclose()` here because we are comparing floating point numbers. Using `==` would not work since there is always some precision loss with floats. You need to compared them within tolerances instead.\n",
    "\n",
    "We can use these to generate our real and Fourier-space midpoint grids."
   ]
  },
  {
   "cell_type": "code",
   "execution_count": 108,
   "id": "7fdb7ab7-1798-4bc6-822a-9927a56f56c4",
   "metadata": {},
   "outputs": [],
   "source": [
    "r_grid = np.arange(0.5, N, 1.0) * dr\n",
    "k_grid = np.arange(0.5, N, 1.0) * dk"
   ]
  },
  {
   "cell_type": "markdown",
   "id": "99ed2917-d40d-44ab-99bc-e2692ca4b81a",
   "metadata": {},
   "source": [
    "## Simple Lennard-Jones Liquid"
   ]
  },
  {
   "cell_type": "markdown",
   "id": "2c1fc071-4a19-405b-9883-101bfd6bff4e",
   "metadata": {},
   "source": [
    "Now that we have our problem domain set up, we can focus on solving a particular problem. We're going to look at solving RISM for a simple Lennard-Jones liquid.\n",
    "\n",
    "We first need to set up the thermodynamical state of the system and the unit systems we're going to use. We'll be working with energies in kJ / mol."
   ]
  },
  {
   "cell_type": "code",
   "execution_count": 109,
   "id": "594d458d-5e7e-41e3-b3d9-8e51a6c67f05",
   "metadata": {},
   "outputs": [],
   "source": [
    "T = 85.0 # Kelvin\n",
    "kB = 8.314462618e-3 # kJ / mol / K\n",
    "beta = 1.0 / T / kB # Thermodynamic Beta\n",
    "ns = 1 # Number of ites"
   ]
  },
  {
   "cell_type": "markdown",
   "id": "b22e027e-3dc7-4e1e-bac9-134396ff3f8c",
   "metadata": {},
   "source": [
    "We also need to define the parameters for Argon, as well as its number density. "
   ]
  },
  {
   "cell_type": "code",
   "execution_count": 110,
   "id": "420894b5-8233-4ae3-a487-ef436061fc88",
   "metadata": {},
   "outputs": [],
   "source": [
    "ar_epsilon = 120.0 * 8.314462618e-3  # kJ / mol\n",
    "ar_sigma = 3.4 # Angstroms\n",
    "ar_dens = 0.021017479720736955 # 1 / Angstroms^3\n",
    "ar_rho = np.diag([ar_dens])"
   ]
  },
  {
   "cell_type": "markdown",
   "id": "2df16806-3053-4f18-9e36-99b5d8d652c1",
   "metadata": {},
   "source": [
    "We need to tabulate the LJ potential with the above parameters. We define a function to evaluate the potential over a grid, and then we plot the potential."
   ]
  },
  {
   "cell_type": "code",
   "execution_count": 111,
   "id": "4041ca68-9477-44f1-8dd5-9fb46128f8d3",
   "metadata": {},
   "outputs": [],
   "source": [
    "def LJ(epsilon, sigma, r):\n",
    "    return 4.0 * epsilon * ( np.power( (sigma / r), 12) - np.power( (sigma / r), 6) )"
   ]
  },
  {
   "cell_type": "code",
   "execution_count": 112,
   "id": "b8161d69-4283-4ca8-a45b-7f1a31e516bf",
   "metadata": {},
   "outputs": [
    {
     "data": {
      "image/png": "[encoded data removed]",
      "text/plain": [
       "<Figure size 640x480 with 1 Axes>"
      ]
     },
     "metadata": {},
     "output_type": "display_data"
    }
   ],
   "source": [
    "ar_ur = np.zeros((N, ns, ns))\n",
    "ar_ur[:, 0, 0] = LJ(ar_epsilon, ar_sigma, r_grid)\n",
    "\n",
    "plt.plot(r_grid, ar_ur[:, 0, 0])\n",
    "plt.ylim([-1.5, 1.0])\n",
    "plt.show()"
   ]
  },
  {
   "cell_type": "markdown",
   "id": "51afe76f-9b93-496e-aaa1-b4d87865cf65",
   "metadata": {},
   "source": [
    "One aspect of the RISM equation that we need to consider is the intramolecular correlation function $\\omega(k)$. In the case of a simple liquid, $\\omega(k) = 1$, in which case we the RISM equation reduces to the Ornstein-Zernike (OZ) equation.\n",
    "We'll implement the full RISM equation, but we will set $\\omega(k)$ to 1 for the case our current system."
   ]
  },
  {
   "cell_type": "code",
   "execution_count": 113,
   "id": "d252ba9f-5ccd-4efc-930a-00d31cc92d1c",
   "metadata": {},
   "outputs": [],
   "source": [
    "ar_wk = np.ones((N, ns, ns))"
   ]
  },
  {
   "cell_type": "markdown",
   "id": "bc6c6720-0ee0-4604-8e1a-37ad9cdb88aa",
   "metadata": {},
   "source": [
    "Another aspect is the closure. The closure is what relates our unknowns ($h(r)$ and $c(r)$), in a sense \"closing\" the RISM equation.\n",
    "Generally the closure in terms of $c(r)$ is $$ c(r) = e^{-\\beta u(r) + t(r) - B(r)} - t(r) - 1 $$ where $B(r)$ is the bridge function - something that we need to approximate - and $t(r) = h(r) - c(r)$ is the indirect correlation function.\n",
    "\n",
    "We're going to use the simplest approximation, $B(r) = 0$. This is the Hypernetted Chain (HNC) closure.\n",
    "\n",
    "$$ c(r) = e^{-\\beta u(r) + t(r)} - t(r) - 1 $$"
   ]
  },
  {
   "cell_type": "code",
   "execution_count": 114,
   "id": "ec371707-7ab8-4875-89ca-da7f5a3d292c",
   "metadata": {},
   "outputs": [],
   "source": [
    "def HNC(beta, ur, tr):\n",
    "    return np.exp(-beta * ur + tr) - 1.0 - tr"
   ]
  },
  {
   "cell_type": "markdown",
   "id": "e0f5f445-e7ec-465e-9829-dddd494cd9c1",
   "metadata": {},
   "source": [
    "The final detail before we implement the RISM equation is that we need to be able to transform our correlation functions into Fourier-space and back.\n",
    "We use the Fourier transforms of spherically symmetric functions:\n",
    "\n",
    "$$ f(k) = 4 \\pi \\int_0^\\infty f(r) r^2 \\frac{\\sin(kr)}{kr} dr $$\n",
    "\n",
    "and the inverse:\n",
    "\n",
    "$$ f(r) = \\frac{1}{2 \\pi^2} \\int_0^\\infty f(k) k^2 \\frac{\\sin(kr)}{kr} dk $$\n",
    "\n",
    "The function $J_0(kr) = \\frac{\\sin(kr)}{kr}$ is the zeroth-order spherical Bessel function of the first kind, so sometimes these transforms are called Fourier-Bessel (or Hankel) transforms.\n",
    "\n",
    "This can neatly be related to the Fourier sine transform:\n",
    "\n",
    "$$ f(k) = \\int_0^\\infty f(r) \\sin(kr) dr $$\n",
    "\n",
    "$$ f(r) = \\frac{2}{\\pi} \\int_0^\\infty f(k) \\sin(kr) dk $$\n",
    "\n",
    "So that the fourier transform of the spherically symmetric function $f(r)$ is just the Fourier sine transform of the function $f(r) \\cdot r$\n",
    "\n",
    "Scipy has discrete sine transform functions we can use."
   ]
  },
  {
   "cell_type": "code",
   "execution_count": 115,
   "id": "44e20eaa-2675-4e6e-a373-4558e8b3005a",
   "metadata": {},
   "outputs": [],
   "source": [
    "def fbt(fr, r, k, dr):\n",
    "    return 2.0 * np.pi * dr * dstn(fr * r[:, np.newaxis, np.newaxis], type=4, axes=[0]) / k[:, np.newaxis, np.newaxis]\n",
    "\n",
    "def ifbt(fk, r, k, dk):\n",
    "    return dk / 4.0 / np.pi / np.pi * idstn(fk * k[:, np.newaxis, np.newaxis], type=4, axes=[0]) / r[:, np.newaxis, np.newaxis]"
   ]
  },
  {
   "cell_type": "markdown",
   "id": "f2209dda-8a0a-4864-b8b3-76b9e29f7d67",
   "metadata": {},
   "source": [
    "We have all the key parts to solve the RISM equation now.\n",
    "The equation in Fourier-space is $$h(k) = \\omega(k) * c(k) * \\omega(k) - \\rho * \\omega(k) * c(k) * h(k)$$\n",
    "We can rearrange this for $h(k)$ $$h(k) = [1 - \\rho * \\omega(k) * c(k)]^{-1} \\omega(k) * c(k) * \\omega(k)$$\n",
    "\n",
    "For brevity, I'm going to drop the function argument $(k)$\n",
    "$$h = [1 - \\rho\\omega c]^{-1} \\omega c \\omega$$\n",
    "\n",
    "We're interested in calculating the indirect correlation function $t(k)$ $$t = [1 - \\rho\\omega c]^{-1} \\omega c \\omega - c$$"
   ]
  },
  {
   "cell_type": "code",
   "execution_count": 116,
   "id": "539abfca-a1fb-4915-a3cf-9be460f3418c",
   "metadata": {},
   "outputs": [],
   "source": [
    "def RISM(cr, w, p, r, k, dr, dk):\n",
    "    N = r.shape[0]\n",
    "    I = np.eye(w.shape[1])\n",
    "    tk = np.zeros_like(cr)\n",
    "    # Transform c(r) to c(k)\n",
    "    ck = fbt(cr, r, k, dr)\n",
    "    # Solve the RISM equation for t(k)\n",
    "    for l in np.arange(0, N):\n",
    "        A = np.linalg.inv(I - w[l] @ ck[l] @ p)\n",
    "        B = w[l] @ ck[l] @ w[l]\n",
    "        tk[l] = A @ B - ck[l]\n",
    "    # Transform t(k) to t(r)\n",
    "    tr = ifbt(tk, r, k, dk)\n",
    "    return tr"
   ]
  },
  {
   "cell_type": "markdown",
   "id": "30929a74-6da7-4b14-8128-31761f502679",
   "metadata": {},
   "source": [
    "We have all the equations we need to perform a single closure and RISM calculation. Now we need to numerically solve this problem.\n",
    "\n",
    "The RISM equation is an integro-differential equation, and is posed to be solved using fixed-point iteration (i.e. the self-consistent approach used in electronic structure theory e.g. for solving Hartree-Fock).\n",
    "\n",
    "We set some initial guess for $t_0(r)$, and use that as input into the closure and RISM equation, and get a new value out. If we represent the closure and RISM equation as an operator $F(\\cdot)$ on $t(r)$ then we get a value of $F(t(r))$.\n",
    "\n",
    "We can then mix this new value with our initial value to obtain a new solution for $t(r)$ $$t_1(r) = \\alpha F(t_0(r))  + (1 - \\alpha) t_0(r) $$\n",
    "\n",
    "More generally $$t_{k+1}(r) = \\alpha F(t_k(r)) + (1 + \\alpha) t_k(r)$$\n",
    "\n",
    "where $\\alpha$ is a dampening parameter. The lower this is, the stiffer our iteration process is (because we're including more of the previous solution than the current). This is called Picard iteration.\n",
    "\n",
    "\n",
    "We keep iterating this set of equations and check the difference between current and previous solutions until that difference is below some tolerance $\\zeta$ $$ |t_{k+1}(r) - t_{k}(r)| < \\zeta $$\n",
    "\n",
    "Once the difference is below this tolerance, the calculation is finished.\n",
    "\n",
    "We use an initial guess of $t(r) = 0$ and a tolerance of $\\zeta = 1\\times10^{-5}$"
   ]
  },
  {
   "cell_type": "code",
   "execution_count": 117,
   "id": "0036c47a-bd92-4463-85e5-48b26d4cf3c4",
   "metadata": {},
   "outputs": [
    {
     "name": "stdout",
     "output_type": "stream",
     "text": [
      "0.3333333333333333\n",
      "Iteration: 0 Diff: 2.79e-01\n",
      "Iteration: 100 Diff: 4.81e-02\n"
     ]
    },
    {
     "name": "stdout",
     "output_type": "stream",
     "text": [
      "Iteration: 200 Diff: 2.47e-02\n",
      "Iteration: 300 Diff: 1.39e-02\n",
      "Iteration: 400 Diff: 8.17e-03\n",
      "Iteration: 500 Diff: 4.90e-03\n",
      "Iteration: 600 Diff: 2.97e-03\n",
      "Iteration: 700 Diff: 1.81e-03\n",
      "Iteration: 800 Diff: 1.11e-03\n",
      "Iteration: 900 Diff: 6.80e-04\n",
      "Iteration: 1000 Diff: 4.18e-04\n",
      "Iteration: 1100 Diff: 2.57e-04\n",
      "Iteration: 1200 Diff: 1.58e-04\n",
      "Iteration: 1300 Diff: 9.75e-05\n",
      "Iteration: 1400 Diff: 6.01e-05\n",
      "Iteration: 1500 Diff: 3.70e-05\n",
      "Iteration: 1600 Diff: 2.28e-05\n",
      "Iteration: 1700 Diff: 1.40e-05\n",
      "Iteration: 1800 Diff: 8.65e-06\n",
      "Iteration: 1900 Diff: 5.33e-06\n",
      "Iteration: 2000 Diff: 3.28e-06\n",
      "Iteration: 2100 Diff: 2.02e-06\n",
      "Iteration: 2200 Diff: 1.25e-06\n",
      "Iteration: 2300 Diff: 7.68e-07\n",
      "Iteration: 2400 Diff: 4.73e-07\n",
      "Iteration: 2500 Diff: 2.92e-07\n",
      "Iteration: 2600 Diff: 1.80e-07\n",
      "Iteration: 2700 Diff: 1.11e-07\n",
      "Final Iteration: 2722 Diff: 9.95e-08\n",
      "0.6666666666666666\n",
      "Iteration: 0 Diff: 6.61e-01\n",
      "Iteration: 100 Diff: 1.09e-02\n",
      "Iteration: 200 Diff: 7.49e-03\n",
      "Iteration: 300 Diff: 5.22e-03\n",
      "Iteration: 400 Diff: 3.67e-03\n",
      "Iteration: 500 Diff: 2.59e-03\n",
      "Iteration: 600 Diff: 1.83e-03\n",
      "Iteration: 700 Diff: 1.30e-03\n",
      "Iteration: 800 Diff: 9.25e-04\n",
      "Iteration: 900 Diff: 6.58e-04\n",
      "Iteration: 1000 Diff: 4.69e-04\n",
      "Iteration: 1100 Diff: 3.34e-04\n",
      "Iteration: 1200 Diff: 2.39e-04\n",
      "Iteration: 1300 Diff: 1.70e-04\n",
      "Iteration: 1400 Diff: 1.21e-04\n",
      "Iteration: 1500 Diff: 8.67e-05\n",
      "Iteration: 1600 Diff: 6.19e-05\n",
      "Iteration: 1700 Diff: 4.42e-05\n",
      "Iteration: 1800 Diff: 3.15e-05\n",
      "Iteration: 1900 Diff: 2.25e-05\n",
      "Iteration: 2000 Diff: 1.61e-05\n",
      "Iteration: 2100 Diff: 1.15e-05\n",
      "Iteration: 2200 Diff: 8.19e-06\n",
      "Iteration: 2300 Diff: 5.85e-06\n",
      "Iteration: 2400 Diff: 4.17e-06\n",
      "Iteration: 2500 Diff: 2.98e-06\n",
      "Iteration: 2600 Diff: 2.13e-06\n",
      "Iteration: 2700 Diff: 1.52e-06\n",
      "Iteration: 2800 Diff: 1.08e-06\n",
      "Iteration: 2900 Diff: 7.75e-07\n",
      "Iteration: 3000 Diff: 5.53e-07\n",
      "Iteration: 3100 Diff: 3.95e-07\n",
      "Iteration: 3200 Diff: 2.82e-07\n",
      "Iteration: 3300 Diff: 2.01e-07\n",
      "Iteration: 3400 Diff: 1.44e-07\n",
      "Iteration: 3500 Diff: 1.03e-07\n",
      "Final Iteration: 3508 Diff: 9.99e-08\n",
      "1.0\n",
      "Iteration: 0 Diff: 1.93e+00\n",
      "Iteration: 100 Diff: 5.67e-03\n",
      "Iteration: 200 Diff: 4.25e-03\n",
      "Iteration: 300 Diff: 3.19e-03\n",
      "Iteration: 400 Diff: 2.40e-03\n",
      "Iteration: 500 Diff: 1.82e-03\n",
      "Iteration: 600 Diff: 1.37e-03\n",
      "Iteration: 700 Diff: 1.04e-03\n",
      "Iteration: 800 Diff: 7.90e-04\n",
      "Iteration: 900 Diff: 6.00e-04\n",
      "Iteration: 1000 Diff: 4.56e-04\n",
      "Iteration: 1100 Diff: 3.47e-04\n",
      "Iteration: 1200 Diff: 2.64e-04\n",
      "Iteration: 1300 Diff: 2.01e-04\n",
      "Iteration: 1400 Diff: 1.53e-04\n",
      "Iteration: 1500 Diff: 1.16e-04\n",
      "Iteration: 1600 Diff: 8.85e-05\n",
      "Iteration: 1700 Diff: 6.74e-05\n",
      "Iteration: 1800 Diff: 5.13e-05\n",
      "Iteration: 1900 Diff: 3.91e-05\n",
      "Iteration: 2000 Diff: 2.97e-05\n",
      "Iteration: 2100 Diff: 2.27e-05\n",
      "Iteration: 2200 Diff: 1.72e-05\n",
      "Iteration: 2300 Diff: 1.31e-05\n",
      "Iteration: 2400 Diff: 1.00e-05\n",
      "Iteration: 2500 Diff: 7.62e-06\n",
      "Iteration: 2600 Diff: 5.80e-06\n",
      "Iteration: 2700 Diff: 4.42e-06\n",
      "Iteration: 2800 Diff: 3.36e-06\n",
      "Iteration: 2900 Diff: 2.56e-06\n",
      "Iteration: 3000 Diff: 1.95e-06\n",
      "Iteration: 3100 Diff: 1.48e-06\n",
      "Iteration: 3200 Diff: 1.13e-06\n",
      "Iteration: 3300 Diff: 8.61e-07\n",
      "Iteration: 3400 Diff: 6.56e-07\n",
      "Iteration: 3500 Diff: 4.99e-07\n",
      "Iteration: 3600 Diff: 3.80e-07\n",
      "Iteration: 3700 Diff: 2.90e-07\n",
      "Iteration: 3800 Diff: 2.20e-07\n",
      "Iteration: 3900 Diff: 1.68e-07\n",
      "Iteration: 4000 Diff: 1.28e-07\n",
      "Final Iteration: 4091 Diff: 9.98e-08\n"
     ]
    }
   ],
   "source": [
    "def picard_iteration(tolerance, max_step, alpha, initial_tr, beta, ur, wk, rho):\n",
    "    # Set up our loop variable tr\n",
    "    tr = initial_tr\n",
    "    \n",
    "    # Define our counter\n",
    "    step = 0\n",
    "    \n",
    "    while True:\n",
    "        # Store previous t(r)\n",
    "        tr_prev = tr\n",
    "\n",
    "        # t(r) -> c(r) from closure\n",
    "        cr = HNC(beta, ur, tr)\n",
    "\n",
    "        # c(r) -> F(t(r)) from RISM equation\n",
    "        f_tr = RISM(cr, wk, rho, r_grid, k_grid, dr, dk)\n",
    "\n",
    "        # Use Picard iteration to get the new solution\n",
    "        # Since we set alpha = 1.0 above, this is \n",
    "        # essentially direct iteration (tr_new = f_tr).\n",
    "        tr_new = alpha * f_tr + (1.0 - alpha) * tr_prev\n",
    "\n",
    "        # Check the absolute value of the difference between the current and previous solution\n",
    "        # We use .max() because we want to check that all values are below the tolerance, and\n",
    "        # if the maximum value of the difference array is below, then so must the other values be.\n",
    "        diff = np.sqrt(np.power((tr_new - tr_prev), 2).sum() * dr)\n",
    "\n",
    "        # Set t(r) to the new t(r) we just computed\n",
    "        tr = tr_new\n",
    "\n",
    "        # Print the iteration step every 100 steps and difference\n",
    "        if step % 100 == 0:\n",
    "            print(\"Iteration: {step} Diff: {diff:.2e}\".format(step=step, diff=diff))\n",
    "\n",
    "        # Test if the difference is below our tolerance\n",
    "        if diff < tolerance:\n",
    "            print(\"Final Iteration: {step} Diff: {diff:.2e}\".format(step=step, diff=diff))\n",
    "            break\n",
    "        \n",
    "        # If we reach max_step, raise an error!\n",
    "        if step == max_step:\n",
    "            print(\"Reached max steps!\")\n",
    "            break\n",
    "\n",
    "        if np.any(np.isnan(tr)):\n",
    "            print(\"Diverged at iteration: {step}\".format(step=step))\n",
    "            break\n",
    "\n",
    "        # Update our step counter. We have a max_step because we don't want this calculation to go \n",
    "        # on forever and freeze our PC.\n",
    "        step += 1\n",
    "    \n",
    "    # Return solved t(r)\n",
    "    return tr\n",
    "\n",
    "# Setting up parameters for iterations\n",
    "tolerance = 1e-7\n",
    "max_step = 10000\n",
    "step = 0\n",
    "\n",
    "# 1.0 is essentially undamped direct iteration\n",
    "alpha = 0.1\n",
    "\n",
    "lambdas = 3\n",
    "\n",
    "initial_tr = np.zeros((N, ns, ns))\n",
    "\n",
    "for ilam in range(1, lambdas+1):\n",
    "    lam = ilam / lambdas\n",
    "    print(lam)\n",
    "    tr = tr = picard_iteration(tolerance, max_step, alpha, initial_tr, beta, lam * ar_ur, ar_wk, ar_rho)\n",
    "    initial_tr = tr\n",
    "\n",
    "cr = HNC(beta, ar_ur, tr)"
   ]
  },
  {
   "cell_type": "markdown",
   "id": "c4b95f0a-7ab6-4d43-8094-922c5b53ea1f",
   "metadata": {},
   "source": [
    "Once solved, we can use the calculated correlation functions to calculate the radial distribution function and plot it."
   ]
  },
  {
   "cell_type": "code",
   "execution_count": 118,
   "id": "a8ae7f5f-578e-4bdb-8b4d-c3d97faceeb0",
   "metadata": {},
   "outputs": [
    {
     "data": {
      "image/png": "[encoded data removed]",
      "text/plain": [
       "<Figure size 640x480 with 1 Axes>"
      ]
     },
     "metadata": {},
     "output_type": "display_data"
    }
   ],
   "source": [
    "# Get h(r)\n",
    "hr = tr + cr\n",
    "\n",
    "# Get and plot g(r)\n",
    "gr = hr + 1\n",
    "\n",
    "plt.plot(r_grid, gr[:, 0, 0])\n",
    "plt.xlim([0, 10])\n",
    "plt.axhline(1, color=\"grey\", linestyle=\"--\", linewidth=2)\n",
    "plt.show()"
   ]
  },
  {
   "cell_type": "markdown",
   "id": "2d48c3ec-ba25-4bbf-8d74-b48b1c38ae65",
   "metadata": {
    "tags": []
   },
   "source": [
    "This is the radial distribution function for a Lennard-Jones liquid!"
   ]
  },
  {
   "cell_type": "markdown",
   "id": "d1c52054-2bd1-4781-ae01-97f863081200",
   "metadata": {},
   "source": [
    "On your machine you might find that it took over 300 iterations to come to a solution.\n",
    "We're using a very simple iteration scheme, but there are more complex iteration schemes we can use that can reduce the number of iterations.\n",
    "We will look at one convergence acceleration method later, but most methods are beyond the scope of this tutorial."
   ]
  }
 ],
 "metadata": {
  "kernelspec": {
   "display_name": "Python 3 (ipykernel)",
   "language": "python",
   "name": "python3"
  },
  "language_info": {
   "codemirror_mode": {
    "name": "ipython",
    "version": 3
   },
   "file_extension": ".py",
   "mimetype": "text/x-python",
   "name": "python",
   "nbconvert_exporter": "python",
   "pygments_lexer": "ipython3",
   "version": "3.10.12"
  }
 },
 "nbformat": 4,
 "nbformat_minor": 5
}
