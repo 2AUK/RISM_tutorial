{
 "cells": [
  {
   "cell_type": "markdown",
   "id": "5e929689-952b-4b00-b8eb-d6df4a0a5678",
   "metadata": {},
   "source": [
    "# RISM - A Gentle Introduction"
   ]
  },
  {
   "cell_type": "markdown",
   "id": "1cc3e0ab-8b1a-4a4c-9fcd-10b2458cd7d0",
   "metadata": {},
   "source": [
    "## Preamble\n",
    "\n",
    "The code we've written so far:"
   ]
  },
  {
   "cell_type": "code",
   "execution_count": 369,
   "id": "21ff5e22",
   "metadata": {},
   "outputs": [],
   "source": [
    "import numpy as np\n",
    "from scipy.fftpack import dstn, idstn\n",
    "import matplotlib.pyplot as plt\n",
    "\n",
    "r = 15.0\n",
    "N = 100\n",
    "dr = r / N\n",
    "\n",
    "dk = 2.0 * np.pi / (2.0 * N * dr)\n",
    "\n",
    "r_grid = np.arange(0.5, N, 1.0) * dr\n",
    "k_grid = np.arange(0.5, N, 1.0) * dk\n",
    "\n",
    "def LJ(epsilon, sigma, r):\n",
    "    return 4.0 * epsilon * ( np.power( (sigma / r), 12) - np.power( (sigma / r), 6) )\n",
    "\n",
    "def HNC(beta, ur, tr):\n",
    "    return np.exp(-beta * ur + tr) - 1.0 - tr\n",
    "\n",
    "def fbt(fr, r, k, dr):\n",
    "    return 2.0 * np.pi * dr * dstn(fr * r[:, np.newaxis, np.newaxis], type=4, axes=[0]) / k[:, np.newaxis, np.newaxis]\n",
    "\n",
    "def ifbt(fk, r, k, dk):\n",
    "    return dk / 4.0 / np.pi / np.pi * idstn(fk * k[:, np.newaxis, np.newaxis], type=4, axes=[0]) / r[:, np.newaxis, np.newaxis]\n",
    "\n",
    "def RISM(cr, w, p, r, k, dr, dk):\n",
    "    N = r.shape[0]\n",
    "    I = np.eye(w.shape[1])\n",
    "    tk = np.zeros_like(cr)\n",
    "    # Transform c(r) to c(k)\n",
    "    ck = fbt(cr, r, k, dr)\n",
    "    # Solve the RISM equation for t(k)\n",
    "    for l in np.arange(0, N): # loop over grid points and perform matmuls for the corresponding matrices\n",
    "        A = np.linalg.inv(I - p @ w[l] @ ck[l])\n",
    "        B = w[l] @ ck[l] @ w[l]\n",
    "        tk[l] = A @ B - ck[l]\n",
    "    # Transform t(k) to t(r)\n",
    "    tr = ifbt(tk, r, k, dk)\n",
    "    return tr\n",
    "\n",
    "def picard_iteration(tolerance, max_step, alpha, initial_tr, beta, ur, wk, rho):\n",
    "    # Set up our loop variable tr\n",
    "    tr = initial_tr\n",
    "    \n",
    "    # Define our counter\n",
    "    step = 0\n",
    "    \n",
    "    while True:\n",
    "        # Store previous t(r)\n",
    "        tr_prev = tr\n",
    "\n",
    "        # t(r) -> c(r) from closure\n",
    "        cr = HNC(beta, ur, tr)\n",
    "\n",
    "        # c(r) -> F(t(r)) from RISM equation\n",
    "        f_tr = RISM(cr, wk, rho, r_grid, k_grid, dr, dk)\n",
    "\n",
    "        # Use Picard iteration to get the new solution\n",
    "        tr_new = alpha * f_tr + (1.0 - alpha) * tr_prev\n",
    "\n",
    "        # Check the L^2 norm between iterates\n",
    "        norm = np.sqrt(np.power((tr_new - tr_prev), 2).sum() * dr)\n",
    "\n",
    "        # Set t(r) to the new t(r) we just computed\n",
    "        tr = tr_new\n",
    "\n",
    "        # Print the iteration step every 100 steps and difference\n",
    "        if step % 100 == 0:\n",
    "            print(\"Iteration: {step} Norm: {norm:.2e}\".format(step=step, norm=norm))\n",
    "\n",
    "        # Test if the difference is below our tolerance\n",
    "        if norm < tolerance:\n",
    "            print(\"Final Iteration: {step} Norm: {norm:.2e}\".format(step=step, norm=norm))\n",
    "            break\n",
    "        \n",
    "        # If we reach max_step, raise an error!\n",
    "        if step == max_step:\n",
    "            print(\"Reached max steps!\")\n",
    "            break\n",
    "\n",
    "        if np.any(np.isnan(tr)):\n",
    "            print(\"Diverged at iteration: {step}\".format(step=step))\n",
    "            break\n",
    "\n",
    "        # Update our step counter. We have a max_step because we don't want this calculation to go \n",
    "        # on forever and freeze our PC.\n",
    "        step += 1\n",
    "    \n",
    "    # Return solved t(r)\n",
    "    return tr"
   ]
  },
  {
   "cell_type": "markdown",
   "id": "eec3b898-bea4-48df-b7a1-c7cf6553166f",
   "metadata": {},
   "source": [
    "## Nitrogen - Introducing Molecular Liquids and the Coulomb Potential"
   ]
  },
  {
   "cell_type": "markdown",
   "id": "3767a000-2627-4404-a8a1-eba07ef33335",
   "metadata": {},
   "source": [
    "We want to look at more than just simple Lennard-Jones fluids. We can consider an uncharged homonuclear diatomic molecule, and nitrogen is a good such example.\n",
    "This is an example problem taken from Hirata and Rossky's work on the Extended RISM formalism which introduced an effective way to incorporate electrostatic interactions into RISM ([Hirata et al. J. Chem. Phys. 1982](https://doi.org/10.1063/1.443606)).\n",
    "\n",
    "\n",
    "Lets define the parameters, system and units."
   ]
  },
  {
   "cell_type": "code",
   "execution_count": 370,
   "id": "52056317-02ba-4bb2-bb6f-82449933ef50",
   "metadata": {
    "tags": []
   },
   "outputs": [],
   "source": [
    "T = 72.0 # Kelvin\n",
    "kB = 8.314462618e-3 # kJ / mol / K\n",
    "beta = 1.0 / T / kB # Thermodynamic Beta\n",
    "ns = 2 # Number of sites\n",
    "\n",
    "n2_epsilon = 44.0 * 8.314462618e-3 # kJ / mol\n",
    "n2_sigma = 3.341 # Angstrom\n",
    "n2_density = 0.01867 # 1 / Angstrom^3\n",
    "n2_bond_length = 1.1 # Angstrom\n",
    "\n",
    "n2_rho = np.diag([n2_density, n2_density])"
   ]
  },
  {
   "cell_type": "markdown",
   "id": "b07f7c3c-ced4-4ca7-938a-362ee9da13b7",
   "metadata": {},
   "source": [
    "Notice that we've defined a bond length here. We need this for computing the $\\omega(k)$.\n",
    "\n",
    "First, we need to define what the intramolecular correlation function looks like $$\\omega_{ij}(k) = \\delta_{ij} + (1 - \\delta_{ij})\\frac{\\sin(kd_{ij})}{kd_{ij}}$$\n",
    "where $\\delta_{ij}$ is the Kronecker delta, and $d_{ij}$ is the distance between site $i$ and $j$.\n",
    "\n",
    "\n",
    "For nitrogen, we can explicitly define these for each $ij$ pair. If we number both nitrogens as $\\textrm{N}_1$ and $\\textrm{N}_2$ and we state the bond length between them to be $1.1\\, Å$ then we can write \n",
    "\n",
    "$$\\omega_{\\textrm{N}_1 \\textrm{N}_1} = \\omega_{\\textrm{N}_2 \\textrm{N}_2} = 1$$\n",
    "\n",
    "$$\\omega_{\\textrm{N}_1 \\textrm{N}_2} = \\omega_{\\textrm{N}_2 \\textrm{N}_1} = \\frac{\\sin(1.1k)}{1.1k}$$"
   ]
  },
  {
   "cell_type": "code",
   "execution_count": 371,
   "id": "eb689e74-9d00-4fd8-94fe-8d3ff80664b0",
   "metadata": {
    "tags": []
   },
   "outputs": [],
   "source": [
    "n2_wk = np.zeros((N, ns, ns))\n",
    "\n",
    "# [:, 0, 0] indicates a slice over the first axis (which we defined as the number of points above, and indexing the last 2 axes explicitly with 0 and 0 (or 1 and 1) etc.\n",
    "n2_wk[:, 0, 0] = n2_wk[:, 1, 1] = np.ones(N)\n",
    "n2_wk[:, 0, 1] = n2_wk[:, 1, 0] = np.sin(k_grid * n2_bond_length) / k_grid / n2_bond_length"
   ]
  },
  {
   "cell_type": "markdown",
   "id": "80b714ad-a089-47ac-90a2-87199ea4361e",
   "metadata": {},
   "source": [
    "We can compute the potential in a similar fashion"
   ]
  },
  {
   "cell_type": "code",
   "execution_count": 372,
   "id": "c86ec22f-ac7e-40c0-8f02-994edeaa2342",
   "metadata": {
    "tags": []
   },
   "outputs": [],
   "source": [
    "n2_ur = np.zeros((N, ns, ns))\n",
    "\n",
    "n2_ur[:, 0, 0] = n2_ur[:, 0, 1] = n2_ur[:, 1, 0] = n2_ur[:, 1, 1] = LJ(n2_epsilon, n2_sigma, r_grid)"
   ]
  },
  {
   "cell_type": "markdown",
   "id": "d23b56d9-5140-4934-adc1-c529b1858156",
   "metadata": {},
   "source": [
    "We can do it like this because the two interaction sites are essentially equivalent, they have the exact same LJ parameters and charge, even if they are in different positions in space. We've accounted for the spatial difference with $\\omega(k)$."
   ]
  },
  {
   "cell_type": "code",
   "execution_count": 373,
   "id": "e81fe500-a44d-49e0-9b73-5f2bdcad4de0",
   "metadata": {
    "tags": []
   },
   "outputs": [
    {
     "data": {
      "image/png": "[encoded data removed]",
      "text/plain": [
       "<Figure size 640x480 with 1 Axes>"
      ]
     },
     "metadata": {},
     "output_type": "display_data"
    }
   ],
   "source": [
    "plt.plot(r_grid, n2_ur[:, 0, 0])\n",
    "plt.ylim([-0.4, 0.2])\n",
    "plt.show()"
   ]
  },
  {
   "cell_type": "markdown",
   "id": "c705a1ac-823f-4a45-b0f3-822c95100b2a",
   "metadata": {},
   "source": [
    "For this problem we want to use a different closure. We'd like to use the Percus-Yevick closure instead which is equivalent to setting the bridge function as $B(r) = \\ln(1 + t(r))$ yielding the closure $$c(r) = e^{-\\beta u(r)}(1 + t(r)) - t(r) - 1$$"
   ]
  },
  {
   "cell_type": "code",
   "execution_count": 374,
   "id": "14b785a9-669e-4f77-b670-dd0715db857b",
   "metadata": {
    "tags": []
   },
   "outputs": [],
   "source": [
    "def PY(beta, ur, tr):\n",
    "    return np.exp(-beta * ur) * (1.0 + tr) - 1.0 - tr"
   ]
  },
  {
   "cell_type": "markdown",
   "id": "90f828b7",
   "metadata": {},
   "source": [
    "We should also refactor our `picard_iteration` function to be able to take arbitrary closures as a function, assuming that the function always takes `beta`, `ur` and `tr` as arguments. \n",
    "\n",
    "This isn't a particularly safe way to write this code (what if we implement a closure that takes more than those 3 arguments?), but for our purposes this will be sufficient."
   ]
  },
  {
   "cell_type": "code",
   "execution_count": 375,
   "id": "fb938762",
   "metadata": {},
   "outputs": [],
   "source": [
    "def picard_iteration(closure, tolerance, max_step, alpha, initial_tr, beta, ur, wk, rho):\n",
    "    # Set up our loop variable tr\n",
    "    tr = initial_tr\n",
    "    \n",
    "    # Define our counter\n",
    "    step = 0\n",
    "    \n",
    "    while True:\n",
    "        # Store previous t(r)\n",
    "        tr_prev = tr\n",
    "\n",
    "        # t(r) -> c(r) from closure\n",
    "        cr = closure(beta, ur, tr)\n",
    "\n",
    "        # c(r) -> F(t(r)) from RISM equation\n",
    "        f_tr = RISM(cr, wk, rho, r_grid, k_grid, dr, dk)\n",
    "\n",
    "        # Use Picard iteration to get the new solution\n",
    "        tr_new = alpha * f_tr + (1.0 - alpha) * tr_prev\n",
    "\n",
    "        # Check the L^2 norm between iterates\n",
    "        norm = np.sqrt(np.power((tr_new - tr_prev), 2).sum() * dr)\n",
    "\n",
    "        # Set t(r) to the new t(r) we just computed\n",
    "        tr = tr_new\n",
    "\n",
    "        # Print the iteration step every 100 steps and difference\n",
    "        if step % 100 == 0:\n",
    "            print(\"Iteration: {step} Norm: {norm:.2e}\".format(step=step, norm=norm))\n",
    "\n",
    "        # Test if the difference is below our tolerance\n",
    "        if norm < tolerance:\n",
    "            print(\"Final Iteration: {step} Norm: {norm:.2e}\".format(step=step, norm=norm))\n",
    "            break\n",
    "        \n",
    "        # If we reach max_step, raise an error!\n",
    "        if step == max_step:\n",
    "            print(\"Reached max steps!\")\n",
    "            break\n",
    "\n",
    "         # If any value is nan then the solver has diverged\n",
    "        if np.any(np.isnan(tr)):\n",
    "            print(\"Diverged at iteration: {step}\".format(step=step))\n",
    "            break\n",
    "\n",
    "        # Update our step counter. We have a max_step because we don't want this calculation to go \n",
    "        # on forever and freeze our PC.\n",
    "        step += 1\n",
    "    \n",
    "    # Return solved t(r)\n",
    "    return tr"
   ]
  },
  {
   "cell_type": "code",
   "execution_count": 376,
   "id": "4e6ce2fc-fed4-42a3-86e7-d70b9ab47a66",
   "metadata": {
    "tags": []
   },
   "outputs": [
    {
     "name": "stdout",
     "output_type": "stream",
     "text": [
      "Current Lambda:  0.5\n",
      "Iteration: 0 Norm: 8.56e+00\n",
      "Iteration: 100 Norm: 2.89e-02\n",
      "Iteration: 200 Norm: 5.70e-03\n"
     ]
    },
    {
     "name": "stdout",
     "output_type": "stream",
     "text": [
      "Iteration: 300 Norm: 1.21e-03\n",
      "Iteration: 400 Norm: 2.60e-04\n",
      "Iteration: 500 Norm: 5.62e-05\n",
      "Iteration: 600 Norm: 1.21e-05\n",
      "Iteration: 700 Norm: 2.62e-06\n",
      "Iteration: 800 Norm: 5.66e-07\n",
      "Iteration: 900 Norm: 1.22e-07\n",
      "Final Iteration: 914 Norm: 9.86e-08\n",
      "Current Lambda:  1.0\n",
      "Iteration: 0 Norm: 6.11e+00\n",
      "Iteration: 100 Norm: 6.03e-03\n",
      "Iteration: 200 Norm: 1.68e-03\n",
      "Iteration: 300 Norm: 4.77e-04\n",
      "Iteration: 400 Norm: 1.36e-04\n",
      "Iteration: 500 Norm: 3.88e-05\n",
      "Iteration: 600 Norm: 1.11e-05\n",
      "Iteration: 700 Norm: 3.16e-06\n",
      "Iteration: 800 Norm: 9.03e-07\n",
      "Iteration: 900 Norm: 2.58e-07\n",
      "Final Iteration: 976 Norm: 9.95e-08\n"
     ]
    }
   ],
   "source": [
    "tolerance = 1e-7\n",
    "max_step = 10000\n",
    "alpha = 0.2\n",
    "initial_tr = np.zeros((N, ns, ns))\n",
    "lambdas = 2\n",
    "\n",
    "for ilam in range(1, lambdas+1):\n",
    "    lam = ilam / lambdas\n",
    "    print(\"Current Lambda: \", lam)\n",
    "    tr = picard_iteration(PY, tolerance, max_step, alpha, initial_tr, beta, lam * n2_ur, n2_wk, n2_rho)\n",
    "    initial_tr = tr\n",
    "\n",
    "cr = PY(beta, n2_ur, tr)"
   ]
  },
  {
   "cell_type": "code",
   "execution_count": 377,
   "id": "055badb5",
   "metadata": {},
   "outputs": [
    {
     "data": {
      "image/png": "[encoded data removed]",
      "text/plain": [
       "<Figure size 640x480 with 1 Axes>"
      ]
     },
     "metadata": {},
     "output_type": "display_data"
    }
   ],
   "source": [
    "hr = tr + cr\n",
    "\n",
    "gr = hr + 1.0\n",
    "\n",
    "plt.plot(r_grid, gr[:, 0, 0])\n",
    "plt.axhline(1, color=\"grey\", linestyle=\"--\", linewidth=2)\n",
    "plt.show()"
   ]
  },
  {
   "cell_type": "markdown",
   "id": "0c48678f",
   "metadata": {},
   "source": [
    "Notice that we've only plotted one of the 4 radial distribution functions we've calculated. We can plot the rest but we'll find that they're all the same!"
   ]
  },
  {
   "cell_type": "code",
   "execution_count": 378,
   "id": "604d2b8e",
   "metadata": {},
   "outputs": [
    {
     "data": {
      "image/png": "[encoded data removed]",
      "text/plain": [
       "<Figure size 640x480 with 1 Axes>"
      ]
     },
     "metadata": {},
     "output_type": "display_data"
    }
   ],
   "source": [
    "plt.plot(r_grid, gr[:, 0, 1])\n",
    "plt.plot(r_grid, gr[:, 1, 0])\n",
    "plt.plot(r_grid, gr[:, 1, 1])\n",
    "plt.axhline(1, color=\"grey\", linestyle=\"--\", linewidth=2)\n",
    "plt.show()"
   ]
  },
  {
   "cell_type": "markdown",
   "id": "4da19ee3",
   "metadata": {},
   "source": [
    "The reason for this is that in the uncharged molecule, all the sites are essentially equivalent. They both have the same interactions with the bulk liquid and so their distributions will be the same."
   ]
  },
  {
   "cell_type": "markdown",
   "id": "e1d48251",
   "metadata": {},
   "source": [
    "We want to model a charged homonuclear diatomic system too, i.e. the above nitrogen molecule but with a charge on each atom. We also want to test that we've implemented our code correctly.\n",
    "\n",
    "Hirata et al. in their original paper noted that the sum of the radial distribution functions in the charged model (which we define as $g^{+-}$ and $g^{++}$. We could also consider $g^{-+}$ and $g^{--}$. Again, due to some of the sites being equivalent, $g^{+-} = g^{-+}$ and $g^{++} = g^{--}$) is equal to twice the radial distribution function (which we define as $g^*$) $$ 2g^* = g^{+-} + g^{++} $$\n",
    "\n",
    "We can use this as a twice to verify the correctness of our implementation. We'll save the $g(r)$ we've just computed into a variable named `gn`"
   ]
  },
  {
   "cell_type": "code",
   "execution_count": 379,
   "id": "119705f8",
   "metadata": {},
   "outputs": [],
   "source": [
    "gn = gr[:, 0, 0]"
   ]
  },
  {
   "cell_type": "markdown",
   "id": "d01344bf",
   "metadata": {},
   "source": [
    "Now, we need to introduce the long-range interactions introduced by the charges.\n",
    "\n",
    "In order to do that, we need to be able to properly model the long-range electrostatics via the Coulomb potential.\n",
    "\n",
    "A problem that arises is properly dealing with the long-range part when performing a Fourier transform - the potential will diverge!\n",
    "\n",
    "A simple solution is to split the potential energy into two parts - a short and long range component.\n",
    "Perform the fast Fourier transform on the short range component but choose the long-range component such that we can analytically transform it.\n",
    "\n",
    "We will choose such a form in a moment, first we should define the model we want to solve.\n",
    "\n",
    "The model is essentially the same as before but we introduce a chage of $0.2\\, e$ and $-0.2\\, e$ on each nitrogen atom."
   ]
  },
  {
   "cell_type": "code",
   "execution_count": 380,
   "id": "53eeb8cb-e1fe-47bb-8d5e-8523b2f41040",
   "metadata": {},
   "outputs": [],
   "source": [
    "T = 72.0 # Kelvin\n",
    "kB = 8.314462618e-3 # kJ / mol / K\n",
    "beta = 1.0 / T / kB # Thermodynamic Beta\n",
    "\n",
    "n2_epsilon = 44.0 * 8.314462618e-3 # kJ / mol\n",
    "n2_sigma = 3.341 # Angstroms\n",
    "n2_density = 0.01867 # 1 / Angstroms^3\n",
    "\n",
    "n2_charge = 0.2 #ec\n",
    "\n",
    "n2_rho = np.diag([n2_density, n2_density])"
   ]
  },
  {
   "cell_type": "markdown",
   "id": "dd1e06ba",
   "metadata": {},
   "source": [
    "We need to implement the Coulomb potential, which is simply $$ U_{\\text{Coulomb}}(r) = \\frac{q_1 q_2}{r} $$\n",
    "\n",
    "We do need to make sure the units are correct, we want the energy to be in kJ/mol. $$ C = \\frac{e^2 \\text{Na}}{4 \\pi \\epsilon_0} \\times10^{-7} $$\n",
    "\n",
    "where\n",
    "\n",
    "$e = 1.602176565\\times10^{-19}\\, A \\cdot s\\\\ \\epsilon_0 = 8.854187817620\\times10^{-12}\\, \\frac{A^2 \\cdot s^4}{kg \\cdot m^3}\\\\ \\text{Na} = 6.02214129\\times10^{23}\\, \\frac{1}{\\text{mol}}$ \n",
    "\n",
    "and the $10^{-7}$ factor is to convert from meters to angstroms."
   ]
  },
  {
   "cell_type": "code",
   "execution_count": 381,
   "id": "561c26a4",
   "metadata": {},
   "outputs": [],
   "source": [
    "ec = 1.602176565e-19 # A*s\n",
    "eps_0 = 8.854187817620e-12 # A^2*s^4/kg/m^3\n",
    "Na = 6.02214129e23 # 1 / mol\n",
    "kc = 1.0 / 4.0 / np.pi / eps_0 # J*m/A^2/s^2\n",
    "kc_a = kc * 1e10 # J*angstrom/A^2/s^2\n",
    "kc_akj = kc_a * 1e-3 # kJ*angstrom/A^2/s^2\n",
    "kc_akjmol = kc_akj * Na # kJ*angstrom/A^2/s^2/mol\n",
    "c = ec * ec * kc_akjmol # kJ*angstrom/mol\n",
    "\n",
    "def Coulomb(q, r):\n",
    "    return c * q / r"
   ]
  },
  {
   "cell_type": "markdown",
   "id": "7a644120",
   "metadata": {},
   "source": [
    "We use the scheme described by [K.C Ng](https://doi.org/10.1063/1.1682399) to analytically deal with the long-range parts of the potential, in order to avoid divergences introduced by the Coulomb potential. The real-space form of the long-range potential is $$u_{\\text{LR}}(r) = \\frac{q_1q_2}{r}\\text{erf}(r)$$ and the Fourier-space form is $$u_{\\text{LR}}(k) = \\frac{4 \\pi q_1 q_2 }{k^2}\\exp\\left(\\frac{-k^2}{4}\\right)$$\n",
    "\n",
    "If the total potential is $$ u(r) = u_{\\text{LJ}}(r) + u_{\\text{Coulomb}}(r) $$ then the short-range component is $$ u_{\\text{SR}}(r) = u(r) - u_{\\text{LR}}(r) $$"
   ]
  },
  {
   "cell_type": "code",
   "execution_count": 382,
   "id": "67003384-1c67-451c-92cf-edb963dfb359",
   "metadata": {},
   "outputs": [],
   "source": [
    "from scipy.special import erf\n",
    "\n",
    "def Ng_real(q, r):\n",
    "    return c * q * erf(r) / r\n",
    "\n",
    "def Ng_fourier(q, k):\n",
    "    return 4.0 * np.pi * c * q * np.exp(-np.power(k, 2.0) / 4.0) / np.power(k, 2.0)\n"
   ]
  },
  {
   "cell_type": "markdown",
   "id": "468ae1e0",
   "metadata": {},
   "source": [
    "Finally, we tabulate the potential into arrays. Notice again the equivalent sites."
   ]
  },
  {
   "cell_type": "code",
   "execution_count": 383,
   "id": "3b0ba6a7",
   "metadata": {},
   "outputs": [],
   "source": [
    "n2_lj = np.zeros((N, ns, ns))\n",
    "n2_cou = np.zeros((N, ns, ns))\n",
    "n2_ng_real = np.zeros((N, ns, ns))\n",
    "n2_ng_fourier = np.zeros((N, ns, ns))\n",
    "\n",
    "n2_lj[:, 0, 0] = n2_lj[:, 0, 1] = n2_lj[:, 1, 0] = n2_lj[:, 1, 1] = LJ(n2_epsilon, n2_sigma, r_grid) # The Lennard-Jones paramters are all the same\n",
    "\n",
    "n2_cou[:, 0, 0] = n2_cou[:, 1, 1] = Coulomb(n2_charge * n2_charge, r_grid) # The ++ and -- potentials are the same\n",
    "n2_cou[:, 0, 1] = n2_cou[:, 1, 0] = Coulomb(-n2_charge * n2_charge, r_grid) # The +- and -+ potentials are the same\n",
    "\n",
    "n2_ng_real[:, 0, 0] = n2_ng_real[:, 1, 1] = Ng_real(n2_charge * n2_charge, r_grid)\n",
    "n2_ng_real[:, 0, 1] = n2_ng_real[:, 1, 0] = Ng_real(-n2_charge * n2_charge, r_grid)\n",
    "\n",
    "n2_ng_fourier[:, 0, 0] = n2_ng_fourier[:, 1, 1] = Ng_fourier(n2_charge * n2_charge, k_grid)\n",
    "n2_ng_fourier[:, 0, 1] = n2_ng_fourier[:, 1, 0] = Ng_fourier(-n2_charge * n2_charge, k_grid)"
   ]
  },
  {
   "cell_type": "markdown",
   "id": "3f738723",
   "metadata": {},
   "source": [
    "We are going to work with $U_{\\text{SR}}(r)$ when dealing with the closure but when we get to the integral equation, we want to reintroduce the long-range component in Fourier-space. If we compute the short-range direct correlation function from the closure (using the short-range energy), we can the get the full direct correlation back with $$ c(r)= c_{\\text{SR}}(r) - \\beta u_{\\text{LR}}(r) $$\n",
    "\n",
    "Once we obtain the new $t(r)$ from the integral equation, we can remove it again with $$ t(r)= t_{\\text{SR}}(r) - \\beta u_{\\text{LR}}(r) $$\n",
    "\n",
    "Lets refactor the `RISM` function and the `picard_iteration` function to account for this."
   ]
  },
  {
   "cell_type": "code",
   "execution_count": 384,
   "id": "6e4ebc96",
   "metadata": {},
   "outputs": [],
   "source": [
    "def RISM(cr, vk_lr, w, p, r, k, dr, dk):\n",
    "    N = r.shape[0]\n",
    "    I = np.eye(w.shape[1])\n",
    "    tk = np.zeros_like(cr)\n",
    "    # Transform c(r) to c(k)\n",
    "    ck = fbt(cr, r, k, dr)\n",
    "\n",
    "    ck -= vk_lr\n",
    "\n",
    "    # Solve the RISM equation for t(k)\n",
    "    for l in np.arange(0, N):\n",
    "        A = np.linalg.inv(I - p @ w[l] @ ck[l])\n",
    "        B = w[l] @ ck[l] @ w[l]\n",
    "        tk[l] = A @ B - ck[l]\n",
    "    \n",
    "    tk -= vk_lr\n",
    "    \n",
    "    # Transform t(k) to t(r)\n",
    "    tr = ifbt(tk, r, k, dk)\n",
    "    return tr\n",
    "\n",
    "def picard_iteration(closure, tolerance, max_step, alpha, initial_tr, beta, ur_sr, uk_lr,  wk, rho):\n",
    "    # Set up our loop variable tr\n",
    "    tr = initial_tr\n",
    "    \n",
    "    # Define our counter\n",
    "    step = 0\n",
    "    \n",
    "    while True:\n",
    "        # Store previous t(r)\n",
    "        tr_prev = tr\n",
    "\n",
    "        # t(r) -> c(r) from closure\n",
    "        cr = closure(beta, ur_sr, tr)\n",
    "\n",
    "        # c(r) -> F(t(r)) from RISM equation\n",
    "        f_tr = RISM(cr, beta * uk_lr, wk, rho, r_grid, k_grid, dr, dk)\n",
    "\n",
    "        # Use Picard iteration to get the new solution\n",
    "        tr_new = alpha * f_tr + (1.0 - alpha) * tr_prev\n",
    "\n",
    "         # Check the L^2 norm between iterates\n",
    "        norm = np.sqrt(np.power((tr_new - tr_prev), 2).sum() * dr)\n",
    "\n",
    "        # Set t(r) to the new t(r) we just computed\n",
    "        tr = tr_new\n",
    "\n",
    "        # Print the iteration step every 100 steps and difference\n",
    "        if step % 100 == 0:\n",
    "            print(\"Iteration: {step} Norm: {norm:.2e}\".format(step=step, norm=norm))\n",
    "\n",
    "        # Test if the difference is below our tolerance\n",
    "        if norm < tolerance:\n",
    "            print(\"Final Iteration: {step} Norm: {norm:.2e}\".format(step=step, norm=norm))\n",
    "            break\n",
    "        \n",
    "        # If we reach max_step, raise an error!\n",
    "        if step == max_step:\n",
    "            print(\"Reached max steps!\")\n",
    "            break\n",
    "\n",
    "        # If any value is nan then the solver has diverged\n",
    "        if np.any(np.isnan(tr)):\n",
    "            print(\"Diverged at iteration: {step}\".format(step=step))\n",
    "            break\n",
    "\n",
    "        # Update our step counter. We have a max_step because we don't want this calculation to go \n",
    "        # on forever and freeze our PC.\n",
    "        step += 1\n",
    "    \n",
    "    # Return solved t(r)\n",
    "    return tr"
   ]
  },
  {
   "cell_type": "markdown",
   "id": "00310bee",
   "metadata": {},
   "source": [
    "Lets compute the potentials we need"
   ]
  },
  {
   "cell_type": "code",
   "execution_count": 385,
   "id": "cecafc65",
   "metadata": {},
   "outputs": [],
   "source": [
    "n2_ur = n2_lj + n2_cou\n",
    "n2_ur_sr = n2_ur - n2_ng_real"
   ]
  },
  {
   "cell_type": "markdown",
   "id": "f550ad66",
   "metadata": {},
   "source": [
    "and start the solver..."
   ]
  },
  {
   "cell_type": "code",
   "execution_count": 386,
   "id": "a69df890",
   "metadata": {},
   "outputs": [
    {
     "name": "stdout",
     "output_type": "stream",
     "text": [
      "Current Lambda:  1.0\n",
      "Iteration: 0 Norm: 5.91e+00\n",
      "Iteration: 100 Norm: 1.92e-01\n"
     ]
    },
    {
     "name": "stdout",
     "output_type": "stream",
     "text": [
      "Iteration: 200 Norm: 1.52e-01\n",
      "Iteration: 300 Norm: 1.25e-01\n",
      "Iteration: 400 Norm: 9.68e-02\n",
      "Iteration: 500 Norm: 7.06e-02\n",
      "Iteration: 600 Norm: 4.83e-02\n",
      "Iteration: 700 Norm: 3.11e-02\n",
      "Iteration: 800 Norm: 1.92e-02\n",
      "Iteration: 900 Norm: 1.14e-02\n",
      "Iteration: 1000 Norm: 6.66e-03\n",
      "Iteration: 1100 Norm: 3.84e-03\n",
      "Iteration: 1200 Norm: 2.20e-03\n",
      "Iteration: 1300 Norm: 1.25e-03\n",
      "Iteration: 1400 Norm: 7.12e-04\n",
      "Iteration: 1500 Norm: 4.04e-04\n",
      "Iteration: 1600 Norm: 2.29e-04\n",
      "Iteration: 1700 Norm: 1.30e-04\n",
      "Iteration: 1800 Norm: 7.35e-05\n",
      "Iteration: 1900 Norm: 4.17e-05\n",
      "Iteration: 2000 Norm: 2.36e-05\n",
      "Iteration: 2100 Norm: 1.34e-05\n",
      "Iteration: 2200 Norm: 7.57e-06\n",
      "Iteration: 2300 Norm: 4.29e-06\n",
      "Iteration: 2400 Norm: 2.43e-06\n",
      "Iteration: 2500 Norm: 1.38e-06\n",
      "Iteration: 2600 Norm: 7.80e-07\n",
      "Iteration: 2700 Norm: 4.42e-07\n",
      "Iteration: 2800 Norm: 2.50e-07\n",
      "Iteration: 2900 Norm: 1.42e-07\n",
      "Final Iteration: 2962 Norm: 9.97e-08\n"
     ]
    }
   ],
   "source": [
    "tolerance = 1e-7\n",
    "max_step = 10000\n",
    "alpha = 0.2\n",
    "initial_tr = np.zeros((N, ns, ns))\n",
    "lambdas = 1\n",
    "\n",
    "for ilam in range(1, lambdas+1):\n",
    "    lam = ilam / lambdas\n",
    "    print(\"Current Lambda: \", lam)\n",
    "    tr = picard_iteration(PY, tolerance, max_step, alpha, initial_tr, beta, lam * n2_ur_sr, lam * n2_ng_fourier, n2_wk, n2_rho)\n",
    "    initial_tr = tr\n",
    "\n",
    "cr = PY(beta, n2_ur_sr, tr) - beta * n2_ng_real\n",
    "tr += beta * n2_ng_real"
   ]
  },
  {
   "cell_type": "code",
   "execution_count": 387,
   "id": "97f7698c",
   "metadata": {},
   "outputs": [
    {
     "data": {
      "image/png": "[encoded data removed]",
      "text/plain": [
       "<Figure size 640x480 with 1 Axes>"
      ]
     },
     "metadata": {},
     "output_type": "display_data"
    }
   ],
   "source": [
    "hr = tr + cr\n",
    "\n",
    "gr = hr + 1.0\n",
    "\n",
    "plt.plot(r_grid, gr[:, 0, 0])\n",
    "plt.plot(r_grid, gr[:, 0, 1])\n",
    "plt.axhline(1, color=\"grey\", linestyle=\"--\", linewidth=2)\n",
    "plt.show()"
   ]
  },
  {
   "cell_type": "markdown",
   "id": "be1aaae0",
   "metadata": {},
   "source": [
    "Now lets verify our result is correct. As we stated before $$ 2g^* = g^{+-} + g^{++} $$\n",
    "We've saved $g^*$ in `gn`. We'll save $g^{+-}$ and $g^{++}$ in `gpn` and `gpp` respectively and test it with `np.allclose`"
   ]
  },
  {
   "cell_type": "code",
   "execution_count": 388,
   "id": "117b56f9",
   "metadata": {},
   "outputs": [
    {
     "data": {
      "text/plain": [
       "True"
      ]
     },
     "execution_count": 388,
     "metadata": {},
     "output_type": "execute_result"
    }
   ],
   "source": [
    "gpp = gr[:, 0, 0]\n",
    "gpn = gr[:, 0, 1]\n",
    "\n",
    "np.allclose(2 * gn, gpp + gpn, atol=1e-2)"
   ]
  },
  {
   "cell_type": "markdown",
   "id": "1b91de06",
   "metadata": {},
   "source": [
    "We set the absolute tolerance (`atol`) to 0.01 because the original paper reported that the they were within 1% accuracy.\n",
    "Lets plot $2g^*$ and $g^{+-} + g^{++}$ to see if they match."
   ]
  },
  {
   "cell_type": "code",
   "execution_count": 389,
   "id": "12aecd4f",
   "metadata": {},
   "outputs": [
    {
     "data": {
      "image/png": "[encoded data removed]",
      "text/plain": [
       "<Figure size 640x480 with 1 Axes>"
      ]
     },
     "metadata": {},
     "output_type": "display_data"
    }
   ],
   "source": [
    "plt.plot(r_grid, gn, label = \"g*\")\n",
    "plt.plot(r_grid, (gpp + gpn) / 2.0, linestyle=\":\", label=\"(g⁺⁺ + g⁺⁻) / 2\")\n",
    "plt.axhline(1, color=\"grey\", linestyle=\"--\", linewidth=2)\n",
    "plt.xlim([0, 9])\n",
    "plt.legend()\n",
    "plt.show()"
   ]
  },
  {
   "cell_type": "markdown",
   "id": "9be19588",
   "metadata": {},
   "source": [
    "They do! We've verified that we've implemented the Coulombic interactions and intramolecular correlation function correctly."
   ]
  }
 ],
 "metadata": {
  "kernelspec": {
   "display_name": "Python 3 (ipykernel)",
   "language": "python",
   "name": "python3"
  },
  "language_info": {
   "codemirror_mode": {
    "name": "ipython",
    "version": 3
   },
   "file_extension": ".py",
   "mimetype": "text/x-python",
   "name": "python",
   "nbconvert_exporter": "python",
   "pygments_lexer": "ipython3",
   "version": "3.9.17"
  }
 },
 "nbformat": 4,
 "nbformat_minor": 5
}
