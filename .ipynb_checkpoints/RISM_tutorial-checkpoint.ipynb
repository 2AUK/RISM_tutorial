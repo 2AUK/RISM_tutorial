{
 "cells": [
  {
   "cell_type": "markdown",
   "id": "5e929689-952b-4b00-b8eb-d6df4a0a5678",
   "metadata": {},
   "source": [
    "# RISM - A Gentle Introduction"
   ]
  },
  {
   "cell_type": "markdown",
   "id": "1cc3e0ab-8b1a-4a4c-9fcd-10b2458cd7d0",
   "metadata": {},
   "source": [
    "We are going to write a Python implementation of the extended RISM equation with the goal of computing the direct, indirect and total correlation function along with the radial distribution function."
   ]
  },
  {
   "cell_type": "markdown",
   "id": "43050c62-e1bb-46f3-a09e-bbc8871af275",
   "metadata": {},
   "source": [
    "First, we import the libraries we will be needing:"
   ]
  },
  {
   "cell_type": "code",
   "execution_count": 1,
   "id": "18a17f90-70f6-422e-b1cc-d0303bbe78f3",
   "metadata": {},
   "outputs": [],
   "source": [
    "import numpy as np\n",
    "from scipy.fftpack import dstn, idstn\n",
    "from scipy.special import erf\n",
    "import matplotlib.pyplot as plt"
   ]
  },
  {
   "cell_type": "markdown",
   "id": "cb1166f7-b064-45b0-b87f-b2ad0d00ee24",
   "metadata": {},
   "source": [
    "First, we need to set up our problem domain. While the RISM equations are written as continuous functions $r$ (e.g. $c(r)$), computationally we solve them on a discretised grid.\n",
    "\n",
    "We'll set up a discrete domain of length (or radius since we are working with spherically symmetric functions) $r = 15\\, Å$ partitioned into $N = 100$ points. The resulting grid spacing is given by $\\Delta r = \\frac{r}{N}$."
   ]
  },
  {
   "cell_type": "code",
   "execution_count": 2,
   "id": "97cc8d43-e8e2-422d-bfb6-82f92ada9573",
   "metadata": {},
   "outputs": [],
   "source": [
    "r = 15.0\n",
    "N = 100\n",
    "dr = r / N"
   ]
  },
  {
   "cell_type": "markdown",
   "id": "76ca9db6-c7e3-47f2-a548-b3951c60df83",
   "metadata": {},
   "source": [
    "We also want to set up a grid spacing for our Fourier-space grid such that $\\Delta r \\Delta k = \\frac{\\pi}{N}$"
   ]
  },
  {
   "cell_type": "code",
   "execution_count": 3,
   "id": "1879c0c5-94e4-43b2-bc3b-b538151c1585",
   "metadata": {},
   "outputs": [],
   "source": [
    "dk = 2.0 * np.pi / (2.0 * N * dr)"
   ]
  },
  {
   "cell_type": "markdown",
   "id": "19288397-40c9-438a-bd93-cf3568b6a87f",
   "metadata": {},
   "source": [
    "Lets check the equality we stated above:"
   ]
  },
  {
   "cell_type": "code",
   "execution_count": 4,
   "id": "bf0060ec-adb2-4b14-bf99-c1ae161f28ee",
   "metadata": {},
   "outputs": [
    {
     "data": {
      "text/plain": [
       "True"
      ]
     },
     "execution_count": 4,
     "metadata": {},
     "output_type": "execute_result"
    }
   ],
   "source": [
    "np.isclose(dr * dk, np.pi / N)"
   ]
  },
  {
   "cell_type": "markdown",
   "id": "2971c660-9d79-48d1-b188-7e59c83bf24c",
   "metadata": {},
   "source": [
    "We use `np.isclose()` here because we are comparing floating point numbers. Using `==` would not work since there is always some precision loss with floats. You need to compared them within tolerances instead.\n",
    "\n",
    "We can use these to generate our real and Fourier-space midpoint grids."
   ]
  },
  {
   "cell_type": "code",
   "execution_count": 5,
   "id": "7fdb7ab7-1798-4bc6-822a-9927a56f56c4",
   "metadata": {},
   "outputs": [],
   "source": [
    "r_grid = np.arange(0.5, N, 1.0) * dr\n",
    "k_grid = np.arange(0.5, N, 1.0) * dk"
   ]
  },
  {
   "cell_type": "markdown",
   "id": "2c1fc071-4a19-405b-9883-101bfd6bff4e",
   "metadata": {},
   "source": [
    "Now that we have our problem domain set up, we can focus on solving a particular problem. We're going to look at solving RISM for a simple Lennard-Jones Argon liquid system.\n",
    "\n",
    "We first need to set up the thermodynamical state of the system and the unit systems we're going to use. We'll be working with energies in kJ / mol."
   ]
  },
  {
   "cell_type": "code",
   "execution_count": 6,
   "id": "594d458d-5e7e-41e3-b3d9-8e51a6c67f05",
   "metadata": {},
   "outputs": [],
   "source": [
    "T = 300.0 # Kelvin\n",
    "kB = 8.314462618e-3 # kJ / mol / K\n",
    "beta = 1 / T / kB # Thermodynamic Beta"
   ]
  },
  {
   "cell_type": "markdown",
   "id": "b22e027e-3dc7-4e1e-bac9-134396ff3f8c",
   "metadata": {},
   "source": [
    "We also need to define the parameters and coordinates for Argon, as well as its number density. "
   ]
  },
  {
   "cell_type": "code",
   "execution_count": 7,
   "id": "420894b5-8233-4ae3-a487-ef436061fc88",
   "metadata": {},
   "outputs": [],
   "source": [
    "params = [[0.99773551416, 3.4, 0.0]]\n",
    "epsilon = 0.99773551416\n",
    "sigma = 3.4\n",
    "coords = np.array([0.0, 0.0, 0.0])\n",
    "rho = 0.021017479720736955"
   ]
  },
  {
   "cell_type": "markdown",
   "id": "2df16806-3053-4f18-9e36-99b5d8d652c1",
   "metadata": {},
   "source": [
    "We need to tabulate the LJ potential with the above parameters. We define a function to evaluate the potential over a grid, and then we plot the potential."
   ]
  },
  {
   "cell_type": "code",
   "execution_count": 8,
   "id": "4041ca68-9477-44f1-8dd5-9fb46128f8d3",
   "metadata": {},
   "outputs": [],
   "source": [
    "def LJ(epsilon, sigma, r):\n",
    "    return 4.0 * epsilon * ( np.power( (sigma / r), 12) - np.power( (sigma / r), 6) )"
   ]
  },
  {
   "cell_type": "code",
   "execution_count": 9,
   "id": "b8161d69-4283-4ca8-a45b-7f1a31e516bf",
   "metadata": {},
   "outputs": [
    {
     "data": {
      "image/png": "[encoded data removed]",
      "text/plain": [
       "<Figure size 640x480 with 1 Axes>"
      ]
     },
     "metadata": {},
     "output_type": "display_data"
    }
   ],
   "source": [
    "ur = LJ(epsilon, sigma, r_grid)\n",
    "\n",
    "plt.plot(r_grid, ur)\n",
    "plt.ylim([-1.5, 1.0])\n",
    "plt.show()"
   ]
  },
  {
   "cell_type": "markdown",
   "id": "51afe76f-9b93-496e-aaa1-b4d87865cf65",
   "metadata": {},
   "source": [
    "One aspect of the RISM equation that we need to consider is the intramolecular correlation function $\\omega(k)$. In the case of a simple liquid, $\\omega(k) = 1$, in which case we the RISM equation reduces to the Ornstein-Zernike (OZ) equation.\n",
    "We'll implement the full RISM equation, but we will set $\\omega(k)$ to 1 for the case our current system."
   ]
  },
  {
   "cell_type": "code",
   "execution_count": 10,
   "id": "d252ba9f-5ccd-4efc-930a-00d31cc92d1c",
   "metadata": {},
   "outputs": [],
   "source": [
    "wk = np.ones(N)"
   ]
  },
  {
   "cell_type": "markdown",
   "id": "bc6c6720-0ee0-4604-8e1a-37ad9cdb88aa",
   "metadata": {},
   "source": [
    "Another aspect is the closure. The closure is what relates our unknowns ($h(r)$ and $c(r)$), in a sense \"closing\" the RISM equation.\n",
    "Generally the closure in terms of $c(r)$ is $$ c(r) = e^{-\\beta u(r) + t(r) - B(r)} - t(r) - 1 $$ where $B(r)$ is the bridge function - something that we need to approximate - and $t(r) = h(r) - c(r)$ is the indirect correlation function.\n",
    "\n",
    "We're going to use the simplest approximation, $B(r) = 0$. This is the Hypernetted Chain (HNC) closure."
   ]
  },
  {
   "cell_type": "code",
   "execution_count": 11,
   "id": "ec371707-7ab8-4875-89ca-da7f5a3d292c",
   "metadata": {},
   "outputs": [],
   "source": [
    "def HNC(beta, ur, tr):\n",
    "    return np.exp(-beta * ur + tr) - 1.0 - tr"
   ]
  },
  {
   "cell_type": "markdown",
   "id": "e0f5f445-e7ec-465e-9829-dddd494cd9c1",
   "metadata": {},
   "source": [
    "The final detail before we implement the RISM equation is that we need to be able to transform our correlation functions into Fourier-space and back.\n",
    "We use the Fourier transforms of spherically symmetric functions:\n",
    "\n",
    "$$ f(k) = 4 \\pi \\int_0^\\infty f(r) r^2 \\frac{\\sin(kr)}{kr} dr $$\n",
    "\n",
    "and the inverse:\n",
    "\n",
    "$$ f(r) = \\frac{1}{2 \\pi^2} \\int_0^\\infty f(k) k^2 \\frac{\\sin(kr)}{kr} dk $$\n",
    "\n",
    "The function $J_0(kr) = \\frac{\\sin(kr)}{kr}$ is the zeroth-order spherical Bessel function of the first kind, so sometimes these transforms are called Fourier-Bessel (or Hankel) transforms.\n",
    "\n",
    "This can neatly be related to the Fourier sine transform:\n",
    "\n",
    "$$ f(k) = \\int_0^\\infty f(r) \\sin(kr) dr $$\n",
    "\n",
    "$$ f(r) = \\frac{2}{\\pi} \\int_0^\\infty f(k) \\sin(kr) dk $$\n",
    "\n",
    "So that the fourier transform of the spherically symmetric function $f(r)$ is just the Fourier sine transform of the function $f(r) \\cdot r$\n",
    "\n",
    "Scipy has discrete sine transform functions we can use."
   ]
  },
  {
   "cell_type": "code",
   "execution_count": 12,
   "id": "44e20eaa-2675-4e6e-a373-4558e8b3005a",
   "metadata": {},
   "outputs": [],
   "source": [
    "def fbt(fr, r, k, dr):\n",
    "    return 2.0 * np.pi * dr * dstn(fr * r, type=4, axes=[0]) / k\n",
    "\n",
    "def ifbt(fk, r, k, dk):\n",
    "    return dk / 4.0 / np.pi / np.pi * idstn(fk * k, type=4, axes=[0]) / r"
   ]
  },
  {
   "cell_type": "markdown",
   "id": "f2209dda-8a0a-4864-b8b3-76b9e29f7d67",
   "metadata": {},
   "source": [
    "We have all the key parts to solve the RISM equation now.\n",
    "The equation in Fourier-space is $$h(k) = \\omega(k) * c(k) * \\omega(k) - \\rho * \\omega(k) * c(k) * h(k)$$\n",
    "We can rearrange this for $h(k)$ $$h(k) = [1 - \\rho * \\omega(k) * c(k)]^{-1} \\omega(k) * c(k) * \\omega(k)$$\n",
    "\n",
    "For brevity, I'm going to drop the function argument $(k)$\n",
    "$$h = [1 - \\rho\\omega c]^{-1} \\omega c \\omega$$\n",
    "\n",
    "We're interested in calculating the indirect correlation function $t(r)$ $$t = [1 - \\rho\\omega c]^{-1} \\omega c \\omega - c$$"
   ]
  },
  {
   "cell_type": "code",
   "execution_count": 13,
   "id": "539abfca-a1fb-4915-a3cf-9be460f3418c",
   "metadata": {},
   "outputs": [],
   "source": [
    "def RISM(cr, w, p, r, k, dr, dk):\n",
    "    # Transform c(r) to c(k)\n",
    "    ck = fbt(cr, r, k, dr)\n",
    "    # Solve the RISM equation for t(k)\n",
    "    tk = w * ck * w / (1.0 - p * w * ck) - ck\n",
    "    # Transform t(k) to t(r)\n",
    "    tr = ifbt(tk, r, k, dk)\n",
    "    return tr"
   ]
  },
  {
   "cell_type": "markdown",
   "id": "30929a74-6da7-4b14-8128-31761f502679",
   "metadata": {},
   "source": [
    "We have all the equations we need to perform a single closure and RISM calculation. Now we need to numerically solve this problem.\n",
    "\n",
    "The RISM equation is an integro-differential equation, and is posed to be solved using fixed-point iteration (i.e. the self-consistent approach used in electronic structure theory e.g. Hartree-Fock).\n",
    "\n",
    "We set some initial guess for $t_0(r)$, and use that as input into the closure and RISM equation, and get a new value out. If we represent the closure and RISM equation as an operator $F(\\cdot)$ on $t(r)$ then we get a value of $F(t(r))$.\n",
    "\n",
    "We can then mix this new value with our initial value to obtain a new solution for $t(r)$ $$t_1(r) = \\alpha F(t_0(r))  + (1 - \\alpha) t_0(r) $$\n",
    "\n",
    "More generally $$t_{k+1}(r) = \\alpha F(t_k(r)) + (1 + \\alpha) t_k(r)$$\n",
    "\n",
    "where $\\alpha$ is a dampening parameter. The lower this is, the stiffer our iteration process is (because we're including more of the previous solution than the current).\n",
    "We keep iterating this and check the difference between current and previous solutions until that difference is below some tolerance $\\zeta$ $$ |t_{k+1}(r) - t_{j}(r)| < \\zeta $$\n",
    "\n",
    "Once the difference is below this tolerance, the calculation is finished.\n",
    "\n",
    "We use an initial guess of $t(r) = 0$ and a tolerance of $\\zeta = 1\\times10^{-8}$"
   ]
  },
  {
   "cell_type": "code",
   "execution_count": 14,
   "id": "0036c47a-bd92-4463-85e5-48b26d4cf3c4",
   "metadata": {},
   "outputs": [
    {
     "name": "stdout",
     "output_type": "stream",
     "text": [
      "Iteration: 0 Diff: 0.06714724847113958\n",
      "Iteration: 1 Diff: 0.6074696113840574\n",
      "Iteration: 2 Diff: 0.06042672098862835\n",
      "Iteration: 3 Diff: 0.25710453723703774\n",
      "Iteration: 4 Diff: 0.03691966609069286\n",
      "Iteration: 5 Diff: 0.12302245366645614\n",
      "Iteration: 6 Diff: 0.01939994402126663\n",
      "Iteration: 7 Diff: 0.05560207665595962\n",
      "Iteration: 8 Diff: 0.009503940663800226\n",
      "Iteration: 9 Diff: 0.023544055691571586\n",
      "Iteration: 10 Diff: 0.004377061269876553\n",
      "Iteration: 11 Diff: 0.009259166692879295\n",
      "Iteration: 12 Diff: 0.0018920145086183116\n",
      "Iteration: 13 Diff: 0.0034375930246069997\n",
      "Iteration: 14 Diff: 0.000759343065313528\n",
      "Iteration: 15 Diff: 0.001166010235955528\n",
      "Iteration: 16 Diff: 0.00027533444159380527\n",
      "Iteration: 17 Diff: 0.00033883976623583223\n",
      "Iteration: 18 Diff: 8.389944284301065e-05\n",
      "Iteration: 19 Diff: 9.974496196544363e-05\n",
      "Iteration: 20 Diff: 0.00010839932995654333\n",
      "Iteration: 21 Diff: 2.862567530324768e-05\n",
      "Iteration: 22 Diff: 9.282331630455776e-05\n",
      "Iteration: 23 Diff: 8.782438850038488e-06\n",
      "Iteration: 24 Diff: 6.036439851575537e-05\n",
      "Iteration: 25 Diff: 6.699699407211601e-06\n",
      "Iteration: 26 Diff: 3.440277110466905e-05\n",
      "Iteration: 27 Diff: 4.4290032599481055e-06\n",
      "Iteration: 28 Diff: 1.7984748499233483e-05\n",
      "Iteration: 29 Diff: 2.5610352585581087e-06\n",
      "Iteration: 30 Diff: 8.783281331359305e-06\n",
      "Iteration: 31 Diff: 1.3679601132687846e-06\n",
      "Iteration: 32 Diff: 4.032312662105575e-06\n",
      "Iteration: 33 Diff: 6.801876669404461e-07\n",
      "Iteration: 34 Diff: 1.7367126019518508e-06\n",
      "Iteration: 35 Diff: 3.176578349806114e-07\n",
      "Iteration: 36 Diff: 6.950276790762544e-07\n",
      "Iteration: 37 Diff: 1.3936725609675626e-07\n",
      "Iteration: 38 Diff: 2.6188865775989e-07\n",
      "Iteration: 39 Diff: 5.6963770506124334e-08\n",
      "Iteration: 40 Diff: 9.110975807136157e-08\n",
      "Iteration: 41 Diff: 2.1211257389408544e-08\n",
      "Iteration: 42 Diff: 2.767770701517236e-08\n",
      "Iteration: 43 Diff: 6.796600671155062e-09\n"
     ]
    }
   ],
   "source": [
    "# Setting up parameters for iterations\n",
    "tolerance = 1e-8\n",
    "max_steps = 1000\n",
    "step = 0\n",
    "alpha = 0.5\n",
    "\n",
    "# Setting up initial guess\n",
    "tr = np.zeros(N)\n",
    "\n",
    "while step < max_steps:\n",
    "    # Store previous t(r)\n",
    "    tr_prev = tr\n",
    "\n",
    "    # t(r) -> c(r) from closure\n",
    "    cr = HNC(beta, ur, tr)\n",
    "\n",
    "    # c(r) -> F(t(r)) from RISM equation\n",
    "    f_tr = RISM(cr, wk, rho, r_grid, k_grid, dr, dk)\n",
    "\n",
    "    tr_new = alpha * f_tr - (1.0 - alpha) * tr_prev\n",
    "\n",
    "    diff = dr * np.sqrt(np.power(tr_new - tr_prev, 2.0).sum()) / N\n",
    "\n",
    "    tr = tr_new\n",
    "\n",
    "    print(\"Iteration: {step} Diff: {diff}\".format(step=step, diff=diff))\n",
    "\n",
    "    if diff < tolerance:\n",
    "        break\n",
    "\n",
    "    step += 1"
   ]
  },
  {
   "cell_type": "markdown",
   "id": "c4b95f0a-7ab6-4d43-8094-922c5b53ea1f",
   "metadata": {},
   "source": [
    "Once solved, we can use the calculated correlation functions to calculate the radial distribution function and plot it."
   ]
  },
  {
   "cell_type": "code",
   "execution_count": 15,
   "id": "a8ae7f5f-578e-4bdb-8b4d-c3d97faceeb0",
   "metadata": {},
   "outputs": [
    {
     "data": {
      "image/png": "[encoded data removed]",
      "text/plain": [
       "<Figure size 640x480 with 1 Axes>"
      ]
     },
     "metadata": {},
     "output_type": "display_data"
    }
   ],
   "source": [
    "# Get c(r) from the computed t(r)\n",
    "cr = HNC(beta, ur, tr)\n",
    "\n",
    "# Get h(r)\n",
    "hr = tr + cr\n",
    "\n",
    "# Get and plot g(r)\n",
    "\n",
    "gr = hr + 1\n",
    "\n",
    "plt.plot(r_grid, gr)\n",
    "plt.show()"
   ]
  },
  {
   "cell_type": "code",
   "execution_count": null,
   "id": "b6e13f57-3211-4cc4-bb7b-ca9929caaec1",
   "metadata": {},
   "outputs": [],
   "source": []
  }
 ],
 "metadata": {
  "kernelspec": {
   "display_name": "Python 3 (ipykernel)",
   "language": "python",
   "name": "python3"
  },
  "language_info": {
   "codemirror_mode": {
    "name": "ipython",
    "version": 3
   },
   "file_extension": ".py",
   "mimetype": "text/x-python",
   "name": "python",
   "nbconvert_exporter": "python",
   "pygments_lexer": "ipython3",
   "version": "3.9.17"
  }
 },
 "nbformat": 4,
 "nbformat_minor": 5
}
