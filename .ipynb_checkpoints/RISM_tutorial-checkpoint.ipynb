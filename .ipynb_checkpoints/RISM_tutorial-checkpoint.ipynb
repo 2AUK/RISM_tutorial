{
 "cells": [
  {
   "cell_type": "markdown",
   "id": "5e929689-952b-4b00-b8eb-d6df4a0a5678",
   "metadata": {},
   "source": [
    "# RISM - A Gentle Introduction"
   ]
  },
  {
   "cell_type": "markdown",
   "id": "1cc3e0ab-8b1a-4a4c-9fcd-10b2458cd7d0",
   "metadata": {},
   "source": [
    "We are going to write a Python implementation of the extended RISM equation with the goal of computing the direct, indirect and total correlation function along with the radial distribution function."
   ]
  },
  {
   "cell_type": "markdown",
   "id": "43050c62-e1bb-46f3-a09e-bbc8871af275",
   "metadata": {},
   "source": [
    "First, we import the libraries we will be needing:"
   ]
  },
  {
   "cell_type": "code",
   "execution_count": 1,
   "id": "18a17f90-70f6-422e-b1cc-d0303bbe78f3",
   "metadata": {},
   "outputs": [],
   "source": [
    "import numpy as np\n",
    "from scipy.fftpack import dstn, idstn\n",
    "from scipy.special import erf\n",
    "import matplotlib.pyplot as plt"
   ]
  },
  {
   "cell_type": "markdown",
   "id": "cb1166f7-b064-45b0-b87f-b2ad0d00ee24",
   "metadata": {},
   "source": [
    "First, we need to set up our problem domain. While the RISM equations are written as continuous functions $r$ (e.g. $c(r)$), computationally we solve them on a discretised grid.\n",
    "\n",
    "We'll set up a discrete domain of length (or radius since we are working with spherically symmetric functions) $r = 15\\, Å$ partitioned into $N = 100$ points. The resulting grid spacing is given by $\\Delta r = \\frac{r}{N}$."
   ]
  },
  {
   "cell_type": "code",
   "execution_count": 2,
   "id": "97cc8d43-e8e2-422d-bfb6-82f92ada9573",
   "metadata": {},
   "outputs": [],
   "source": [
    "r = 20.48\n",
    "N = 1024\n",
    "dr = r / N"
   ]
  },
  {
   "cell_type": "markdown",
   "id": "76ca9db6-c7e3-47f2-a548-b3951c60df83",
   "metadata": {},
   "source": [
    "We also want to set up a grid spacing for our Fourier-space grid such that $\\Delta r \\Delta k = \\frac{\\pi}{N}$"
   ]
  },
  {
   "cell_type": "code",
   "execution_count": 3,
   "id": "1879c0c5-94e4-43b2-bc3b-b538151c1585",
   "metadata": {},
   "outputs": [],
   "source": [
    "dk = 2.0 * np.pi / (2.0 * N * dr)"
   ]
  },
  {
   "cell_type": "markdown",
   "id": "19288397-40c9-438a-bd93-cf3568b6a87f",
   "metadata": {},
   "source": [
    "Lets check the equality we stated above:"
   ]
  },
  {
   "cell_type": "code",
   "execution_count": 4,
   "id": "bf0060ec-adb2-4b14-bf99-c1ae161f28ee",
   "metadata": {},
   "outputs": [
    {
     "data": {
      "text/plain": [
       "True"
      ]
     },
     "execution_count": 4,
     "metadata": {},
     "output_type": "execute_result"
    }
   ],
   "source": [
    "np.isclose(dr * dk, np.pi / N)"
   ]
  },
  {
   "cell_type": "markdown",
   "id": "2971c660-9d79-48d1-b188-7e59c83bf24c",
   "metadata": {},
   "source": [
    "We use `np.isclose()` here because we are comparing floating point numbers. Using `==` would not work since there is always some precision loss with floats. You need to compared them within tolerances instead.\n",
    "\n",
    "We can use these to generate our real and Fourier-space midpoint grids."
   ]
  },
  {
   "cell_type": "code",
   "execution_count": 5,
   "id": "7fdb7ab7-1798-4bc6-822a-9927a56f56c4",
   "metadata": {},
   "outputs": [],
   "source": [
    "r_grid = np.arange(0.5, N, 1.0) * dr\n",
    "k_grid = np.arange(0.5, N, 1.0) * dk"
   ]
  },
  {
   "cell_type": "markdown",
   "id": "99ed2917-d40d-44ab-99bc-e2692ca4b81a",
   "metadata": {},
   "source": [
    "## Simple Argon Liquid"
   ]
  },
  {
   "cell_type": "markdown",
   "id": "2c1fc071-4a19-405b-9883-101bfd6bff4e",
   "metadata": {},
   "source": [
    "Now that we have our problem domain set up, we can focus on solving a particular problem. We're going to look at solving RISM for a simple Lennard-Jones Argon liquid system.\n",
    "\n",
    "We first need to set up the thermodynamical state of the system and the unit systems we're going to use. We'll be working with energies in kJ / mol."
   ]
  },
  {
   "cell_type": "code",
   "execution_count": 6,
   "id": "594d458d-5e7e-41e3-b3d9-8e51a6c67f05",
   "metadata": {},
   "outputs": [],
   "source": [
    "T = 85.0 # Kelvin\n",
    "kB = 8.314462618e-3 # kJ / mol / K\n",
    "beta = 1.0 / T / kB # Thermodynamic Beta"
   ]
  },
  {
   "cell_type": "markdown",
   "id": "b22e027e-3dc7-4e1e-bac9-134396ff3f8c",
   "metadata": {},
   "source": [
    "We also need to define the parameters for Argon, as well as its number density. "
   ]
  },
  {
   "cell_type": "code",
   "execution_count": 7,
   "id": "420894b5-8233-4ae3-a487-ef436061fc88",
   "metadata": {},
   "outputs": [],
   "source": [
    "ar_epsilon = 0.99773551416 # kJ / mol\n",
    "ar_sigma = 3.4 # Angstroms\n",
    "ar_rho = 0.021017479720736955 # 1 / Angstroms^3"
   ]
  },
  {
   "cell_type": "markdown",
   "id": "2df16806-3053-4f18-9e36-99b5d8d652c1",
   "metadata": {},
   "source": [
    "We need to tabulate the LJ potential with the above parameters. We define a function to evaluate the potential over a grid, and then we plot the potential."
   ]
  },
  {
   "cell_type": "code",
   "execution_count": 8,
   "id": "4041ca68-9477-44f1-8dd5-9fb46128f8d3",
   "metadata": {},
   "outputs": [],
   "source": [
    "def LJ(epsilon, sigma, r):\n",
    "    return 4.0 * epsilon * ( np.power( (sigma / r), 12) - np.power( (sigma / r), 6) )"
   ]
  },
  {
   "cell_type": "code",
   "execution_count": 9,
   "id": "b8161d69-4283-4ca8-a45b-7f1a31e516bf",
   "metadata": {},
   "outputs": [
    {
     "data": {
      "image/png": "[encoded data removed]",
      "text/plain": [
       "<Figure size 640x480 with 1 Axes>"
      ]
     },
     "metadata": {},
     "output_type": "display_data"
    }
   ],
   "source": [
    "ar_ur = LJ(ar_epsilon, ar_sigma, r_grid)\n",
    "\n",
    "plt.plot(r_grid, ar_ur)\n",
    "plt.ylim([-1.5, 1.0])\n",
    "plt.show()"
   ]
  },
  {
   "cell_type": "markdown",
   "id": "51afe76f-9b93-496e-aaa1-b4d87865cf65",
   "metadata": {},
   "source": [
    "One aspect of the RISM equation that we need to consider is the intramolecular correlation function $\\omega(k)$. In the case of a simple liquid, $\\omega(k) = 1$, in which case we the RISM equation reduces to the Ornstein-Zernike (OZ) equation.\n",
    "We'll implement the full RISM equation, but we will set $\\omega(k)$ to 1 for the case our current system."
   ]
  },
  {
   "cell_type": "code",
   "execution_count": 10,
   "id": "d252ba9f-5ccd-4efc-930a-00d31cc92d1c",
   "metadata": {},
   "outputs": [],
   "source": [
    "ar_wk = np.ones(N)"
   ]
  },
  {
   "cell_type": "markdown",
   "id": "bc6c6720-0ee0-4604-8e1a-37ad9cdb88aa",
   "metadata": {},
   "source": [
    "Another aspect is the closure. The closure is what relates our unknowns ($h(r)$ and $c(r)$), in a sense \"closing\" the RISM equation.\n",
    "Generally the closure in terms of $c(r)$ is $$ c(r) = e^{-\\beta u(r) + t(r) - B(r)} - t(r) - 1 $$ where $B(r)$ is the bridge function - something that we need to approximate - and $t(r) = h(r) - c(r)$ is the indirect correlation function.\n",
    "\n",
    "We're going to use the simplest approximation, $B(r) = 0$. This is the Hypernetted Chain (HNC) closure.\n",
    "\n",
    "$$ c(r) = e^{-\\beta u(r) + t(r)} - t(r) - 1 $$"
   ]
  },
  {
   "cell_type": "code",
   "execution_count": 11,
   "id": "ec371707-7ab8-4875-89ca-da7f5a3d292c",
   "metadata": {},
   "outputs": [],
   "source": [
    "def HNC(beta, ur, tr):\n",
    "    return np.exp(-beta * ur + tr) - 1.0 - tr"
   ]
  },
  {
   "cell_type": "markdown",
   "id": "e0f5f445-e7ec-465e-9829-dddd494cd9c1",
   "metadata": {},
   "source": [
    "The final detail before we implement the RISM equation is that we need to be able to transform our correlation functions into Fourier-space and back.\n",
    "We use the Fourier transforms of spherically symmetric functions:\n",
    "\n",
    "$$ f(k) = 4 \\pi \\int_0^\\infty f(r) r^2 \\frac{\\sin(kr)}{kr} dr $$\n",
    "\n",
    "and the inverse:\n",
    "\n",
    "$$ f(r) = \\frac{1}{2 \\pi^2} \\int_0^\\infty f(k) k^2 \\frac{\\sin(kr)}{kr} dk $$\n",
    "\n",
    "The function $J_0(kr) = \\frac{\\sin(kr)}{kr}$ is the zeroth-order spherical Bessel function of the first kind, so sometimes these transforms are called Fourier-Bessel (or Hankel) transforms.\n",
    "\n",
    "This can neatly be related to the Fourier sine transform:\n",
    "\n",
    "$$ f(k) = \\int_0^\\infty f(r) \\sin(kr) dr $$\n",
    "\n",
    "$$ f(r) = \\frac{2}{\\pi} \\int_0^\\infty f(k) \\sin(kr) dk $$\n",
    "\n",
    "So that the fourier transform of the spherically symmetric function $f(r)$ is just the Fourier sine transform of the function $f(r) \\cdot r$\n",
    "\n",
    "Scipy has discrete sine transform functions we can use."
   ]
  },
  {
   "cell_type": "code",
   "execution_count": 12,
   "id": "44e20eaa-2675-4e6e-a373-4558e8b3005a",
   "metadata": {},
   "outputs": [],
   "source": [
    "def fbt(fr, r, k, dr):\n",
    "    return 2.0 * np.pi * dr * dstn(fr * r, type=4, axes=[0]) / k\n",
    "\n",
    "def ifbt(fk, r, k, dk):\n",
    "    return dk / 4.0 / np.pi / np.pi * idstn(fk * k, type=4, axes=[0]) / r"
   ]
  },
  {
   "cell_type": "markdown",
   "id": "f2209dda-8a0a-4864-b8b3-76b9e29f7d67",
   "metadata": {},
   "source": [
    "We have all the key parts to solve the RISM equation now.\n",
    "The equation in Fourier-space is $$h(k) = \\omega(k) * c(k) * \\omega(k) - \\rho * \\omega(k) * c(k) * h(k)$$\n",
    "We can rearrange this for $h(k)$ $$h(k) = [1 - \\rho * \\omega(k) * c(k)]^{-1} \\omega(k) * c(k) * \\omega(k)$$\n",
    "\n",
    "For brevity, I'm going to drop the function argument $(k)$\n",
    "$$h = [1 - \\rho\\omega c]^{-1} \\omega c \\omega$$\n",
    "\n",
    "We're interested in calculating the indirect correlation function $t(k)$ $$t = [1 - \\rho\\omega c]^{-1} \\omega c \\omega - c$$"
   ]
  },
  {
   "cell_type": "code",
   "execution_count": 13,
   "id": "539abfca-a1fb-4915-a3cf-9be460f3418c",
   "metadata": {},
   "outputs": [],
   "source": [
    "def RISM(cr, w, p, r, k, dr, dk):\n",
    "    # Transform c(r) to c(k)\n",
    "    ck = fbt(cr, r, k, dr)\n",
    "    # Solve the RISM equation for t(k)\n",
    "    tk = w * ck * w / (1.0 - p * w * ck) - ck\n",
    "    # Transform t(k) to t(r)\n",
    "    tr = ifbt(tk, r, k, dk)\n",
    "    return tr"
   ]
  },
  {
   "cell_type": "markdown",
   "id": "30929a74-6da7-4b14-8128-31761f502679",
   "metadata": {},
   "source": [
    "We have all the equations we need to perform a single closure and RISM calculation. Now we need to numerically solve this problem.\n",
    "\n",
    "The RISM equation is an integro-differential equation, and is posed to be solved using fixed-point iteration (i.e. the self-consistent approach used in electronic structure theory e.g. for solving Hartree-Fock).\n",
    "\n",
    "We set some initial guess for $t_0(r)$, and use that as input into the closure and RISM equation, and get a new value out. If we represent the closure and RISM equation as an operator $F(\\cdot)$ on $t(r)$ then we get a value of $F(t(r))$.\n",
    "\n",
    "We can then mix this new value with our initial value to obtain a new solution for $t(r)$ $$t_1(r) = \\alpha F(t_0(r))  + (1 - \\alpha) t_0(r) $$\n",
    "\n",
    "More generally $$t_{k+1}(r) = \\alpha F(t_k(r)) + (1 + \\alpha) t_k(r)$$\n",
    "\n",
    "where $\\alpha$ is a dampening parameter. The lower this is, the stiffer our iteration process is (because we're including more of the previous solution than the current). This is called Picard iteration.\n",
    "\n",
    "\n",
    "We keep iterating this set of equations and check the difference between current and previous solutions until that difference is below some tolerance $\\zeta$ $$ |t_{k+1}(r) - t_{k}(r)| < \\zeta $$\n",
    "\n",
    "Once the difference is below this tolerance, the calculation is finished.\n",
    "\n",
    "We use an initial guess of $t(r) = 0$ and a tolerance of $\\zeta = 1\\times10^{-8}$"
   ]
  },
  {
   "cell_type": "code",
   "execution_count": 14,
   "id": "0036c47a-bd92-4463-85e5-48b26d4cf3c4",
   "metadata": {},
   "outputs": [
    {
     "name": "stdout",
     "output_type": "stream",
     "text": [
      "Iteration: 0 Diff: 2.69e+00\n",
      "Iteration: 10 Diff: 1.67e-01\n",
      "Iteration: 20 Diff: 1.20e-02\n",
      "Iteration: 30 Diff: 5.83e-03\n",
      "Iteration: 40 Diff: 3.20e-03\n",
      "Iteration: 50 Diff: 1.75e-03\n",
      "Iteration: 60 Diff: 9.62e-04\n",
      "Iteration: 70 Diff: 5.28e-04\n",
      "Iteration: 80 Diff: 2.90e-04\n",
      "Iteration: 90 Diff: 1.59e-04\n",
      "Iteration: 100 Diff: 8.75e-05\n",
      "Iteration: 110 Diff: 4.80e-05\n",
      "Iteration: 120 Diff: 2.64e-05\n",
      "Iteration: 130 Diff: 1.45e-05\n",
      "Iteration: 140 Diff: 7.95e-06\n",
      "Iteration: 150 Diff: 4.36e-06\n",
      "Iteration: 160 Diff: 2.40e-06\n",
      "Iteration: 170 Diff: 1.32e-06\n",
      "Iteration: 180 Diff: 7.22e-07\n",
      "Iteration: 190 Diff: 3.97e-07\n",
      "Iteration: 200 Diff: 2.18e-07\n",
      "Iteration: 210 Diff: 1.20e-07\n",
      "Iteration: 220 Diff: 6.56e-08\n",
      "Iteration: 230 Diff: 3.60e-08\n",
      "Iteration: 240 Diff: 1.98e-08\n",
      "Iteration: 250 Diff: 1.09e-08\n",
      "Final Iteration: 252 Diff: 9.64e-09\n"
     ]
    }
   ],
   "source": [
    "# Setting up parameters for iterations\n",
    "tolerance = 1e-8\n",
    "max_steps = 1000\n",
    "step = 0\n",
    "\n",
    "# 1.0 is essentially undamped direct iteration\n",
    "alpha = 0.3\n",
    "\n",
    "# Setting up initial guess\n",
    "tr = np.zeros(N)\n",
    "\n",
    "while step < max_steps:\n",
    "    # Store previous t(r)\n",
    "    tr_prev = tr\n",
    "\n",
    "    # t(r) -> c(r) from closure\n",
    "    cr = HNC(beta, ar_ur, tr)\n",
    "\n",
    "    # c(r) -> F(t(r)) from RISM equation\n",
    "    f_tr = RISM(cr, ar_wk, ar_rho, r_grid, k_grid, dr, dk)\n",
    "\n",
    "    # Use Picard iteration to get the new solution\n",
    "    # Since we set alpha = 1.0 above, this is \n",
    "    # essentially direct iteration (tr_new = f_tr).\n",
    "    tr_new = alpha * f_tr + (1.0 - alpha) * tr_prev\n",
    "    \n",
    "    # Check the absolute value of the difference between the current and previous solution\n",
    "    # We use .max() because we want to check that all values are below the tolerance, and\n",
    "    # if the maximum value of the difference array is below, then so must the other values be.\n",
    "    diff = np.sqrt(np.power((tr_new - tr_prev), 2).sum() * dr)\n",
    "    \n",
    "    # Set t(r) to the new t(r) we just computed\n",
    "    tr = tr_new\n",
    "\n",
    "    # Print the iteration step and difference every 10 steps\n",
    "    if step % 10 == 0:\n",
    "        print(\"Iteration: {step} Diff: {diff:.2e}\".format(step=step, diff=diff))\n",
    "\n",
    "    # Test if the difference is below our tolerance\n",
    "    if diff < tolerance:\n",
    "        # Print the final step\n",
    "        print(\"Final Iteration: {step} Diff: {diff:.2e}\".format(step=step, diff=diff))\n",
    "        break\n",
    "\n",
    "    # Update our step counter. We have a max_step because we don't want this calculation to go \n",
    "    # on forever and freeze our PC.\n",
    "    step += 1"
   ]
  },
  {
   "cell_type": "markdown",
   "id": "c4b95f0a-7ab6-4d43-8094-922c5b53ea1f",
   "metadata": {},
   "source": [
    "Once solved, we can use the calculated correlation functions to calculate the radial distribution function and plot it."
   ]
  },
  {
   "cell_type": "code",
   "execution_count": 15,
   "id": "a8ae7f5f-578e-4bdb-8b4d-c3d97faceeb0",
   "metadata": {},
   "outputs": [
    {
     "data": {
      "image/png": "[encoded data removed]",
      "text/plain": [
       "<Figure size 640x480 with 1 Axes>"
      ]
     },
     "metadata": {},
     "output_type": "display_data"
    }
   ],
   "source": [
    "# Get c(r) from the solved t(r)\n",
    "cr = HNC(beta, ar_ur, tr)\n",
    "\n",
    "# Get h(r)\n",
    "hr = tr + cr\n",
    "\n",
    "# Get and plot g(r)\n",
    "gr = hr + 1\n",
    "\n",
    "plt.plot(r_grid, gr)\n",
    "plt.show()"
   ]
  },
  {
   "cell_type": "markdown",
   "id": "2d48c3ec-ba25-4bbf-8d74-b48b1c38ae65",
   "metadata": {
    "tags": []
   },
   "source": [
    "This is the radial distribution function for a Lennard-Jones Argon liquid!"
   ]
  },
  {
   "cell_type": "markdown",
   "id": "d1c52054-2bd1-4781-ae01-97f863081200",
   "metadata": {},
   "source": [
    "On your machine you might find that it took over 300 iterations to come to a solution.\n",
    "We're using a very simple iteration scheme, but there are more complex iteration schemes we can use that can reduce the number of iterations.\n",
    "We will look at one convergence acceleration method later, but most methods are beyond the scope of this tutorial."
   ]
  },
  {
   "cell_type": "markdown",
   "id": "eec3b898-bea4-48df-b7a1-c7cf6553166f",
   "metadata": {},
   "source": [
    "## Nitrogen - Introducing Molecular Liquids and the Coulomb Potential"
   ]
  },
  {
   "cell_type": "markdown",
   "id": "3767a000-2627-4404-a8a1-eba07ef33335",
   "metadata": {},
   "source": [
    "We want to look at more than just simple Lennard-Jones fluids. We can consider an uncharged homonuclear diatomic molecule, and nitrogen is a good such example.\n",
    "Lets define the parameters, system and units."
   ]
  },
  {
   "cell_type": "code",
   "execution_count": 16,
   "id": "52056317-02ba-4bb2-bb6f-82449933ef50",
   "metadata": {
    "tags": []
   },
   "outputs": [],
   "source": [
    "T = 72.0 # Kelvin\n",
    "kB = 8.314462618e-3 # kJ / mol / K\n",
    "beta = 1.0 / T / kB # Thermodynamic Beta\n",
    "\n",
    "n2_epsilon = 0.3658363552 # kJ / mol\n",
    "n2_sigma = 3.341 # Angstroms\n",
    "n2_rho = 0.01867 # 1 / Angstroms^3"
   ]
  },
  {
   "cell_type": "markdown",
   "id": "0d3fbfa2-d3cb-4f4c-8966-ce831aeec07c",
   "metadata": {},
   "source": [
    "Notice that we've defined a bond length here. We need this for computing the $\\omega(k)$.\n",
    "\n",
    "First we need to define the shape of our arrays. We're still working $N$ grid points but we're now dealing with 2 atoms (or sites in the terminology of RISM).\n",
    "\n",
    "It's useful to define a variable for our system size."
   ]
  },
  {
   "cell_type": "code",
   "execution_count": 17,
   "id": "4442311f-cd2c-4b7c-bc85-2729184a9268",
   "metadata": {
    "tags": []
   },
   "outputs": [],
   "source": [
    "ns = 2 # Number of sites\n",
    "\n",
    "n2_wk = np.zeros((N, ns, ns)) # 3D array of number of points X number of sites X number of sites"
   ]
  },
  {
   "cell_type": "markdown",
   "id": "b07f7c3c-ced4-4ca7-938a-362ee9da13b7",
   "metadata": {},
   "source": [
    "Now we need to define what the intramolecular correlation function looks like $$\\omega_{ij}(k) = \\delta_{ij} + (1 - \\delta_{ij})\\frac{\\sin(kd_{ij})}{kd_{ij}}$$\n",
    "where $\\delta_{ij}$ is the Kronecker delta, and $d_{ij}$ is the distance between site $i$ and $j$.\n",
    "\n",
    "\n",
    "For nitrogen, we can explicitly define these for each $ij$ pair. If we number both nitrogens as $\\textrm{N}_1$ and $\\textrm{N}_2$ and we state the bond length between them to be $1.1\\, Å$ then we can write \n",
    "\n",
    "$$\\omega_{\\textrm{N}_1 \\textrm{N}_1} = \\omega_{\\textrm{N}_2 \\textrm{N}_2} = 1$$\n",
    "\n",
    "$$\\omega_{\\textrm{N}_1 \\textrm{N}_2} = \\omega_{\\textrm{N}_2 \\textrm{N}_1} = \\frac{\\sin(1.1k)}{1.1k}$$"
   ]
  },
  {
   "cell_type": "code",
   "execution_count": 18,
   "id": "eb689e74-9d00-4fd8-94fe-8d3ff80664b0",
   "metadata": {
    "tags": []
   },
   "outputs": [],
   "source": [
    "n2_bond_length = 1.1\n",
    "\n",
    "# [:, 0, 0] indicates a slice over the first axis (which we defined as the number of points above, and indexing the last 2 axes explicitly with 0 and 0 (or 1 and 1) etc.\n",
    "n2_wk[:, 0, 0] = n2_wk[:, 1, 1] = np.ones(N)\n",
    "n2_wk[:, 0, 1] = n2_wk[:, 1, 0] = np.sin(k_grid * n2_bond_length) / k_grid / n2_bond_length"
   ]
  },
  {
   "cell_type": "markdown",
   "id": "80b714ad-a089-47ac-90a2-87199ea4361e",
   "metadata": {},
   "source": [
    "We can compute the potential in a similar fashion"
   ]
  },
  {
   "cell_type": "code",
   "execution_count": 19,
   "id": "c86ec22f-ac7e-40c0-8f02-994edeaa2342",
   "metadata": {
    "tags": []
   },
   "outputs": [],
   "source": [
    "n2_ur = np.zeros((N, ns, ns))\n",
    "\n",
    "n2_ur[:, 0, 0] = n2_ur[:, 0, 1] = n2_ur[:, 1, 0] = n2_ur[:, 1, 1] = LJ(n2_epsilon, n2_sigma, r_grid)"
   ]
  },
  {
   "cell_type": "markdown",
   "id": "d23b56d9-5140-4934-adc1-c529b1858156",
   "metadata": {},
   "source": [
    "We can do it like this because the two interaction sites are essentially equivalent, they have the exact same LJ parameters and charge, even if they are in different positions in space. We've accounted for the spatial difference with $\\omega(k)$."
   ]
  },
  {
   "cell_type": "code",
   "execution_count": 20,
   "id": "e81fe500-a44d-49e0-9b73-5f2bdcad4de0",
   "metadata": {
    "tags": []
   },
   "outputs": [
    {
     "data": {
      "image/png": "[encoded data removed]",
      "text/plain": [
       "<Figure size 640x480 with 1 Axes>"
      ]
     },
     "metadata": {},
     "output_type": "display_data"
    }
   ],
   "source": [
    "plt.plot(r_grid, n2_ur[:, 0, 0])\n",
    "plt.ylim([-1.5, 1.0])\n",
    "plt.show()"
   ]
  },
  {
   "cell_type": "markdown",
   "id": "c705a1ac-823f-4a45-b0f3-822c95100b2a",
   "metadata": {},
   "source": [
    "We have our inputs (the potential energy and the intramolecular correlation function), so lets solve the RISM equation.\n",
    "\n",
    "We're going to actually wrap a solver in a function for easier use in the future."
   ]
  },
  {
   "cell_type": "code",
   "execution_count": 21,
   "id": "60b8152b-1f97-458f-94d6-18d207412a1f",
   "metadata": {
    "tags": []
   },
   "outputs": [],
   "source": [
    "def picard_iteration(tolerance, max_step, alpha, initial_tr, beta, ur, wk, rho):\n",
    "    # Set up our loop variable tr\n",
    "    tr = initial_tr\n",
    "    \n",
    "    # Define our counter\n",
    "    step = 0\n",
    "    \n",
    "    while True:\n",
    "        # Store previous t(r)\n",
    "        tr_prev = tr\n",
    "\n",
    "        # t(r) -> c(r) from closure\n",
    "        cr = HNC(beta, ur, tr)\n",
    "\n",
    "        # c(r) -> F(t(r)) from RISM equation\n",
    "        f_tr = RISM(cr, wk, rho, r_grid, k_grid, dr, dk)\n",
    "\n",
    "        # Use Picard iteration to get the new solution\n",
    "        # Since we set alpha = 1.0 above, this is \n",
    "        # essentially direct iteration (tr_new = f_tr).\n",
    "        tr_new = alpha * f_tr + (1.0 - alpha) * tr_prev\n",
    "\n",
    "        # Check the absolute value of the difference between the current and previous solution\n",
    "        # We use .max() because we want to check that all values are below the tolerance, and\n",
    "        # if the maximum value of the difference array is below, then so must the other values be.\n",
    "        diff = np.sqrt(np.power((tr_new - tr_prev), 2).sum() * dr)\n",
    "\n",
    "        # Set t(r) to the new t(r) we just computed\n",
    "        tr = tr_new\n",
    "\n",
    "        # Print the iteration step every 100 steps and difference\n",
    "        if step % 100 == 0:\n",
    "            print(\"Iteration: {step} Diff: {diff:.2e}\".format(step=step, diff=diff))\n",
    "\n",
    "        # Test if the difference is below our tolerance\n",
    "        if diff < tolerance:\n",
    "            print(\"Final Iteration: {step} Diff: {diff:.2e}\".format(step=step, diff=diff))\n",
    "            break\n",
    "        \n",
    "        # If we reach max_step, raise an error!\n",
    "        if step == max_step:\n",
    "            print(\"Reached max steps!\")\n",
    "            break\n",
    "\n",
    "        # Update our step counter. We have a max_step because we don't want this calculation to go \n",
    "        # on forever and freeze our PC.\n",
    "        step += 1\n",
    "    \n",
    "    # Return solved t(r)\n",
    "    return tr"
   ]
  },
  {
   "cell_type": "markdown",
   "id": "4af11656-ceef-40f9-b8cc-6a9087425e54",
   "metadata": {},
   "source": [
    "Before we start the solver, there's something else we need to consider - the fbt and ifbt functions.\n",
    "\n",
    "We wrote them for 1D arrays in mind, but we're working with 3D arrays now. If you were try to use the above function without modifying the fbt and ifbt functions, you'd see that it wouldn't work because the r and k grids are not 3D, they're 1D, but our fr and fk grids are 3D now.\n",
    "\n",
    "We need to refactor them for 3D arrays. Fortunately this is an easy fix, we just need to introduce a new axis to the r and k grid. These are just empty axes that Numpy uses to properly broadcast a 1D array over 3D arrays."
   ]
  },
  {
   "cell_type": "code",
   "execution_count": 22,
   "id": "14b785a9-669e-4f77-b670-dd0715db857b",
   "metadata": {
    "tags": []
   },
   "outputs": [],
   "source": [
    "def fbt(fr, r, k, dr):\n",
    "    return 2.0 * np.pi * dr * dstn(fr * r[:, np.newaxis, np.newaxis], type=4, axes=[0]) / k[:, np.newaxis, np.newaxis]\n",
    "\n",
    "def ifbt(fk, r, k, dk):\n",
    "    return dk / 4.0 / np.pi / np.pi * idstn(fk * k[:, np.newaxis, np.newaxis], type=4, axes=[0]) / r[:, np.newaxis, np.newaxis]"
   ]
  },
  {
   "cell_type": "markdown",
   "id": "582040cc-5c25-492d-962a-1b391a7657fd",
   "metadata": {},
   "source": [
    "We also have a slightly more complicated problem on our hands now. Using an initial guess of 0 might not cut it, so we'll try using the Mayer-f function as an initial guess\n",
    "\n",
    "$$ f(r) = e^{-\\beta u(r)} - 1 $$"
   ]
  },
  {
   "cell_type": "code",
   "execution_count": 23,
   "id": "a9db80fc-9615-4808-b3de-c4d762668313",
   "metadata": {
    "tags": []
   },
   "outputs": [
    {
     "name": "stdout",
     "output_type": "stream",
     "text": [
      "Iteration: 0 Diff: 5.09e+00\n",
      "Iteration: 100 Diff: 4.61e-01\n",
      "Iteration: 200 Diff: 2.64e-01\n",
      "Iteration: 300 Diff: 1.69e-01\n",
      "Iteration: 400 Diff: 1.21e-01\n",
      "Iteration: 500 Diff: 8.99e-02\n",
      "Iteration: 600 Diff: 6.89e-02\n",
      "Iteration: 700 Diff: 5.18e-02\n",
      "Iteration: 800 Diff: 4.07e-02\n",
      "Iteration: 900 Diff: 3.43e-02\n",
      "Iteration: 1000 Diff: 3.05e-02\n",
      "Reached max steps!\n"
     ]
    }
   ],
   "source": [
    "tolerance = 1e-8\n",
    "max_step = 1000\n",
    "alpha = 0.5\n",
    "initial_tr = np.exp(-beta * n2_ur) - 1\n",
    "tr = picard_iteration(tolerance, max_step, alpha, initial_tr, beta, n2_ur, n2_wk, n2_rho)"
   ]
  },
  {
   "cell_type": "markdown",
   "id": "afc39ecb-7a27-4805-8edd-785d220ce69a",
   "metadata": {},
   "source": [
    "1000 iterations doesn't seem to cut it on my machine. We might need to introduce a new scheme to help with convergence.\n",
    "\n",
    "We're going to introduce charging, which is where we slowly switch on the potential and run the solver at each stage."
   ]
  },
  {
   "cell_type": "code",
   "execution_count": 24,
   "id": "4e6ce2fc-fed4-42a3-86e7-d70b9ab47a66",
   "metadata": {
    "tags": []
   },
   "outputs": [
    {
     "name": "stdout",
     "output_type": "stream",
     "text": [
      "0.1\n",
      "Iteration: 0 Diff: 1.08e+00\n",
      "Iteration: 100 Diff: 1.34e-01\n",
      "Iteration: 200 Diff: 8.63e-02\n",
      "Iteration: 300 Diff: 7.47e-02\n",
      "Iteration: 400 Diff: 6.65e-02\n",
      "Iteration: 500 Diff: 5.95e-02\n",
      "Iteration: 600 Diff: 5.25e-02\n",
      "Iteration: 700 Diff: 4.63e-02\n",
      "Iteration: 800 Diff: 4.11e-02\n",
      "Iteration: 900 Diff: 3.65e-02\n",
      "Iteration: 1000 Diff: 3.23e-02\n",
      "Reached max steps!\n",
      "0.2\n",
      "Iteration: 0 Diff: 3.36e-01\n",
      "Iteration: 100 Diff: 1.73e-01\n",
      "Iteration: 200 Diff: 1.42e-01\n",
      "Iteration: 300 Diff: 1.28e-01\n",
      "Iteration: 400 Diff: 1.17e-01\n",
      "Iteration: 500 Diff: 1.07e-01\n",
      "Iteration: 600 Diff: 9.89e-02\n",
      "Iteration: 700 Diff: 9.23e-02\n",
      "Iteration: 800 Diff: 8.58e-02\n",
      "Iteration: 900 Diff: 8.01e-02\n",
      "Iteration: 1000 Diff: 7.58e-02\n",
      "Reached max steps!\n",
      "0.3\n",
      "Iteration: 0 Diff: 3.23e-01\n",
      "Iteration: 100 Diff: 1.43e-01\n",
      "Iteration: 200 Diff: 1.07e-01\n",
      "Iteration: 300 Diff: 8.85e-02\n",
      "Iteration: 400 Diff: 7.50e-02\n",
      "Iteration: 500 Diff: 6.44e-02\n",
      "Iteration: 600 Diff: 5.55e-02\n",
      "Iteration: 700 Diff: 4.87e-02\n",
      "Iteration: 800 Diff: 4.30e-02\n",
      "Iteration: 900 Diff: 3.78e-02\n",
      "Iteration: 1000 Diff: 3.32e-02\n",
      "Reached max steps!\n",
      "0.4\n",
      "Iteration: 0 Diff: 2.95e-01\n",
      "Iteration: 100 Diff: 7.58e-02\n",
      "Iteration: 200 Diff: 4.08e-02\n",
      "Iteration: 300 Diff: 2.59e-02\n",
      "Iteration: 400 Diff: 1.83e-02\n",
      "Iteration: 500 Diff: 1.50e-02\n",
      "Iteration: 600 Diff: 1.52e-02\n",
      "Iteration: 700 Diff: 1.67e-02\n",
      "Iteration: 800 Diff: 1.85e-02\n",
      "Iteration: 900 Diff: 2.04e-02\n",
      "Iteration: 1000 Diff: 2.20e-02\n",
      "Reached max steps!\n",
      "0.5\n",
      "Iteration: 0 Diff: 2.80e-01\n",
      "Iteration: 100 Diff: 4.44e-02\n",
      "Iteration: 200 Diff: 3.81e-02\n",
      "Iteration: 300 Diff: 4.29e-02\n",
      "Iteration: 400 Diff: 4.68e-02\n",
      "Iteration: 500 Diff: 4.92e-02\n",
      "Iteration: 600 Diff: 5.06e-02\n",
      "Iteration: 700 Diff: 5.14e-02\n",
      "Iteration: 800 Diff: 5.16e-02\n",
      "Iteration: 900 Diff: 5.13e-02\n",
      "Iteration: 1000 Diff: 5.07e-02\n",
      "Reached max steps!\n",
      "0.6\n",
      "Iteration: 0 Diff: 2.80e-01\n",
      "Iteration: 100 Diff: 5.83e-02\n",
      "Iteration: 200 Diff: 6.41e-02\n",
      "Iteration: 300 Diff: 6.75e-02\n",
      "Iteration: 400 Diff: 6.83e-02\n",
      "Iteration: 500 Diff: 6.79e-02\n",
      "Iteration: 600 Diff: 6.66e-02\n",
      "Iteration: 700 Diff: 6.49e-02\n",
      "Iteration: 800 Diff: 6.30e-02\n",
      "Iteration: 900 Diff: 6.10e-02\n",
      "Iteration: 1000 Diff: 5.88e-02\n",
      "Reached max steps!\n",
      "0.7\n",
      "Iteration: 0 Diff: 2.86e-01\n",
      "Iteration: 100 Diff: 6.45e-02\n",
      "Iteration: 200 Diff: 7.02e-02\n",
      "Iteration: 300 Diff: 7.13e-02\n",
      "Iteration: 400 Diff: 6.99e-02\n",
      "Iteration: 500 Diff: 6.76e-02\n",
      "Iteration: 600 Diff: 6.47e-02\n",
      "Iteration: 700 Diff: 6.18e-02\n",
      "Iteration: 800 Diff: 5.89e-02\n",
      "Iteration: 900 Diff: 5.60e-02\n",
      "Iteration: 1000 Diff: 5.31e-02\n",
      "Reached max steps!\n",
      "0.8\n",
      "Iteration: 0 Diff: 2.94e-01\n",
      "Iteration: 100 Diff: 5.93e-02\n",
      "Iteration: 200 Diff: 6.38e-02\n",
      "Iteration: 300 Diff: 6.34e-02\n",
      "Iteration: 400 Diff: 6.10e-02\n",
      "Iteration: 500 Diff: 5.78e-02\n",
      "Iteration: 600 Diff: 5.44e-02\n",
      "Iteration: 700 Diff: 5.12e-02\n",
      "Iteration: 800 Diff: 4.80e-02\n",
      "Iteration: 900 Diff: 4.48e-02\n",
      "Iteration: 1000 Diff: 4.18e-02\n",
      "Reached max steps!\n",
      "0.9\n",
      "Iteration: 0 Diff: 3.04e-01\n",
      "Iteration: 100 Diff: 4.94e-02\n",
      "Iteration: 200 Diff: 5.28e-02\n",
      "Iteration: 300 Diff: 5.17e-02\n",
      "Iteration: 400 Diff: 4.88e-02\n",
      "Iteration: 500 Diff: 4.54e-02\n",
      "Iteration: 600 Diff: 4.21e-02\n",
      "Iteration: 700 Diff: 3.89e-02\n",
      "Iteration: 800 Diff: 3.58e-02\n",
      "Iteration: 900 Diff: 3.29e-02\n",
      "Iteration: 1000 Diff: 3.02e-02\n",
      "Reached max steps!\n",
      "1.0\n",
      "Iteration: 0 Diff: 3.15e-01\n",
      "Iteration: 100 Diff: 3.95e-02\n",
      "Iteration: 200 Diff: 4.19e-02\n",
      "Iteration: 300 Diff: 4.04e-02\n",
      "Iteration: 400 Diff: 3.74e-02\n",
      "Iteration: 500 Diff: 3.43e-02\n",
      "Iteration: 600 Diff: 3.11e-02\n",
      "Iteration: 700 Diff: 2.82e-02\n",
      "Iteration: 800 Diff: 2.56e-02\n",
      "Iteration: 900 Diff: 2.33e-02\n",
      "Iteration: 1000 Diff: 2.13e-02\n",
      "Reached max steps!\n"
     ]
    },
    {
     "data": {
      "image/png": "[encoded data removed]",
      "text/plain": [
       "<Figure size 640x480 with 1 Axes>"
      ]
     },
     "metadata": {},
     "output_type": "display_data"
    }
   ],
   "source": [
    "tolerance = 1e-8\n",
    "max_step = 1000\n",
    "alpha = 0.5\n",
    "initial_tr = np.zeros((N, ns, ns))\n",
    "lambdas = 10\n",
    "\n",
    "for ilam in range(1, lambdas+1):\n",
    "    lam = ilam / lambdas\n",
    "    print(lam)\n",
    "    tr = picard_iteration(tolerance, max_step, alpha, initial_tr, beta, lam * n2_ur, n2_wk, n2_rho)\n",
    "    initial_tr = tr\n",
    "\n",
    "plt.plot(r_grid, tr[:, 0, 0] + HNC(beta, n2_ur, tr)[:, 0, 0] + 1.0)\n",
    "plt.show()"
   ]
  },
  {
   "cell_type": "markdown",
   "id": "408c228a-c25f-4b87-8bdc-a16706030ef8",
   "metadata": {},
   "source": [
    "1000 iterations doesn't seem to cut it on my machine. We might need to implement a different solver.\n",
    "\n",
    "Lets take a look at a simple convergence acceleration method called Ng acceleration.\n",
    "\n",
    "Convergence acceleration methods are a family of numerical methods that use the history of solutions to guide towards a new solution quickly.\n",
    "\n",
    "The basic idea of the Ng method is to save the previous 3 solutions and to use those to parametrise a new solution.\n",
    "\n",
    "Lets define a few things for bookkeeping:\n",
    "\n",
    "$$ f_n = t_k(r) $$\n",
    "\n",
    "$$ g_n = F(t_k(r)) $$\n",
    "\n",
    "$$ d_n = g_n - f_n = F(t_k(r)) - t_k(r) $$\n",
    "\n",
    "If we save $n=3$ solutions, we have the variables $f_{n-2}$, $g_{n-2}$, $f_{n-1}$, $g_{n-1}$, $f_{n}$, and $g_{n}$ available to us. This is our history of solutions, and we will use these to guide our solver to a new solution.\n",
    "\n",
    "$d_n$ is essentially a residual of our system. We construct a linear system of equations to solve for coefficients that will be used to construct our new solution.\n",
    "\n",
    "We define further the following residuals:\n",
    "\n",
    "$$d_{01} = d_n - d_{n-1}$$\n",
    "\n",
    "$$d_{02} = d_n - d_{n-2}$$\n",
    "\n",
    "Then we construct a matrix A\n",
    "\n",
    "$$\n",
    "A = \n",
    "\\begin{bmatrix}\n",
    "\\langle d_{01}, d_{01} \\rangle & \\langle d_{01}, d_{02} \\rangle \\\\\n",
    "\\langle d_{02}, d_{01} \\rangle & \\langle d_{02}, d_{02} \\rangle \n",
    "\\end{bmatrix}\n",
    "$$\n",
    "\n",
    "and a vector b\n",
    "\n",
    "$$\n",
    "b = \n",
    "\\begin{bmatrix}\n",
    "\\langle d_{n}, d_{01} \\rangle \\\\\n",
    "\\langle d_{n}, d_{02} \\rangle\n",
    "\\end{bmatrix}\n",
    "$$\n",
    "\n",
    "where $\\langle \\cdot, \\cdot \\rangle$ is an inner (or dot) product.\n",
    "\n",
    "We can then construct a linear system $Ax = b$ where we solve for coefficients $x = x_1, x_2$. These coefficient can be used to construct a new solution.\n",
    "\n",
    "$$ f_{n+1} = (1 - x_1 - x_2) g_n + x_1 g_{n-1} + x_2 g_{n-2} $$\n",
    "\n",
    "where $f_{n+1} = t_{k+1}(r)$.\n",
    "\n",
    "We test for convergence using the L2-norm $$ \\left\\Vert d_n \\right\\Vert = \\left\\{\\int \\left|d_n \\right|^2 dr\\right\\}^{\\frac{1}{2}} $$\n",
    "\n",
    "Lets write a simple function for a single Ng step."
   ]
  },
  {
   "cell_type": "code",
   "execution_count": 25,
   "id": "ad2fdde4-fcc1-46ac-9d64-c221810003c9",
   "metadata": {
    "tags": []
   },
   "outputs": [],
   "source": [
    "def Ng_step(f, g):\n",
    "    # f and g are our lists of f and g functions\n",
    "    # We'll index relative to n = 2, so that we can better match the maths (2 rather than 3 because Python is a zero-indexed language)\n",
    "    n = 2\n",
    "    \n",
    "    # First, preserve the shape of the inputs, since we'll be flattening them into vectors\n",
    "    dims = f[0].shape\n",
    "    \n",
    "    # Compute the residuals. We need to flatten these into vectors.\n",
    "    d_n = (g[n] - f[n]).flatten()\n",
    "    d_1 = (g[n-1] - f[n-1]).flatten()\n",
    "    d_2 = (g[n-2] - f[n-2]).flatten()\n",
    "    \n",
    "    d01 = d_n - d_1\n",
    "    d02 = d_n - d_2\n",
    "    \n",
    "    # We can fill up A and b now\n",
    "    A = np.zeros((2, 2))\n",
    "    b = np.zeros(2)\n",
    "    \n",
    "    A[0, 0] = np.inner(d01, d01)\n",
    "    A[0, 1] = np.inner(d01, d02)\n",
    "    A[1, 0] = np.inner(d01, d02)\n",
    "    A[1, 1] = np.inner(d02, d02)\n",
    "    \n",
    "    b[0] = np.inner(d_n, d01)\n",
    "    b[1] = np.inner(d_n, d02)\n",
    "    \n",
    "    # We can now perform a linear solve to get x1 and x2\n",
    "    x = np.linalg.solve(A, b)\n",
    "    \n",
    "    # And we can construct a new solution\n",
    "    f_new = (1.0 - x[0] - x[1]) * g[n] \n",
    "    + x[0] * g[n-1] \n",
    "    + x[1] * g[n-2]\n",
    "    \n",
    "    return f_new.reshape(dims)"
   ]
  },
  {
   "cell_type": "markdown",
   "id": "6f503223-c668-4b8e-8a08-03f16cab5389",
   "metadata": {},
   "source": [
    "And lets write a function to do perform the full iterative procedure"
   ]
  },
  {
   "cell_type": "code",
   "execution_count": 26,
   "id": "7b6899cd-7a45-4ce0-bc42-b77088cafac5",
   "metadata": {
    "tags": []
   },
   "outputs": [],
   "source": [
    "def Ng_iteration(tolerance, max_step, alpha, initial_tr, beta, ur, wk, rho):\n",
    "    # Set up our loop variable tr\n",
    "    tr = initial_tr\n",
    "    \n",
    "    # Define our counter\n",
    "    step = 0\n",
    "    \n",
    "    # Define empty f and g lists\n",
    "    f = []\n",
    "    g = []\n",
    "    \n",
    "    while True:\n",
    "        # Store previous t(r)\n",
    "        tr_prev = tr\n",
    "\n",
    "        # t(r) -> c(r) from closure\n",
    "        cr = HNC(beta, ur, tr)\n",
    "\n",
    "        # c(r) -> F(t(r)) from RISM equation\n",
    "        f_tr = RISM(cr, wk, rho, r_grid, k_grid, dr, dk)\n",
    "\n",
    "        # Use Picard iteration to get the new solution\n",
    "        # if we've not got a history of 3 solutions yet\n",
    "        if len(f) < 2:\n",
    "            \n",
    "            # Update f and g lists.\n",
    "            f.append(tr)\n",
    "            g.append(f_tr)\n",
    "            \n",
    "            tr_new = alpha * f_tr + (1.0 - alpha) * tr_prev\n",
    "            \n",
    "        # Otherwise lets use the Ng method\n",
    "        else:\n",
    "            \n",
    "            # Update f and g lists\n",
    "            f.append(tr)\n",
    "            g.append(f_tr)\n",
    "            \n",
    "            tr_new = Ng_step(f, g)\n",
    "            \n",
    "            # We want to keep the list to 3 elements, so we pop off the oldest elements\n",
    "            f.pop(0)\n",
    "            g.pop(0)\n",
    "            \n",
    "        # Check the convergence criterion\n",
    "        diff = np.sqrt(np.power((tr_new - tr_prev), 2).sum() * dr)\n",
    "\n",
    "        # Set t(r) to the new t(r) we just computed\n",
    "        tr = tr_new\n",
    "\n",
    "        # Print the iteration step every 10 steps and difference\n",
    "        if step % 100 == 0:\n",
    "            print(\"Iteration: {step} Diff: {diff:.2e}\".format(step=step, diff=diff))\n",
    "\n",
    "        # Test if the difference is below our tolerance\n",
    "        if diff < tolerance:\n",
    "            print(\"Final Iteration: {step} Diff: {diff:.2e}\".format(step=step, diff=diff))\n",
    "            break\n",
    "        \n",
    "        # If we reach max_step, raise an error!\n",
    "        if step == max_step:\n",
    "            print(\"Reached max steps!\")\n",
    "            break\n",
    "\n",
    "        # Update our step counter. We have a max_step because we don't want this calculation to go \n",
    "        # on forever and freeze our PC.\n",
    "        step += 1\n",
    "    \n",
    "    # Return solved t(r)\n",
    "    return tr"
   ]
  },
  {
   "cell_type": "code",
   "execution_count": 27,
   "id": "7549f36a-a1fa-4206-b801-48cd0949373d",
   "metadata": {
    "tags": []
   },
   "outputs": [
    {
     "name": "stdout",
     "output_type": "stream",
     "text": [
      "Iteration: 0 Diff: 2.04e+00\n",
      "Iteration: 100 Diff: 6.28e+00\n",
      "Iteration: 200 Diff: 9.30e+00\n",
      "Iteration: 300 Diff: 3.45e+00\n",
      "Iteration: 400 Diff: 1.67e+01\n",
      "Iteration: 500 Diff: 1.28e+01\n",
      "Iteration: 600 Diff: 1.80e+01\n",
      "Iteration: 700 Diff: 6.96e+00\n",
      "Iteration: 800 Diff: 1.04e+01\n",
      "Iteration: 900 Diff: 5.72e+00\n",
      "Iteration: 1000 Diff: 2.57e+00\n",
      "Reached max steps!\n"
     ]
    }
   ],
   "source": [
    "tolerance = 1e-8\n",
    "max_step = 1000\n",
    "alpha = 0.2\n",
    "initial_tr = np.exp(-beta * n2_ur) - 1.0\n",
    "\n",
    "tr = Ng_iteration(tolerance, max_step, alpha, initial_tr, beta, n2_ur, n2_wk, n2_rho)"
   ]
  },
  {
   "cell_type": "markdown",
   "id": "77fba300-895c-446e-8d41-a4259588c11e",
   "metadata": {},
   "source": [
    "In order to do that, we need to be able to properly model the long-range electrostatics via the Coulomb potential.\n",
    "A problem that arises is properly dealing with the long-range part when performing a Fourier transform - the potential will diverge!\n",
    "\n",
    "A simple solution is to break the potential energy into two parts - a short and long range component.\n",
    "Perform the fast Fourier transform for the short range component but choose the long-range component such that we can analytically transform it.\n",
    "\n",
    "We will choose such a form in a moment, first we should define the model we want to solve."
   ]
  },
  {
   "cell_type": "code",
   "execution_count": null,
   "id": "53eeb8cb-e1fe-47bb-8d5e-8523b2f41040",
   "metadata": {},
   "outputs": [],
   "source": []
  }
 ],
 "metadata": {
  "kernelspec": {
   "display_name": "Python 3 (ipykernel)",
   "language": "python",
   "name": "python3"
  },
  "language_info": {
   "codemirror_mode": {
    "name": "ipython",
    "version": 3
   },
   "file_extension": ".py",
   "mimetype": "text/x-python",
   "name": "python",
   "nbconvert_exporter": "python",
   "pygments_lexer": "ipython3",
   "version": "3.10.13"
  }
 },
 "nbformat": 4,
 "nbformat_minor": 5
}
