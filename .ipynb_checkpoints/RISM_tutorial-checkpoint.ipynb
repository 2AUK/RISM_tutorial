{
 "cells": [
  {
   "cell_type": "markdown",
   "id": "5e929689-952b-4b00-b8eb-d6df4a0a5678",
   "metadata": {},
   "source": [
    "# RISM - A Gentle Introduction"
   ]
  },
  {
   "cell_type": "markdown",
   "id": "1cc3e0ab-8b1a-4a4c-9fcd-10b2458cd7d0",
   "metadata": {},
   "source": [
    "We are going to write a Python implementation of the extended RISM equation with the goal of computing the direct, indirect and total correlation function along with the radial distribution function."
   ]
  },
  {
   "cell_type": "markdown",
   "id": "43050c62-e1bb-46f3-a09e-bbc8871af275",
   "metadata": {},
   "source": [
    "First, we import the libraries we will be needing:"
   ]
  },
  {
   "cell_type": "code",
   "execution_count": 1,
   "id": "18a17f90-70f6-422e-b1cc-d0303bbe78f3",
   "metadata": {},
   "outputs": [],
   "source": [
    "import numpy as np\n",
    "from scipy.fftpack import dstn, idstn\n",
    "from scipy.special import erf\n",
    "import matplotlib.pyplot as plt"
   ]
  },
  {
   "cell_type": "markdown",
   "id": "cb1166f7-b064-45b0-b87f-b2ad0d00ee24",
   "metadata": {},
   "source": [
    "First, we need to set up our problem domain. While the RISM equations are written as continuous functions $r$ (e.g. $c(r)$), computationally we solve them on a discretised grid.\n",
    "\n",
    "We'll set up a discrete domain of length (or radius since we are working with spherically symmetric functions) $r = 15\\, Å$ partitioned into $N = 100$ points. The resulting grid spacing is given by $\\Delta r = \\frac{r}{N}$."
   ]
  },
  {
   "cell_type": "code",
   "execution_count": 2,
   "id": "97cc8d43-e8e2-422d-bfb6-82f92ada9573",
   "metadata": {},
   "outputs": [],
   "source": [
    "r = 15.0\n",
    "N = 100\n",
    "dr = r / N"
   ]
  },
  {
   "cell_type": "markdown",
   "id": "76ca9db6-c7e3-47f2-a548-b3951c60df83",
   "metadata": {},
   "source": [
    "We also want to set up a grid spacing for our Fourier-space grid such that $\\Delta r \\Delta k = \\frac{\\pi}{N}$"
   ]
  },
  {
   "cell_type": "code",
   "execution_count": 3,
   "id": "1879c0c5-94e4-43b2-bc3b-b538151c1585",
   "metadata": {},
   "outputs": [],
   "source": [
    "dk = 2.0 * np.pi / (2.0 * N * dr)"
   ]
  },
  {
   "cell_type": "markdown",
   "id": "19288397-40c9-438a-bd93-cf3568b6a87f",
   "metadata": {},
   "source": [
    "Lets check the equality we stated above:"
   ]
  },
  {
   "cell_type": "code",
   "execution_count": 4,
   "id": "bf0060ec-adb2-4b14-bf99-c1ae161f28ee",
   "metadata": {},
   "outputs": [
    {
     "data": {
      "text/plain": [
       "True"
      ]
     },
     "execution_count": 4,
     "metadata": {},
     "output_type": "execute_result"
    }
   ],
   "source": [
    "np.isclose(dr * dk, np.pi / N)"
   ]
  },
  {
   "cell_type": "markdown",
   "id": "2971c660-9d79-48d1-b188-7e59c83bf24c",
   "metadata": {},
   "source": [
    "We use `np.isclose()` here because we are comparing floating point numbers. Using `==` would not work since there is always some precision loss with floats. You need to compared them within tolerances instead.\n",
    "\n",
    "We can use these to generate our real and Fourier-space midpoint grids."
   ]
  },
  {
   "cell_type": "code",
   "execution_count": 5,
   "id": "7fdb7ab7-1798-4bc6-822a-9927a56f56c4",
   "metadata": {},
   "outputs": [],
   "source": [
    "r_grid = np.arange(0.5, N, 1.0) * dr\n",
    "k_grid = np.arange(0.5, N, 1.0) * dk"
   ]
  },
  {
   "cell_type": "markdown",
   "id": "99ed2917-d40d-44ab-99bc-e2692ca4b81a",
   "metadata": {},
   "source": [
    "## Simple Argon Liquid"
   ]
  },
  {
   "cell_type": "markdown",
   "id": "2c1fc071-4a19-405b-9883-101bfd6bff4e",
   "metadata": {},
   "source": [
    "Now that we have our problem domain set up, we can focus on solving a particular problem. We're going to look at solving RISM for a simple Lennard-Jones Argon liquid system.\n",
    "\n",
    "We first need to set up the thermodynamical state of the system and the unit systems we're going to use. We'll be working with energies in kJ / mol."
   ]
  },
  {
   "cell_type": "code",
   "execution_count": 6,
   "id": "594d458d-5e7e-41e3-b3d9-8e51a6c67f05",
   "metadata": {},
   "outputs": [],
   "source": [
    "T = 300.0 # Kelvin\n",
    "kB = 8.314462618e-3 # kJ / mol / K\n",
    "beta = 1.0 / T / kB # Thermodynamic Beta"
   ]
  },
  {
   "cell_type": "markdown",
   "id": "b22e027e-3dc7-4e1e-bac9-134396ff3f8c",
   "metadata": {},
   "source": [
    "We also need to define the parameters and coordinates for Argon, as well as its number density. "
   ]
  },
  {
   "cell_type": "code",
   "execution_count": 7,
   "id": "420894b5-8233-4ae3-a487-ef436061fc88",
   "metadata": {},
   "outputs": [],
   "source": [
    "epsilon = 0.99773551416\n",
    "sigma = 3.4\n",
    "coords = np.array([0.0, 0.0, 0.0])\n",
    "rho = 0.021017479720736955"
   ]
  },
  {
   "cell_type": "markdown",
   "id": "2df16806-3053-4f18-9e36-99b5d8d652c1",
   "metadata": {},
   "source": [
    "We need to tabulate the LJ potential with the above parameters. We define a function to evaluate the potential over a grid, and then we plot the potential."
   ]
  },
  {
   "cell_type": "code",
   "execution_count": 8,
   "id": "4041ca68-9477-44f1-8dd5-9fb46128f8d3",
   "metadata": {},
   "outputs": [],
   "source": [
    "def LJ(epsilon, sigma, r):\n",
    "    return 4.0 * epsilon * ( np.power( (sigma / r), 12) - np.power( (sigma / r), 6) )"
   ]
  },
  {
   "cell_type": "code",
   "execution_count": 9,
   "id": "b8161d69-4283-4ca8-a45b-7f1a31e516bf",
   "metadata": {},
   "outputs": [
    {
     "data": {
      "image/png": "[encoded data removed]",
      "text/plain": [
       "<Figure size 640x480 with 1 Axes>"
      ]
     },
     "metadata": {},
     "output_type": "display_data"
    }
   ],
   "source": [
    "ur = LJ(epsilon, sigma, r_grid)\n",
    "\n",
    "plt.plot(r_grid, ur)\n",
    "plt.ylim([-1.5, 1.0])\n",
    "plt.show()"
   ]
  },
  {
   "cell_type": "markdown",
   "id": "51afe76f-9b93-496e-aaa1-b4d87865cf65",
   "metadata": {},
   "source": [
    "One aspect of the RISM equation that we need to consider is the intramolecular correlation function $\\omega(k)$. In the case of a simple liquid, $\\omega(k) = 1$, in which case we the RISM equation reduces to the Ornstein-Zernike (OZ) equation.\n",
    "We'll implement the full RISM equation, but we will set $\\omega(k)$ to 1 for the case our current system."
   ]
  },
  {
   "cell_type": "code",
   "execution_count": 10,
   "id": "d252ba9f-5ccd-4efc-930a-00d31cc92d1c",
   "metadata": {},
   "outputs": [],
   "source": [
    "wk = np.ones(N)"
   ]
  },
  {
   "cell_type": "markdown",
   "id": "bc6c6720-0ee0-4604-8e1a-37ad9cdb88aa",
   "metadata": {},
   "source": [
    "Another aspect is the closure. The closure is what relates our unknowns ($h(r)$ and $c(r)$), in a sense \"closing\" the RISM equation.\n",
    "Generally the closure in terms of $c(r)$ is $$ c(r) = e^{-\\beta u(r) + t(r) - B(r)} - t(r) - 1 $$ where $B(r)$ is the bridge function - something that we need to approximate - and $t(r) = h(r) - c(r)$ is the indirect correlation function.\n",
    "\n",
    "We're going to use the simplest approximation, $B(r) = 0$. This is the Hypernetted Chain (HNC) closure.\n",
    "\n",
    "$$ c(r) = e^{-\\beta u(r) + t(r)} - t(r) - 1 $$"
   ]
  },
  {
   "cell_type": "code",
   "execution_count": 11,
   "id": "ec371707-7ab8-4875-89ca-da7f5a3d292c",
   "metadata": {},
   "outputs": [],
   "source": [
    "def HNC(beta, ur, tr):\n",
    "    return np.exp(-beta * ur + tr) - 1.0 - tr"
   ]
  },
  {
   "cell_type": "markdown",
   "id": "e0f5f445-e7ec-465e-9829-dddd494cd9c1",
   "metadata": {},
   "source": [
    "The final detail before we implement the RISM equation is that we need to be able to transform our correlation functions into Fourier-space and back.\n",
    "We use the Fourier transforms of spherically symmetric functions:\n",
    "\n",
    "$$ f(k) = 4 \\pi \\int_0^\\infty f(r) r^2 \\frac{\\sin(kr)}{kr} dr $$\n",
    "\n",
    "and the inverse:\n",
    "\n",
    "$$ f(r) = \\frac{1}{2 \\pi^2} \\int_0^\\infty f(k) k^2 \\frac{\\sin(kr)}{kr} dk $$\n",
    "\n",
    "The function $J_0(kr) = \\frac{\\sin(kr)}{kr}$ is the zeroth-order spherical Bessel function of the first kind, so sometimes these transforms are called Fourier-Bessel (or Hankel) transforms.\n",
    "\n",
    "This can neatly be related to the Fourier sine transform:\n",
    "\n",
    "$$ f(k) = \\int_0^\\infty f(r) \\sin(kr) dr $$\n",
    "\n",
    "$$ f(r) = \\frac{2}{\\pi} \\int_0^\\infty f(k) \\sin(kr) dk $$\n",
    "\n",
    "So that the fourier transform of the spherically symmetric function $f(r)$ is just the Fourier sine transform of the function $f(r) \\cdot r$\n",
    "\n",
    "Scipy has discrete sine transform functions we can use."
   ]
  },
  {
   "cell_type": "code",
   "execution_count": 12,
   "id": "44e20eaa-2675-4e6e-a373-4558e8b3005a",
   "metadata": {},
   "outputs": [],
   "source": [
    "def fbt(fr, r, k, dr):\n",
    "    return 2.0 * np.pi * dr * dstn(fr * r, type=4, axes=[0]) / k\n",
    "\n",
    "def ifbt(fk, r, k, dk):\n",
    "    return dk / 4.0 / np.pi / np.pi * idstn(fk * k, type=4, axes=[0]) / r"
   ]
  },
  {
   "cell_type": "markdown",
   "id": "f2209dda-8a0a-4864-b8b3-76b9e29f7d67",
   "metadata": {},
   "source": [
    "We have all the key parts to solve the RISM equation now.\n",
    "The equation in Fourier-space is $$h(k) = \\omega(k) * c(k) * \\omega(k) - \\rho * \\omega(k) * c(k) * h(k)$$\n",
    "We can rearrange this for $h(k)$ $$h(k) = [1 - \\rho * \\omega(k) * c(k)]^{-1} \\omega(k) * c(k) * \\omega(k)$$\n",
    "\n",
    "For brevity, I'm going to drop the function argument $(k)$\n",
    "$$h = [1 - \\rho\\omega c]^{-1} \\omega c \\omega$$\n",
    "\n",
    "We're interested in calculating the indirect correlation function $t(k)$ $$t = [1 - \\rho\\omega c]^{-1} \\omega c \\omega - c$$"
   ]
  },
  {
   "cell_type": "code",
   "execution_count": 13,
   "id": "539abfca-a1fb-4915-a3cf-9be460f3418c",
   "metadata": {},
   "outputs": [],
   "source": [
    "def RISM(cr, w, p, r, k, dr, dk):\n",
    "    # Transform c(r) to c(k)\n",
    "    ck = fbt(cr, r, k, dr)\n",
    "    # Solve the RISM equation for t(k)\n",
    "    tk = w * ck * w / (1.0 - p * w * ck) - ck\n",
    "    # Transform t(k) to t(r)\n",
    "    tr = ifbt(tk, r, k, dk)\n",
    "    return tr"
   ]
  },
  {
   "cell_type": "markdown",
   "id": "30929a74-6da7-4b14-8128-31761f502679",
   "metadata": {},
   "source": [
    "We have all the equations we need to perform a single closure and RISM calculation. Now we need to numerically solve this problem.\n",
    "\n",
    "The RISM equation is an integro-differential equation, and is posed to be solved using fixed-point iteration (i.e. the self-consistent approach used in electronic structure theory e.g. for solving Hartree-Fock).\n",
    "\n",
    "We set some initial guess for $t_0(r)$, and use that as input into the closure and RISM equation, and get a new value out. If we represent the closure and RISM equation as an operator $F(\\cdot)$ on $t(r)$ then we get a value of $F(t(r))$.\n",
    "\n",
    "We can then mix this new value with our initial value to obtain a new solution for $t(r)$ $$t_1(r) = \\alpha F(t_0(r))  + (1 - \\alpha) t_0(r) $$\n",
    "\n",
    "More generally $$t_{k+1}(r) = \\alpha F(t_k(r)) + (1 + \\alpha) t_k(r)$$\n",
    "\n",
    "where $\\alpha$ is a dampening parameter. The lower this is, the stiffer our iteration process is (because we're including more of the previous solution than the current). This is called Picard iteration.\n",
    "\n",
    "\n",
    "We keep iterating this set of equations and check the difference between current and previous solutions until that difference is below some tolerance $\\zeta$ $$ |t_{k+1}(r) - t_{k}(r)| < \\zeta $$\n",
    "\n",
    "Once the difference is below this tolerance, the calculation is finished.\n",
    "\n",
    "We use an initial guess of $t(r) = 0$ and a tolerance of $\\zeta = 1\\times10^{-8}$"
   ]
  },
  {
   "cell_type": "code",
   "execution_count": 14,
   "id": "0036c47a-bd92-4463-85e5-48b26d4cf3c4",
   "metadata": {},
   "outputs": [
    {
     "name": "stdout",
     "output_type": "stream",
     "text": [
      "Iteration: 0 Diff: 2.644634829620345\n",
      "Iteration: 1 Diff: 0.510718498900699\n",
      "Iteration: 2 Diff: 0.8922321912676168\n",
      "Iteration: 3 Diff: 0.8273320036424425\n",
      "Iteration: 4 Diff: 0.6310720255148974\n",
      "Iteration: 5 Diff: 0.6244628528690237\n",
      "Iteration: 6 Diff: 0.5583696319941902\n",
      "Iteration: 7 Diff: 0.5021468984330681\n",
      "Iteration: 8 Diff: 0.46848827537770266\n",
      "Iteration: 9 Diff: 0.42892222247034884\n",
      "Iteration: 10 Diff: 0.39558843841732383\n",
      "Iteration: 11 Diff: 0.3674993419917687\n",
      "Iteration: 12 Diff: 0.34044375890936074\n",
      "Iteration: 13 Diff: 0.31647961438130423\n",
      "Iteration: 14 Diff: 0.29489953100363486\n",
      "Iteration: 15 Diff: 0.2748579424667792\n",
      "Iteration: 16 Diff: 0.2566375432866348\n",
      "Iteration: 17 Diff: 0.23992535707018448\n",
      "Iteration: 18 Diff: 0.22446216323370471\n",
      "Iteration: 19 Diff: 0.21022380104306748\n",
      "Iteration: 20 Diff: 0.19705645634790692\n",
      "Iteration: 21 Diff: 0.1848390467864185\n",
      "Iteration: 22 Diff: 0.17350875486429373\n",
      "Iteration: 23 Diff: 0.16297676040018416\n",
      "Iteration: 24 Diff: 0.1531697740061322\n",
      "Iteration: 25 Diff: 0.14403275694778195\n",
      "Iteration: 26 Diff: 0.135507781013958\n",
      "Iteration: 27 Diff: 0.12754476783469215\n",
      "Iteration: 28 Diff: 0.12010120603448726\n",
      "Iteration: 29 Diff: 0.11313635356812668\n",
      "Iteration: 30 Diff: 0.10661394305325622\n",
      "Iteration: 31 Diff: 0.10050173222482783\n",
      "Iteration: 32 Diff: 0.09476972205185596\n",
      "Iteration: 33 Diff: 0.08939074976674277\n",
      "Iteration: 34 Diff: 0.08434017577117814\n",
      "Iteration: 35 Diff: 0.07959524327944756\n",
      "Iteration: 36 Diff: 0.07513513244824566\n",
      "Iteration: 37 Diff: 0.07094075752050344\n",
      "Iteration: 38 Diff: 0.06699448719361634\n",
      "Iteration: 39 Diff: 0.06328007924798662\n",
      "Iteration: 40 Diff: 0.059782546152780114\n",
      "Iteration: 41 Diff: 0.05648800688850919\n",
      "Iteration: 42 Diff: 0.05338360991143709\n",
      "Iteration: 43 Diff: 0.050457440795993236\n",
      "Iteration: 44 Diff: 0.04769843110336325\n",
      "Iteration: 45 Diff: 0.0450962935726853\n",
      "Iteration: 46 Diff: 0.04264145653304929\n",
      "Iteration: 47 Diff: 0.0403250022521906\n",
      "Iteration: 48 Diff: 0.038138616588693\n",
      "Iteration: 49 Diff: 0.03607454115918429\n",
      "Iteration: 50 Diff: 0.03412552919524714\n",
      "Iteration: 51 Diff: 0.03228480714974147\n",
      "Iteration: 52 Diff: 0.030546039053946927\n",
      "Iteration: 53 Diff: 0.02890329379039258\n",
      "Iteration: 54 Diff: 0.027351015765191278\n",
      "Iteration: 55 Diff: 0.02588399786984752\n",
      "Iteration: 56 Diff: 0.024497356644802792\n",
      "Iteration: 57 Diff: 0.023186509680732215\n",
      "Iteration: 58 Diff: 0.021947154794046853\n",
      "Iteration: 59 Diff: 0.02077525085039511\n",
      "Iteration: 60 Diff: 0.019667000164202975\n",
      "Iteration: 61 Diff: 0.01861883224764327\n",
      "Iteration: 62 Diff: 0.017627388799601462\n",
      "Iteration: 63 Diff: 0.01668950985054707\n",
      "Iteration: 64 Diff: 0.015802220934659772\n",
      "Iteration: 65 Diff: 0.014962721203932716\n",
      "Iteration: 66 Diff: 0.014168372412537877\n",
      "Iteration: 67 Diff: 0.013416688689069645\n",
      "Iteration: 68 Diff: 0.012705327032485059\n",
      "Iteration: 69 Diff: 0.012032078475403551\n",
      "Iteration: 70 Diff: 0.0113948598576048\n",
      "Iteration: 71 Diff: 0.010791706161937142\n",
      "Iteration: 72 Diff: 0.010220763368904429\n",
      "Iteration: 73 Diff: 0.009680281789240297\n",
      "Iteration: 74 Diff: 0.009168609837569619\n",
      "Iteration: 75 Diff: 0.008684188214619581\n",
      "Iteration: 76 Diff: 0.008225544466746726\n",
      "Iteration: 77 Diff: 0.007791287895505761\n",
      "Iteration: 78 Diff: 0.007380104791595343\n",
      "Iteration: 79 Diff: 0.006990753969938979\n",
      "Iteration: 80 Diff: 0.006622062584478172\n",
      "Iteration: 81 Diff: 0.006272922203223175\n",
      "Iteration: 82 Diff: 0.005942285125195568\n",
      "Iteration: 83 Diff: 0.0056291609230392226\n",
      "Iteration: 84 Diff: 0.005332613195644598\n",
      "Iteration: 85 Diff: 0.005051756516927242\n",
      "Iteration: 86 Diff: 0.004785753567540851\n",
      "Iteration: 87 Diff: 0.004533812437585993\n",
      "Iteration: 88 Diff: 0.0042951840891092274\n",
      "Iteration: 89 Diff: 0.0040691599680577895\n",
      "Iteration: 90 Diff: 0.003855069756060203\n",
      "Iteration: 91 Diff: 0.0036522792533766335\n",
      "Iteration: 92 Diff: 0.003460188384410756\n",
      "Iteration: 93 Diff: 0.0032782293183188926\n",
      "Iteration: 94 Diff: 0.003105864697676708\n",
      "Iteration: 95 Diff: 0.002942585968312983\n",
      "Iteration: 96 Diff: 0.002787911804183807\n",
      "Iteration: 97 Diff: 0.0026413866217289694\n",
      "Iteration: 98 Diff: 0.0025025791780208806\n",
      "Iteration: 99 Diff: 0.0023710812478761056\n",
      "Iteration: 100 Diff: 0.002246506375101376\n",
      "Iteration: 101 Diff: 0.002128488693609043\n",
      "Iteration: 102 Diff: 0.002016681814197341\n",
      "Iteration: 103 Diff: 0.001910757773151417\n",
      "Iteration: 104 Diff: 0.001810406039156831\n",
      "Iteration: 105 Diff: 0.0017153325749319492\n",
      "Iteration: 106 Diff: 0.0016252589507068649\n",
      "Iteration: 107 Diff: 0.0015399215064260119\n",
      "Iteration: 108 Diff: 0.0014590705596919662\n",
      "Iteration: 109 Diff: 0.0013824696572939388\n",
      "Iteration: 110 Diff: 0.0013098948674450384\n",
      "Iteration: 111 Diff: 0.0012411341105931228\n",
      "Iteration: 112 Diff: 0.0011759865266789404\n",
      "Iteration: 113 Diff: 0.0011142618766584178\n",
      "Iteration: 114 Diff: 0.0010557799764718823\n",
      "Iteration: 115 Diff: 0.0010003701616998484\n",
      "Iteration: 116 Diff: 0.0009478707809975617\n",
      "Iteration: 117 Diff: 0.0008981287169742558\n",
      "Iteration: 118 Diff: 0.0008509989327709633\n",
      "Iteration: 119 Diff: 0.0008063440430667868\n",
      "Iteration: 120 Diff: 0.0007640339081316228\n",
      "Iteration: 121 Diff: 0.0007239452496321519\n",
      "Iteration: 122 Diff: 0.0006859612869707377\n",
      "Iteration: 123 Diff: 0.0006499713932495155\n",
      "Iteration: 124 Diff: 0.0006158707693888488\n",
      "Iteration: 125 Diff: 0.0005835601358583631\n",
      "Iteration: 126 Diff: 0.000552945440750463\n",
      "Iteration: 127 Diff: 0.0005239375834378279\n",
      "Iteration: 128 Diff: 0.0004964521528929566\n",
      "Iteration: 129 Diff: 0.00047040918013330213\n",
      "Iteration: 130 Diff: 0.00044573290351301864\n",
      "Iteration: 131 Diff: 0.00042235154677428\n",
      "Iteration: 132 Diff: 0.0004001971087408407\n",
      "Iteration: 133 Diff: 0.00037920516421152684\n",
      "Iteration: 134 Diff: 0.000359314675351996\n",
      "Iteration: 135 Diff: 0.00034046781321883657\n",
      "Iteration: 136 Diff: 0.00032260978859355305\n",
      "Iteration: 137 Diff: 0.000305688691858208\n",
      "Iteration: 138 Diff: 0.00028965534129810067\n",
      "Iteration: 139 Diff: 0.0002744631395099617\n",
      "Iteration: 140 Diff: 0.00026006793725130706\n",
      "Iteration: 141 Diff: 0.00024642790466344877\n",
      "Iteration: 142 Diff: 0.0002335034091647259\n",
      "Iteration: 143 Diff: 0.00022125689982921415\n",
      "Iteration: 144 Diff: 0.00020965279791695934\n",
      "Iteration: 145 Diff: 0.00019865739311875075\n",
      "Iteration: 146 Diff: 0.00018823874526141537\n",
      "Iteration: 147 Diff: 0.0001783665913013266\n",
      "Iteration: 148 Diff: 0.00016901225711940526\n",
      "Iteration: 149 Diff: 0.00016014857393997772\n",
      "Iteration: 150 Diff: 0.00015174979931131816\n",
      "Iteration: 151 Diff: 0.00014379154207411204\n",
      "Iteration: 152 Diff: 0.00013625069137468415\n",
      "Iteration: 153 Diff: 0.00012910534942278673\n",
      "Iteration: 154 Diff: 0.0001223347676866382\n",
      "Iteration: 155 Diff: 0.00011591928662291195\n",
      "Iteration: 156 Diff: 0.00010984027841942634\n",
      "Iteration: 157 Diff: 0.00010408009275231223\n",
      "Iteration: 158 Diff: 9.862200560561973e-05\n",
      "Iteration: 159 Diff: 9.345017045170323e-05\n",
      "Iteration: 160 Diff: 8.854957231108074e-05\n",
      "Iteration: 161 Diff: 8.390598401319949e-05\n",
      "Iteration: 162 Diff: 7.950592486061225e-05\n",
      "Iteration: 163 Diff: 7.533662146563813e-05\n",
      "Iteration: 164 Diff: 7.138597058364837e-05\n",
      "Iteration: 165 Diff: 6.76425039110029e-05\n",
      "Iteration: 166 Diff: 6.409535487605922e-05\n",
      "Iteration: 167 Diff: 6.073422689212293e-05\n",
      "Iteration: 168 Diff: 5.75493635803781e-05\n",
      "Iteration: 169 Diff: 5.453152033219055e-05\n",
      "Iteration: 170 Diff: 5.167193752342314e-05\n",
      "Iteration: 171 Diff: 4.8962314984635213e-05\n",
      "Iteration: 172 Diff: 4.6394787966974604e-05\n",
      "Iteration: 173 Diff: 4.396190423250346e-05\n",
      "Iteration: 174 Diff: 4.165660243415914e-05\n",
      "Iteration: 175 Diff: 3.9472191652123456e-05\n",
      "Iteration: 176 Diff: 3.740233186810826e-05\n",
      "Iteration: 177 Diff: 3.544101563335289e-05\n",
      "Iteration: 178 Diff: 3.35825505661802e-05\n",
      "Iteration: 179 Diff: 3.1821542863852414e-05\n",
      "Iteration: 180 Diff: 3.01528816049057e-05\n",
      "Iteration: 181 Diff: 2.8571723952097727e-05\n",
      "Iteration: 182 Diff: 2.707348104813434e-05\n",
      "Iteration: 183 Diff: 2.5653804687664206e-05\n",
      "Iteration: 184 Diff: 2.43085747317906e-05\n",
      "Iteration: 185 Diff: 2.303388715318988e-05\n",
      "Iteration: 186 Diff: 2.1826042605255225e-05\n",
      "Iteration: 187 Diff: 2.0681535829680797e-05\n",
      "Iteration: 188 Diff: 1.9597045332275798e-05\n",
      "Iteration: 189 Diff: 1.8569423843928234e-05\n",
      "Iteration: 190 Diff: 1.759568916703813e-05\n",
      "Iteration: 191 Diff: 1.6673015480250797e-05\n",
      "Iteration: 192 Diff: 1.5798725115701018e-05\n",
      "Iteration: 193 Diff: 1.4970280933113145e-05\n",
      "Iteration: 194 Diff: 1.4185278725875605e-05\n",
      "Iteration: 195 Diff: 1.3441440463779486e-05\n",
      "Iteration: 196 Diff: 1.2736607537533473e-05\n",
      "Iteration: 197 Diff: 1.2068734530856773e-05\n",
      "Iteration: 198 Diff: 1.1435883324750762e-05\n",
      "Iteration: 199 Diff: 1.0836217386511748e-05\n",
      "Iteration: 200 Diff: 1.026799656678179e-05\n",
      "Iteration: 201 Diff: 9.729571885941368e-06\n",
      "Iteration: 202 Diff: 9.219380899594398e-06\n",
      "Iteration: 203 Diff: 8.735943094251297e-06\n",
      "Iteration: 204 Diff: 8.277855542360157e-06\n",
      "Iteration: 205 Diff: 7.843788933925566e-06\n",
      "Iteration: 206 Diff: 7.432483663194489e-06\n",
      "Iteration: 207 Diff: 7.0427461782429646e-06\n",
      "Iteration: 208 Diff: 6.6734454851058445e-06\n",
      "Iteration: 209 Diff: 6.32350992368913e-06\n",
      "Iteration: 210 Diff: 5.991924046711006e-06\n",
      "Iteration: 211 Diff: 5.677725619435137e-06\n",
      "Iteration: 212 Diff: 5.380002876975709e-06\n",
      "Iteration: 213 Diff: 5.097891904171092e-06\n",
      "Iteration: 214 Diff: 4.830574013681144e-06\n",
      "Iteration: 215 Diff: 4.5772735202120884e-06\n",
      "Iteration: 216 Diff: 4.337255376185567e-06\n",
      "Iteration: 217 Diff: 4.109823098730203e-06\n",
      "Iteration: 218 Diff: 3.894316700225886e-06\n",
      "Iteration: 219 Diff: 3.690110835563587e-06\n",
      "Iteration: 220 Diff: 3.496612910325325e-06\n",
      "Iteration: 221 Diff: 3.3132614394304483e-06\n",
      "Iteration: 222 Diff: 3.1395243951237717e-06\n",
      "Iteration: 223 Diff: 2.9748975904908548e-06\n",
      "Iteration: 224 Diff: 2.818903315215948e-06\n",
      "Iteration: 225 Diff: 2.6710889109438085e-06\n",
      "Iteration: 226 Diff: 2.531025451446567e-06\n",
      "Iteration: 227 Diff: 2.398306477857659e-06\n",
      "Iteration: 228 Diff: 2.272546900883299e-06\n",
      "Iteration: 229 Diff: 2.1533817537999767e-06\n",
      "Iteration: 230 Diff: 2.04046527052526e-06\n",
      "Iteration: 231 Diff: 1.933469768289342e-06\n",
      "Iteration: 232 Diff: 1.832084784325616e-06\n",
      "Iteration: 233 Diff: 1.7360161130852703e-06\n",
      "Iteration: 234 Diff: 1.6449849713495723e-06\n",
      "Iteration: 235 Diff: 1.5587272361727855e-06\n",
      "Iteration: 236 Diff: 1.4769925815727447e-06\n",
      "Iteration: 237 Diff: 1.3995438283842532e-06\n",
      "Iteration: 238 Diff: 1.3261562497035584e-06\n",
      "Iteration: 239 Diff: 1.2566168834382552e-06\n",
      "Iteration: 240 Diff: 1.1907239372277445e-06\n",
      "Iteration: 241 Diff: 1.1282862093509038e-06\n",
      "Iteration: 242 Diff: 1.069122516739185e-06\n",
      "Iteration: 243 Diff: 1.0130611975966985e-06\n",
      "Iteration: 244 Diff: 9.599395252024578e-07\n",
      "Iteration: 245 Diff: 9.096034059297153e-07\n",
      "Iteration: 246 Diff: 8.619067486392851e-07\n",
      "Iteration: 247 Diff: 8.167111431589547e-07\n",
      "Iteration: 248 Diff: 7.738854623795532e-07\n",
      "Iteration: 249 Diff: 7.333054092839575e-07\n",
      "Iteration: 250 Diff: 6.948532629280635e-07\n",
      "Iteration: 251 Diff: 6.58417400600797e-07\n",
      "Iteration: 252 Diff: 6.238921326229274e-07\n",
      "Iteration: 253 Diff: 5.911772511524305e-07\n",
      "Iteration: 254 Diff: 5.601778418906633e-07\n",
      "Iteration: 255 Diff: 5.308039412454946e-07\n",
      "Iteration: 256 Diff: 5.029703071812719e-07\n",
      "Iteration: 257 Diff: 4.765961705288646e-07\n",
      "Iteration: 258 Diff: 4.5160502004648606e-07\n",
      "Iteration: 259 Diff: 4.2792432708438355e-07\n",
      "Iteration: 260 Diff: 4.054853697255112e-07\n",
      "Iteration: 261 Diff: 3.8422303560992077e-07\n",
      "Iteration: 262 Diff: 3.640756265355094e-07\n",
      "Iteration: 263 Diff: 3.449846914804766e-07\n",
      "Iteration: 264 Diff: 3.268948169932173e-07\n",
      "Iteration: 265 Diff: 3.0975351705819776e-07\n",
      "Iteration: 266 Diff: 2.9351105901298524e-07\n",
      "Iteration: 267 Diff: 2.7812029124163473e-07\n",
      "Iteration: 268 Diff: 2.635365738967721e-07\n",
      "Iteration: 269 Diff: 2.4971757284220075e-07\n",
      "Iteration: 270 Diff: 2.3662320103312595e-07\n",
      "Iteration: 271 Diff: 2.2421544976225505e-07\n",
      "Iteration: 272 Diff: 2.124583300400218e-07\n",
      "Iteration: 273 Diff: 2.013177002879729e-07\n",
      "Iteration: 274 Diff: 1.9076126456241127e-07\n",
      "Iteration: 275 Diff: 1.8075835939157514e-07\n",
      "Iteration: 276 Diff: 1.7127999107913183e-07\n",
      "Iteration: 277 Diff: 1.6229861898864328e-07\n",
      "Iteration: 278 Diff: 1.5378821416334176e-07\n",
      "Iteration: 279 Diff: 1.457240621505207e-07\n",
      "Iteration: 280 Diff: 1.3808275944882098e-07\n",
      "Iteration: 281 Diff: 1.308421637702395e-07\n",
      "Iteration: 282 Diff: 1.2398122173351567e-07\n",
      "Iteration: 283 Diff: 1.1748005235290293e-07\n",
      "Iteration: 284 Diff: 1.1131978894241001e-07\n",
      "Iteration: 285 Diff: 1.054825364832368e-07\n",
      "Iteration: 286 Diff: 9.995137695284484e-08\n",
      "Iteration: 287 Diff: 9.47102538617628e-08\n",
      "Iteration: 288 Diff: 8.974396337180224e-08\n",
      "Iteration: 289 Diff: 8.503807791271356e-08\n",
      "Iteration: 290 Diff: 8.057896039304069e-08\n",
      "Iteration: 291 Diff: 7.635366117142439e-08\n",
      "Iteration: 292 Diff: 7.234992338567281e-08\n",
      "Iteration: 293 Diff: 6.855613854384046e-08\n",
      "Iteration: 294 Diff: 6.496126658817047e-08\n",
      "Iteration: 295 Diff: 6.155493004200707e-08\n",
      "Iteration: 296 Diff: 5.8327174201622256e-08\n",
      "Iteration: 297 Diff: 5.526869273353441e-08\n",
      "Iteration: 298 Diff: 5.2370582537264454e-08\n",
      "Iteration: 299 Diff: 4.962444144496203e-08\n",
      "Iteration: 300 Diff: 4.702229894348875e-08\n",
      "Iteration: 301 Diff: 4.455660551627716e-08\n",
      "Iteration: 302 Diff: 4.222020066890764e-08\n",
      "Iteration: 303 Diff: 4.000630937639471e-08\n",
      "Iteration: 304 Diff: 3.790851188512079e-08\n",
      "Iteration: 305 Diff: 3.5920715291126726e-08\n",
      "Iteration: 306 Diff: 3.4037139329257116e-08\n",
      "Iteration: 307 Diff: 3.225235900572443e-08\n",
      "Iteration: 308 Diff: 3.0561137620566114e-08\n",
      "Iteration: 309 Diff: 2.8958616837826412e-08\n",
      "Iteration: 310 Diff: 2.744012128630402e-08\n",
      "Iteration: 311 Diff: 2.6001254482821423e-08\n",
      "Iteration: 312 Diff: 2.4637829554308155e-08\n",
      "Iteration: 313 Diff: 2.3345906541294426e-08\n",
      "Iteration: 314 Diff: 2.2121719567280707e-08\n",
      "Iteration: 315 Diff: 2.096173368215659e-08\n",
      "Iteration: 316 Diff: 1.9862564926143023e-08\n",
      "Iteration: 317 Diff: 1.8821030067783795e-08\n",
      "Iteration: 318 Diff: 1.783413239309084e-08\n",
      "Iteration: 319 Diff: 1.6898958676847542e-08\n",
      "Iteration: 320 Diff: 1.6012830172940085e-08\n",
      "Iteration: 321 Diff: 1.5173174716665017e-08\n",
      "Iteration: 322 Diff: 1.4377548041011323e-08\n",
      "Iteration: 323 Diff: 1.3623626671233069e-08\n",
      "Iteration: 324 Diff: 1.2909255886484061e-08\n",
      "Iteration: 325 Diff: 1.223233425662329e-08\n",
      "Iteration: 326 Diff: 1.1590911341841093e-08\n",
      "Iteration: 327 Diff: 1.098312019109926e-08\n",
      "Iteration: 328 Diff: 1.0407205763840466e-08\n",
      "Iteration: 329 Diff: 9.86147519199676e-09\n"
     ]
    }
   ],
   "source": [
    "# Setting up parameters for iterations\n",
    "tolerance = 1e-8\n",
    "max_steps = 1000\n",
    "step = 0\n",
    "\n",
    "# 1.0 is essentially undamped direct iteration\n",
    "alpha = 1.0\n",
    "\n",
    "# Setting up initial guess\n",
    "tr = np.zeros(N)\n",
    "\n",
    "while step < max_steps:\n",
    "    # Store previous t(r)\n",
    "    tr_prev = tr\n",
    "\n",
    "    # t(r) -> c(r) from closure\n",
    "    cr = HNC(beta, ur, tr)\n",
    "\n",
    "    # c(r) -> F(t(r)) from RISM equation\n",
    "    f_tr = RISM(cr, wk, rho, r_grid, k_grid, dr, dk)\n",
    "\n",
    "    # Use Picard iteration to get the new solution\n",
    "    # Since we set alpha = 1.0 above, this is \n",
    "    # essentially direct iteration (tr_new = f_tr).\n",
    "    tr_new = alpha * f_tr + (1.0 - alpha) * tr_prev\n",
    "    \n",
    "    # Check the absolute value of the difference between the current and previous solution\n",
    "    # We use .max() because we want to check that all values are below the tolerance, and\n",
    "    # if the maximum value of the difference array is below, then so must the other values be.\n",
    "    diff = abs((tr_new - tr_prev).max())\n",
    "    \n",
    "    # Set t(r) to the new t(r) we just computed\n",
    "    tr = tr_new\n",
    "\n",
    "    # Print the iteration step and difference\n",
    "    print(\"Iteration: {step} Diff: {diff}\".format(step=step, diff=diff))\n",
    "\n",
    "    # Test if the difference is below our tolerance\n",
    "    if diff < tolerance:\n",
    "        break\n",
    "\n",
    "    # Update our step counter. We have a max_step because we don't want this calculation to go \n",
    "    # on forever and freeze our PC.\n",
    "    step += 1"
   ]
  },
  {
   "cell_type": "markdown",
   "id": "c4b95f0a-7ab6-4d43-8094-922c5b53ea1f",
   "metadata": {},
   "source": [
    "Once solved, we can use the calculated correlation functions to calculate the radial distribution function and plot it."
   ]
  },
  {
   "cell_type": "code",
   "execution_count": 15,
   "id": "a8ae7f5f-578e-4bdb-8b4d-c3d97faceeb0",
   "metadata": {},
   "outputs": [
    {
     "data": {
      "image/png": "[encoded data removed]",
      "text/plain": [
       "<Figure size 640x480 with 1 Axes>"
      ]
     },
     "metadata": {},
     "output_type": "display_data"
    }
   ],
   "source": [
    "# Get c(r) from the solved t(r)\n",
    "cr = HNC(beta, ur, tr)\n",
    "\n",
    "# Get h(r)\n",
    "hr = tr + cr\n",
    "\n",
    "# Get and plot g(r)\n",
    "gr = hr + 1\n",
    "\n",
    "plt.plot(r_grid, gr)\n",
    "plt.show()"
   ]
  },
  {
   "cell_type": "markdown",
   "id": "2d48c3ec-ba25-4bbf-8d74-b48b1c38ae65",
   "metadata": {
    "tags": []
   },
   "source": [
    "This is the radial distribution function for a Lennard-Jones Argon liquid!"
   ]
  },
  {
   "cell_type": "markdown",
   "id": "d1c52054-2bd1-4781-ae01-97f863081200",
   "metadata": {},
   "source": [
    "On your machine you might find that it took over 300 iterations to come to a solution.\n",
    "We're using a very simple iteration scheme, but there are more complex iteration schemes we can use that can reduce the number of iterations.\n",
    "We will look at one convergence acceleration method later, but most methods are beyond the scope of this tutorial."
   ]
  },
  {
   "cell_type": "markdown",
   "id": "eec3b898-bea4-48df-b7a1-c7cf6553166f",
   "metadata": {},
   "source": [
    "## Nitrogen - Introducing the Coulomb Potential"
   ]
  },
  {
   "cell_type": "markdown",
   "id": "3767a000-2627-4404-a8a1-eba07ef33335",
   "metadata": {},
   "source": [
    "We want to look at more than just simple Lennard-Jones fluids. In order to do that, we need to be able to properly model the long-range electrostatics via the Coulomb potential.\n",
    "A problem that arises"
   ]
  }
 ],
 "metadata": {
  "kernelspec": {
   "display_name": "Python 3 (ipykernel)",
   "language": "python",
   "name": "python3"
  },
  "language_info": {
   "codemirror_mode": {
    "name": "ipython",
    "version": 3
   },
   "file_extension": ".py",
   "mimetype": "text/x-python",
   "name": "python",
   "nbconvert_exporter": "python",
   "pygments_lexer": "ipython3",
   "version": "3.9.17"
  }
 },
 "nbformat": 4,
 "nbformat_minor": 5
}
