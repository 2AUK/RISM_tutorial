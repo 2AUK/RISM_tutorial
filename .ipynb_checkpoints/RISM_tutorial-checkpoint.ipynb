{
 "cells": [
  {
   "cell_type": "markdown",
   "id": "5e929689-952b-4b00-b8eb-d6df4a0a5678",
   "metadata": {},
   "source": [
    "# RISM - A Gentle Introduction"
   ]
  },
  {
   "cell_type": "markdown",
   "id": "1cc3e0ab-8b1a-4a4c-9fcd-10b2458cd7d0",
   "metadata": {},
   "source": [
    "We are going to write a Python implementation of the extended RISM equation with the goal of computing the direct, indirect and total correlation function along with the radial distribution function."
   ]
  },
  {
   "cell_type": "markdown",
   "id": "43050c62-e1bb-46f3-a09e-bbc8871af275",
   "metadata": {},
   "source": [
    "First, we import the libraries we will be needing:"
   ]
  },
  {
   "cell_type": "code",
   "execution_count": 1,
   "id": "18a17f90-70f6-422e-b1cc-d0303bbe78f3",
   "metadata": {},
   "outputs": [],
   "source": [
    "import numpy as np\n",
    "from scipy.fftpack import dstn, idstn\n",
    "from scipy.special import erf\n",
    "import matplotlib.pyplot as plt"
   ]
  },
  {
   "cell_type": "markdown",
   "id": "cb1166f7-b064-45b0-b87f-b2ad0d00ee24",
   "metadata": {},
   "source": [
    "First, we need to set up our problem domain. While the RISM equations are written as continuous functions $r$ (e.g. $c(r)$), computationally we solve them on a discretised grid.\n",
    "\n",
    "We'll set up a discrete domain of length (or radius since we are working with spherically symmetric functions) $r = 15\\, Å$ partitioned into $N = 100$ points. The resulting grid spacing is given by $\\Delta r = \\frac{r}{N}$."
   ]
  },
  {
   "cell_type": "code",
   "execution_count": 2,
   "id": "97cc8d43-e8e2-422d-bfb6-82f92ada9573",
   "metadata": {},
   "outputs": [],
   "source": [
    "r = 12.8\n",
    "N = 128\n",
    "dr = r / N"
   ]
  },
  {
   "cell_type": "markdown",
   "id": "76ca9db6-c7e3-47f2-a548-b3951c60df83",
   "metadata": {},
   "source": [
    "We also want to set up a grid spacing for our Fourier-space grid such that $\\Delta r \\Delta k = \\frac{\\pi}{N}$"
   ]
  },
  {
   "cell_type": "code",
   "execution_count": 3,
   "id": "1879c0c5-94e4-43b2-bc3b-b538151c1585",
   "metadata": {},
   "outputs": [],
   "source": [
    "dk = 2.0 * np.pi / (2.0 * N * dr)"
   ]
  },
  {
   "cell_type": "markdown",
   "id": "19288397-40c9-438a-bd93-cf3568b6a87f",
   "metadata": {},
   "source": [
    "Lets check the equality we stated above:"
   ]
  },
  {
   "cell_type": "code",
   "execution_count": 4,
   "id": "bf0060ec-adb2-4b14-bf99-c1ae161f28ee",
   "metadata": {},
   "outputs": [
    {
     "data": {
      "text/plain": [
       "True"
      ]
     },
     "execution_count": 4,
     "metadata": {},
     "output_type": "execute_result"
    }
   ],
   "source": [
    "np.isclose(dr * dk, np.pi / N)"
   ]
  },
  {
   "cell_type": "markdown",
   "id": "2971c660-9d79-48d1-b188-7e59c83bf24c",
   "metadata": {},
   "source": [
    "We use `np.isclose()` here because we are comparing floating point numbers. Using `==` would not work since there is always some precision loss with floats. You need to compared them within tolerances instead.\n",
    "\n",
    "We can use these to generate our real and Fourier-space midpoint grids."
   ]
  },
  {
   "cell_type": "code",
   "execution_count": 5,
   "id": "7fdb7ab7-1798-4bc6-822a-9927a56f56c4",
   "metadata": {},
   "outputs": [],
   "source": [
    "r_grid = np.arange(0.5, N, 1.0) * dr\n",
    "k_grid = np.arange(0.5, N, 1.0) * dk"
   ]
  },
  {
   "cell_type": "markdown",
   "id": "99ed2917-d40d-44ab-99bc-e2692ca4b81a",
   "metadata": {},
   "source": [
    "## Simple Argon Liquid"
   ]
  },
  {
   "cell_type": "markdown",
   "id": "2c1fc071-4a19-405b-9883-101bfd6bff4e",
   "metadata": {},
   "source": [
    "Now that we have our problem domain set up, we can focus on solving a particular problem. We're going to look at solving RISM for a simple Lennard-Jones Argon liquid system.\n",
    "\n",
    "We first need to set up the thermodynamical state of the system and the unit systems we're going to use. We'll be working with energies in kJ / mol."
   ]
  },
  {
   "cell_type": "code",
   "execution_count": 6,
   "id": "594d458d-5e7e-41e3-b3d9-8e51a6c67f05",
   "metadata": {},
   "outputs": [],
   "source": [
    "T = 300.0 # Kelvin\n",
    "kB = 8.314462618e-3 # kJ / mol / K\n",
    "beta = 1.0 / T / kB # Thermodynamic Beta"
   ]
  },
  {
   "cell_type": "markdown",
   "id": "b22e027e-3dc7-4e1e-bac9-134396ff3f8c",
   "metadata": {},
   "source": [
    "We also need to define the parameters and coordinates for Argon, as well as its number density. "
   ]
  },
  {
   "cell_type": "code",
   "execution_count": 7,
   "id": "420894b5-8233-4ae3-a487-ef436061fc88",
   "metadata": {},
   "outputs": [],
   "source": [
    "epsilon = 0.99773551416\n",
    "sigma = 3.4\n",
    "coords = np.array([0.0, 0.0, 0.0])\n",
    "rho = 0.021017479720736955"
   ]
  },
  {
   "cell_type": "markdown",
   "id": "2df16806-3053-4f18-9e36-99b5d8d652c1",
   "metadata": {},
   "source": [
    "We need to tabulate the LJ potential with the above parameters. We define a function to evaluate the potential over a grid, and then we plot the potential."
   ]
  },
  {
   "cell_type": "code",
   "execution_count": 8,
   "id": "4041ca68-9477-44f1-8dd5-9fb46128f8d3",
   "metadata": {},
   "outputs": [],
   "source": [
    "def LJ(epsilon, sigma, r):\n",
    "    return 4.0 * epsilon * ( np.power( (sigma / r), 12) - np.power( (sigma / r), 6) )"
   ]
  },
  {
   "cell_type": "code",
   "execution_count": 9,
   "id": "b8161d69-4283-4ca8-a45b-7f1a31e516bf",
   "metadata": {},
   "outputs": [
    {
     "data": {
      "image/png": "[encoded data removed]",
      "text/plain": [
       "<Figure size 640x480 with 1 Axes>"
      ]
     },
     "metadata": {},
     "output_type": "display_data"
    }
   ],
   "source": [
    "ur = LJ(epsilon, sigma, r_grid)\n",
    "\n",
    "plt.plot(r_grid, ur)\n",
    "plt.ylim([-1.5, 1.0])\n",
    "plt.show()"
   ]
  },
  {
   "cell_type": "markdown",
   "id": "51afe76f-9b93-496e-aaa1-b4d87865cf65",
   "metadata": {},
   "source": [
    "One aspect of the RISM equation that we need to consider is the intramolecular correlation function $\\omega(k)$. In the case of a simple liquid, $\\omega(k) = 1$, in which case we the RISM equation reduces to the Ornstein-Zernike (OZ) equation.\n",
    "We'll implement the full RISM equation, but we will set $\\omega(k)$ to 1 for the case our current system."
   ]
  },
  {
   "cell_type": "code",
   "execution_count": 10,
   "id": "d252ba9f-5ccd-4efc-930a-00d31cc92d1c",
   "metadata": {},
   "outputs": [],
   "source": [
    "wk = np.ones(N)"
   ]
  },
  {
   "cell_type": "markdown",
   "id": "bc6c6720-0ee0-4604-8e1a-37ad9cdb88aa",
   "metadata": {},
   "source": [
    "Another aspect is the closure. The closure is what relates our unknowns ($h(r)$ and $c(r)$), in a sense \"closing\" the RISM equation.\n",
    "Generally the closure in terms of $c(r)$ is $$ c(r) = e^{-\\beta u(r) + t(r) - B(r)} - t(r) - 1 $$ where $B(r)$ is the bridge function - something that we need to approximate - and $t(r) = h(r) - c(r)$ is the indirect correlation function.\n",
    "\n",
    "We're going to use the simplest approximation, $B(r) = 0$. This is the Hypernetted Chain (HNC) closure.\n",
    "\n",
    "$$ c(r) = e^{-\\beta u(r) + t(r)} - t(r) - 1 $$"
   ]
  },
  {
   "cell_type": "code",
   "execution_count": 11,
   "id": "ec371707-7ab8-4875-89ca-da7f5a3d292c",
   "metadata": {},
   "outputs": [],
   "source": [
    "def HNC(beta, ur, tr):\n",
    "    return np.exp(-beta * ur + tr) - 1.0 - tr"
   ]
  },
  {
   "cell_type": "markdown",
   "id": "e0f5f445-e7ec-465e-9829-dddd494cd9c1",
   "metadata": {},
   "source": [
    "The final detail before we implement the RISM equation is that we need to be able to transform our correlation functions into Fourier-space and back.\n",
    "We use the Fourier transforms of spherically symmetric functions:\n",
    "\n",
    "$$ f(k) = 4 \\pi \\int_0^\\infty f(r) r^2 \\frac{\\sin(kr)}{kr} dr $$\n",
    "\n",
    "and the inverse:\n",
    "\n",
    "$$ f(r) = \\frac{1}{2 \\pi^2} \\int_0^\\infty f(k) k^2 \\frac{\\sin(kr)}{kr} dk $$\n",
    "\n",
    "The function $J_0(kr) = \\frac{\\sin(kr)}{kr}$ is the zeroth-order spherical Bessel function of the first kind, so sometimes these transforms are called Fourier-Bessel (or Hankel) transforms.\n",
    "\n",
    "This can neatly be related to the Fourier sine transform:\n",
    "\n",
    "$$ f(k) = \\int_0^\\infty f(r) \\sin(kr) dr $$\n",
    "\n",
    "$$ f(r) = \\frac{2}{\\pi} \\int_0^\\infty f(k) \\sin(kr) dk $$\n",
    "\n",
    "So that the fourier transform of the spherically symmetric function $f(r)$ is just the Fourier sine transform of the function $f(r) \\cdot r$\n",
    "\n",
    "Scipy has discrete sine transform functions we can use."
   ]
  },
  {
   "cell_type": "code",
   "execution_count": 12,
   "id": "44e20eaa-2675-4e6e-a373-4558e8b3005a",
   "metadata": {},
   "outputs": [],
   "source": [
    "def fbt(fr, r, k, dr):\n",
    "    return 2.0 * np.pi * dr * dstn(fr * r, type=4, axes=[0]) / k\n",
    "\n",
    "def ifbt(fk, r, k, dk):\n",
    "    return dk / 4.0 / np.pi / np.pi * idstn(fk * k, type=4, axes=[0]) / r"
   ]
  },
  {
   "cell_type": "markdown",
   "id": "f2209dda-8a0a-4864-b8b3-76b9e29f7d67",
   "metadata": {},
   "source": [
    "We have all the key parts to solve the RISM equation now.\n",
    "The equation in Fourier-space is $$h(k) = \\omega(k) * c(k) * \\omega(k) - \\rho * \\omega(k) * c(k) * h(k)$$\n",
    "We can rearrange this for $h(k)$ $$h(k) = [1 - \\rho * \\omega(k) * c(k)]^{-1} \\omega(k) * c(k) * \\omega(k)$$\n",
    "\n",
    "For brevity, I'm going to drop the function argument $(k)$\n",
    "$$h = [1 - \\rho\\omega c]^{-1} \\omega c \\omega$$\n",
    "\n",
    "We're interested in calculating the indirect correlation function $t(k)$ $$t = [1 - \\rho\\omega c]^{-1} \\omega c \\omega - c$$"
   ]
  },
  {
   "cell_type": "code",
   "execution_count": 13,
   "id": "539abfca-a1fb-4915-a3cf-9be460f3418c",
   "metadata": {},
   "outputs": [],
   "source": [
    "def RISM(cr, w, p, r, k, dr, dk):\n",
    "    # Transform c(r) to c(k)\n",
    "    ck = fbt(cr, r, k, dr)\n",
    "    # Solve the RISM equation for t(k)\n",
    "    tk = w * ck * w / (1.0 - p * w * ck) - ck\n",
    "    # Transform t(k) to t(r)\n",
    "    tr = ifbt(tk, r, k, dk)\n",
    "    return tr"
   ]
  },
  {
   "cell_type": "markdown",
   "id": "30929a74-6da7-4b14-8128-31761f502679",
   "metadata": {},
   "source": [
    "We have all the equations we need to perform a single closure and RISM calculation. Now we need to numerically solve this problem.\n",
    "\n",
    "The RISM equation is an integro-differential equation, and is posed to be solved using fixed-point iteration (i.e. the self-consistent approach used in electronic structure theory e.g. for solving Hartree-Fock).\n",
    "\n",
    "We set some initial guess for $t_0(r)$, and use that as input into the closure and RISM equation, and get a new value out. If we represent the closure and RISM equation as an operator $F(\\cdot)$ on $t(r)$ then we get a value of $F(t(r))$.\n",
    "\n",
    "We can then mix this new value with our initial value to obtain a new solution for $t(r)$ $$t_1(r) = \\alpha F(t_0(r))  + (1 - \\alpha) t_0(r) $$\n",
    "\n",
    "More generally $$t_{k+1}(r) = \\alpha F(t_k(r)) + (1 + \\alpha) t_k(r)$$\n",
    "\n",
    "where $\\alpha$ is a dampening parameter. The lower this is, the stiffer our iteration process is (because we're including more of the previous solution than the current). This is called Picard iteration.\n",
    "\n",
    "\n",
    "We keep iterating this set of equations and check the difference between current and previous solutions until that difference is below some tolerance $\\zeta$ $$ |t_{k+1}(r) - t_{k}(r)| < \\zeta $$\n",
    "\n",
    "Once the difference is below this tolerance, the calculation is finished.\n",
    "\n",
    "We use an initial guess of $t(r) = 0$ and a tolerance of $\\zeta = 1\\times10^{-8}$"
   ]
  },
  {
   "cell_type": "code",
   "execution_count": 17,
   "id": "0036c47a-bd92-4463-85e5-48b26d4cf3c4",
   "metadata": {},
   "outputs": [
    {
     "name": "stdout",
     "output_type": "stream",
     "text": [
      "Iteration: 0 Diff: 2.646485854504701\n",
      "Iteration: 1 Diff: 0.5115996830003565\n",
      "Iteration: 2 Diff: 0.9085989627278668\n",
      "Iteration: 3 Diff: 0.8244046172839896\n",
      "Iteration: 4 Diff: 0.6318833697188797\n",
      "Iteration: 5 Diff: 0.6267691545658298\n",
      "Iteration: 6 Diff: 0.5584309452299197\n",
      "Iteration: 7 Diff: 0.5030111773625068\n",
      "Iteration: 8 Diff: 0.4694149289689209\n",
      "Iteration: 9 Diff: 0.4296154675088175\n",
      "Iteration: 10 Diff: 0.3965091480370351\n",
      "Iteration: 11 Diff: 0.3684440866100349\n",
      "Iteration: 12 Diff: 0.34138886112290123\n",
      "Iteration: 13 Diff: 0.3174885702383783\n",
      "Iteration: 14 Diff: 0.2959089391774672\n",
      "Iteration: 15 Diff: 0.275861368637889\n",
      "Iteration: 16 Diff: 0.2576362680275839\n",
      "Iteration: 17 Diff: 0.24089707693739904\n",
      "Iteration: 18 Diff: 0.2254021807903186\n",
      "Iteration: 19 Diff: 0.21112770054160634\n",
      "Iteration: 20 Diff: 0.19791630841355357\n",
      "Iteration: 21 Diff: 0.18565265373471185\n",
      "Iteration: 22 Diff: 0.17427411453888553\n",
      "Iteration: 23 Diff: 0.1636918796349267\n",
      "Iteration: 24 Diff: 0.1538346845829821\n",
      "Iteration: 25 Diff: 0.14464776528742718\n",
      "Iteration: 26 Diff: 0.136073550826465\n",
      "Iteration: 27 Diff: 0.12806271492370236\n",
      "Iteration: 28 Diff: 0.12057292672094633\n",
      "Iteration: 29 Diff: 0.11356365335849716\n",
      "Iteration: 30 Diff: 0.10699888675333113\n",
      "Iteration: 31 Diff: 0.10084644646189034\n",
      "Iteration: 32 Diff: 0.09507639307448201\n",
      "Iteration: 33 Diff: 0.08966161335555789\n",
      "Iteration: 34 Diff: 0.08457744510206133\n",
      "Iteration: 35 Diff: 0.07980110130791651\n",
      "Iteration: 36 Diff: 0.07531171971581863\n",
      "Iteration: 37 Diff: 0.07109014546197479\n",
      "Iteration: 38 Diff: 0.06711867343240563\n",
      "Iteration: 39 Diff: 0.06338098159802819\n",
      "Iteration: 40 Diff: 0.05986199386115665\n",
      "Iteration: 41 Diff: 0.05654773967220983\n",
      "Iteration: 42 Diff: 0.053425276916771125\n",
      "Iteration: 43 Diff: 0.05048259938000754\n",
      "Iteration: 44 Diff: 0.04770854846992201\n",
      "Iteration: 45 Diff: 0.04509274856749457\n",
      "Iteration: 46 Diff: 0.04262554162577814\n",
      "Iteration: 47 Diff: 0.04029792655706643\n",
      "Iteration: 48 Diff: 0.038101508981085885\n",
      "Iteration: 49 Diff: 0.03602845349561967\n",
      "Iteration: 50 Diff: 0.03407143986319028\n",
      "Iteration: 51 Diff: 0.03222362460970807\n",
      "Iteration: 52 Diff: 0.03047860536791447\n",
      "Iteration: 53 Diff: 0.02883038819100392\n",
      "Iteration: 54 Diff: 0.02727335814242693\n",
      "Iteration: 55 Diff: 0.02580225216886589\n",
      "Iteration: 56 Diff: 0.024412134186201584\n",
      "Iteration: 57 Diff: 0.0230983723589695\n",
      "Iteration: 58 Diff: 0.02185661815122586\n",
      "Iteration: 59 Diff: 0.02068278702877535\n",
      "Iteration: 60 Diff: 0.019573040723068758\n",
      "Iteration: 61 Diff: 0.018523770845702003\n",
      "Iteration: 62 Diff: 0.017531583746059454\n",
      "Iteration: 63 Diff: 0.016593286522546435\n",
      "Iteration: 64 Diff: 0.01570587406467716\n",
      "Iteration: 65 Diff: 0.014866517041250304\n",
      "Iteration: 66 Diff: 0.01407255076137126\n",
      "Iteration: 67 Diff: 0.013321464828033314\n",
      "Iteration: 68 Diff: 0.01261089352030531\n",
      "Iteration: 69 Diff: 0.01193860684693604\n",
      "Iteration: 70 Diff: 0.011302502215503551\n",
      "Iteration: 71 Diff: 0.010700596668652196\n",
      "Iteration: 72 Diff: 0.01013101964394636\n",
      "Iteration: 73 Diff: 0.009592006216347926\n",
      "Iteration: 74 Diff: 0.009081890786776015\n",
      "Iteration: 75 Diff: 0.008599101183373037\n",
      "Iteration: 76 Diff: 0.008142153145051623\n",
      "Iteration: 77 Diff: 0.007709645158866962\n",
      "Iteration: 78 Diff: 0.007300253626203457\n",
      "Iteration: 79 Diff: 0.006912728333999141\n",
      "Iteration: 80 Diff: 0.0065458882093150095\n",
      "Iteration: 81 Diff: 0.006198617337975776\n",
      "Iteration: 82 Diff: 0.005869861228381623\n",
      "Iteration: 83 Diff: 0.005558623304349197\n",
      "Iteration: 84 Diff: 0.005263961610991075\n",
      "Iteration: 85 Diff: 0.00498498571974082\n",
      "Iteration: 86 Diff: 0.004720853819124571\n",
      "Iteration: 87 Diff: 0.004470769978990319\n",
      "Iteration: 88 Diff: 0.0042339815772436395\n",
      "Iteration: 89 Diff: 0.004009776878229232\n",
      "Iteration: 90 Diff: 0.00379748275316949\n",
      "Iteration: 91 Diff: 0.0035964625338511524\n",
      "Iteration: 92 Diff: 0.003406113990932269\n",
      "Iteration: 93 Diff: 0.0032258674289948885\n",
      "Iteration: 94 Diff: 0.003055183891627067\n",
      "Iteration: 95 Diff: 0.002893553468991783\n",
      "Iteration: 96 Diff: 0.002740493702358293\n",
      "Iteration: 97 Diff: 0.0025955480791939323\n",
      "Iteration: 98 Diff: 0.0024582846135654535\n",
      "Iteration: 99 Diff: 0.0023282945067180094\n",
      "Iteration: 100 Diff: 0.0022051908830889033\n",
      "Iteration: 101 Diff: 0.0020886075970274476\n",
      "Iteration: 102 Diff: 0.0019781981065438714\n",
      "Iteration: 103 Diff: 0.0018736344095966473\n",
      "Iteration: 104 Diff: 0.0017746060396692798\n",
      "Iteration: 105 Diff: 0.0016808191170341047\n",
      "Iteration: 106 Diff: 0.001591995452526973\n",
      "Iteration: 107 Diff: 0.0015078717006762332\n",
      "Iteration: 108 Diff: 0.0014281985596280578\n",
      "Iteration: 109 Diff: 0.001352740014882059\n",
      "Iteration: 110 Diff: 0.0012812726246416162\n",
      "Iteration: 111 Diff: 0.0012135848441339192\n",
      "Iteration: 112 Diff: 0.0011494763869581703\n",
      "Iteration: 113 Diff: 0.0010887576211864314\n",
      "Iteration: 114 Diff: 0.0010312489983377304\n",
      "Iteration: 115 Diff: 0.0009767805134828222\n",
      "Iteration: 116 Diff: 0.0009251911945291624\n",
      "Iteration: 117 Diff: 0.0008763286192152719\n",
      "Iteration: 118 Diff: 0.0008300484583347867\n",
      "Iteration: 119 Diff: 0.0007862140435292986\n",
      "Iteration: 120 Diff: 0.00074469595843496\n",
      "Iteration: 121 Diff: 0.0007053716519784814\n",
      "Iteration: 122 Diff: 0.0006681250723410415\n",
      "Iteration: 123 Diff: 0.0006328463207339041\n",
      "Iteration: 124 Diff: 0.0005994313237476234\n",
      "Iteration: 125 Diff: 0.000567781523278299\n",
      "Iteration: 126 Diff: 0.000537803583082308\n",
      "Iteration: 127 Diff: 0.0005094091111619292\n",
      "Iteration: 128 Diff: 0.00048251439683788533\n",
      "Iteration: 129 Diff: 0.00045704016202385844\n",
      "Iteration: 130 Diff: 0.00043291132583611613\n",
      "Iteration: 131 Diff: 0.00041005678165007\n",
      "Iteration: 132 Diff: 0.0003884091861241501\n",
      "Iteration: 133 Diff: 0.0003679047595532836\n",
      "Iteration: 134 Diff: 0.000348483096795249\n",
      "Iteration: 135 Diff: 0.0003300869882316704\n",
      "Iteration: 136 Diff: 0.0003126622504083798\n",
      "Iteration: 137 Diff: 0.00029615756561796047\n",
      "Iteration: 138 Diff: 0.0002805243299253135\n",
      "Iteration: 139 Diff: 0.0002657165094888114\n",
      "Iteration: 140 Diff: 0.0002516905043634665\n",
      "Iteration: 141 Diff: 0.00023840501959071503\n",
      "Iteration: 142 Diff: 0.00022582094312006973\n",
      "Iteration: 143 Diff: 0.00021390123028375285\n",
      "Iteration: 144 Diff: 0.00020261079432515317\n",
      "Iteration: 145 Diff: 0.0001919164027555098\n",
      "Iteration: 146 Diff: 0.00018178657932743647\n",
      "Iteration: 147 Diff: 0.00017219151092007223\n",
      "Iteration: 148 Diff: 0.00016310295974619748\n",
      "Iteration: 149 Diff: 0.0001544941799451749\n",
      "Iteration: 150 Diff: 0.0001463398386025716\n",
      "Iteration: 151 Diff: 0.0001386159411715937\n",
      "Iteration: 152 Diff: 0.0001312997605644739\n",
      "Iteration: 153 Diff: 0.00012436977022645124\n",
      "Iteration: 154 Diff: 0.0001178055806594358\n",
      "Iteration: 155 Diff: 0.00011158787920528823\n",
      "Iteration: 156 Diff: 0.00010569837330720588\n",
      "Iteration: 157 Diff: 0.00010011973645518424\n",
      "Iteration: 158 Diff: 9.483555714595582e-05\n",
      "Iteration: 159 Diff: 8.983029061226944e-05\n",
      "Iteration: 160 Diff: 8.50892129040659e-05\n",
      "Iteration: 161 Diff: 8.059837763418898e-05\n",
      "Iteration: 162 Diff: 7.63445747917757e-05\n",
      "Iteration: 163 Diff: 7.231529191464858e-05\n",
      "Iteration: 164 Diff: 6.849867721570035e-05\n",
      "Iteration: 165 Diff: 6.488350465261306e-05\n",
      "Iteration: 166 Diff: 6.145914090716076e-05\n",
      "Iteration: 167 Diff: 5.8215514075143915e-05\n",
      "Iteration: 168 Diff: 5.514308401011192e-05\n",
      "Iteration: 169 Diff: 5.2232814205410705e-05\n",
      "Iteration: 170 Diff: 4.947614525185884e-05\n",
      "Iteration: 171 Diff: 4.68649696099277e-05\n",
      "Iteration: 172 Diff: 4.439160774794004e-05\n",
      "Iteration: 173 Diff: 4.204878550595481e-05\n",
      "Iteration: 174 Diff: 3.982961280435404e-05\n",
      "Iteration: 175 Diff: 3.7727563208633796e-05\n",
      "Iteration: 176 Diff: 3.573645483001542e-05\n",
      "Iteration: 177 Diff: 3.385043211956429e-05\n",
      "Iteration: 178 Diff: 3.2063948619764915e-05\n",
      "Iteration: 179 Diff: 3.0371750622038007e-05\n",
      "Iteration: 180 Diff: 2.876886176217397e-05\n",
      "Iteration: 181 Diff: 2.7250568358283545e-05\n",
      "Iteration: 182 Diff: 2.5812405510805547e-05\n",
      "Iteration: 183 Diff: 2.4450144039178667e-05\n",
      "Iteration: 184 Diff: 2.3159777930104042e-05\n",
      "Iteration: 185 Diff: 2.193751267220989e-05\n",
      "Iteration: 186 Diff: 2.0779754029476294e-05\n",
      "Iteration: 187 Diff: 1.968309743993757e-05\n",
      "Iteration: 188 Diff: 1.86443180876239e-05\n",
      "Iteration: 189 Diff: 1.7660361343985187e-05\n",
      "Iteration: 190 Diff: 1.672833379551264e-05\n",
      "Iteration: 191 Diff: 1.5845494765187595e-05\n",
      "Iteration: 192 Diff: 1.5009248231834249e-05\n",
      "Iteration: 193 Diff: 1.4217135158034466e-05\n",
      "Iteration: 194 Diff: 1.346682632075158e-05\n",
      "Iteration: 195 Diff: 1.275611545281663e-05\n",
      "Iteration: 196 Diff: 1.2082912673960777e-05\n",
      "Iteration: 197 Diff: 1.1445238451202044e-05\n",
      "Iteration: 198 Diff: 1.0841217722656893e-05\n",
      "Iteration: 199 Diff: 1.0269074371294096e-05\n",
      "Iteration: 200 Diff: 9.72712603619641e-06\n",
      "Iteration: 201 Diff: 9.213779133432354e-06\n",
      "Iteration: 202 Diff: 8.727524189566793e-06\n",
      "Iteration: 203 Diff: 8.266931425637836e-06\n",
      "Iteration: 204 Diff: 7.830646479689563e-06\n",
      "Iteration: 205 Diff: 7.417386488128841e-06\n",
      "Iteration: 206 Diff: 7.025936298532542e-06\n",
      "Iteration: 207 Diff: 6.655144884959441e-06\n",
      "Iteration: 208 Diff: 6.30392196576679e-06\n",
      "Iteration: 209 Diff: 5.9712348026152995e-06\n",
      "Iteration: 210 Diff: 5.6561051682280095e-06\n",
      "Iteration: 211 Diff: 5.357606454481356e-06\n",
      "Iteration: 212 Diff: 5.074860965237349e-06\n",
      "Iteration: 213 Diff: 4.807037308651729e-06\n",
      "Iteration: 214 Diff: 4.553347991986811e-06\n",
      "Iteration: 215 Diff: 4.313047066162312e-06\n",
      "Iteration: 216 Diff: 4.08542795149458e-06\n",
      "Iteration: 217 Diff: 3.869821380675376e-06\n",
      "Iteration: 218 Diff: 3.6655933843832145e-06\n",
      "Iteration: 219 Diff: 3.4721434527540396e-06\n",
      "Iteration: 220 Diff: 3.2889027696825224e-06\n",
      "Iteration: 221 Diff: 3.1153325590338454e-06\n",
      "Iteration: 222 Diff: 2.95092245039541e-06\n",
      "Iteration: 223 Diff: 2.7951890224642284e-06\n",
      "Iteration: 224 Diff: 2.647674364197883e-06\n",
      "Iteration: 225 Diff: 2.507944742546897e-06\n",
      "Iteration: 226 Diff: 2.3755892772925336e-06\n",
      "Iteration: 227 Diff: 2.250218823718342e-06\n",
      "Iteration: 228 Diff: 2.1314647380421547e-06\n",
      "Iteration: 229 Diff: 2.0189778524581925e-06\n",
      "Iteration: 230 Diff: 1.9124273986648177e-06\n",
      "Iteration: 231 Diff: 1.811500105475261e-06\n",
      "Iteration: 232 Diff: 1.7158992005050777e-06\n",
      "Iteration: 233 Diff: 1.6253435788371462e-06\n",
      "Iteration: 234 Diff: 1.5395669947793067e-06\n",
      "Iteration: 235 Diff: 1.4583172287530033e-06\n",
      "Iteration: 236 Diff: 1.3813553643160503e-06\n",
      "Iteration: 237 Diff: 1.3084551344633155e-06\n",
      "Iteration: 238 Diff: 1.2394021737804906e-06\n",
      "Iteration: 239 Diff: 1.1739934482335457e-06\n",
      "Iteration: 240 Diff: 1.1120366192329811e-06\n",
      "Iteration: 241 Diff: 1.0533495533593396e-06\n",
      "Iteration: 242 Diff: 9.9775964557125e-07\n",
      "Iteration: 243 Diff: 9.45103469263131e-07\n",
      "Iteration: 244 Diff: 8.952262042782877e-07\n",
      "Iteration: 245 Diff: 8.479811643979929e-07\n",
      "Iteration: 246 Diff: 8.032294722681854e-07\n",
      "Iteration: 247 Diff: 7.608395229397047e-07\n",
      "Iteration: 248 Diff: 7.206866747822005e-07\n",
      "Iteration: 249 Diff: 6.826528640146989e-07\n",
      "Iteration: 250 Diff: 6.466262849613713e-07\n",
      "Iteration: 251 Diff: 6.1250097083132e-07\n",
      "Iteration: 252 Diff: 5.801765965429695e-07\n",
      "Iteration: 253 Diff: 5.495581358871959e-07\n",
      "Iteration: 254 Diff: 5.205555506648807e-07\n",
      "Iteration: 255 Diff: 4.930835384442389e-07\n",
      "Iteration: 256 Diff: 4.670613567014925e-07\n",
      "Iteration: 257 Diff: 4.4241248531307065e-07\n",
      "Iteration: 258 Diff: 4.190644400381416e-07\n",
      "Iteration: 259 Diff: 3.969485735666467e-07\n",
      "Iteration: 260 Diff: 3.759998516983387e-07\n",
      "Iteration: 261 Diff: 3.5615669879973666e-07\n",
      "Iteration: 262 Diff: 3.3736074911416836e-07\n",
      "Iteration: 263 Diff: 3.195567419567169e-07\n",
      "Iteration: 264 Diff: 3.026923369731094e-07\n",
      "Iteration: 265 Diff: 2.867179329513192e-07\n",
      "Iteration: 266 Diff: 2.715865754510105e-07\n",
      "Iteration: 267 Diff: 2.572537614042858e-07\n",
      "Iteration: 268 Diff: 2.43677350297844e-07\n",
      "Iteration: 269 Diff: 2.3081743627528795e-07\n",
      "Iteration: 270 Diff: 2.186361900413658e-07\n",
      "Iteration: 271 Diff: 2.0709779846583842e-07\n",
      "Iteration: 272 Diff: 1.961683491202848e-07\n",
      "Iteration: 273 Diff: 1.8581567751141392e-07\n",
      "Iteration: 274 Diff: 1.7600937773920577e-07\n",
      "Iteration: 275 Diff: 1.6672059643951798e-07\n",
      "Iteration: 276 Diff: 1.579220150205174e-07\n",
      "Iteration: 277 Diff: 1.495877803847634e-07\n",
      "Iteration: 278 Diff: 1.4169337880787225e-07\n",
      "Iteration: 279 Diff: 1.3421559863502353e-07\n",
      "Iteration: 280 Diff: 1.2713246277940016e-07\n",
      "Iteration: 281 Diff: 1.204231221407781e-07\n",
      "Iteration: 282 Diff: 1.1406786626366738e-07\n",
      "Iteration: 283 Diff: 1.0804800609776066e-07\n",
      "Iteration: 284 Diff: 1.0234584735258068e-07\n",
      "Iteration: 285 Diff: 9.694460523235193e-08\n",
      "Iteration: 286 Diff: 9.182841154142807e-08\n",
      "Iteration: 287 Diff: 8.698222764280672e-08\n",
      "Iteration: 288 Diff: 8.239179649649486e-08\n",
      "Iteration: 289 Diff: 7.804362489594041e-08\n",
      "Iteration: 290 Diff: 7.392491774282917e-08\n",
      "Iteration: 291 Diff: 7.002357804708481e-08\n",
      "Iteration: 292 Diff: 6.63281252144543e-08\n",
      "Iteration: 293 Diff: 6.282770392829207e-08\n",
      "Iteration: 294 Diff: 5.951201309528642e-08\n",
      "Iteration: 295 Diff: 5.6371302292745895e-08\n",
      "Iteration: 296 Diff: 5.339633801781929e-08\n",
      "Iteration: 297 Diff: 5.057838592392727e-08\n",
      "Iteration: 298 Diff: 4.790913799013197e-08\n",
      "Iteration: 299 Diff: 4.5380772917269496e-08\n",
      "Iteration: 300 Diff: 4.298582467754386e-08\n",
      "Iteration: 301 Diff: 4.071727310872575e-08\n",
      "Iteration: 302 Diff: 3.856845509631057e-08\n",
      "Iteration: 303 Diff: 3.6533016611883795e-08\n",
      "Iteration: 304 Diff: 3.4605012189103945e-08\n",
      "Iteration: 305 Diff: 3.277875748608494e-08\n",
      "Iteration: 306 Diff: 3.104887724703076e-08\n",
      "Iteration: 307 Diff: 2.9410291091380714e-08\n",
      "Iteration: 308 Diff: 2.7858190421170548e-08\n",
      "Iteration: 309 Diff: 2.6387985130327252e-08\n",
      "Iteration: 310 Diff: 2.499536932987212e-08\n",
      "Iteration: 311 Diff: 2.3676262728145048e-08\n",
      "Iteration: 312 Diff: 2.2426767998240393e-08\n",
      "Iteration: 313 Diff: 2.124319742335956e-08\n",
      "Iteration: 314 Diff: 2.0122111976661472e-08\n",
      "Iteration: 315 Diff: 1.9060175660001732e-08\n",
      "Iteration: 316 Diff: 1.805428340162507e-08\n",
      "Iteration: 317 Diff: 1.7101488225534922e-08\n",
      "Iteration: 318 Diff: 1.61989639479998e-08\n",
      "Iteration: 319 Diff: 1.5344072679113197e-08\n",
      "Iteration: 320 Diff: 1.4534300873947359e-08\n",
      "Iteration: 321 Diff: 1.3767255779839616e-08\n",
      "Iteration: 322 Diff: 1.3040700963529162e-08\n",
      "Iteration: 323 Diff: 1.2352499467738198e-08\n",
      "Iteration: 324 Diff: 1.1700587165819343e-08\n",
      "Iteration: 325 Diff: 1.1083107764875422e-08\n",
      "Iteration: 326 Diff: 1.0498197866581904e-08\n",
      "Iteration: 327 Diff: 9.944159273800324e-09\n"
     ]
    }
   ],
   "source": [
    "# Setting up parameters for iterations\n",
    "tolerance = 1e-8\n",
    "max_steps = 1000\n",
    "step = 0\n",
    "\n",
    "# 1.0 is essentially undamped direct iteration\n",
    "alpha = 1.0\n",
    "\n",
    "# Setting up initial guess\n",
    "tr = np.zeros(N)\n",
    "\n",
    "while step < max_steps:\n",
    "    # Store previous t(r)\n",
    "    tr_prev = tr\n",
    "\n",
    "    # t(r) -> c(r) from closure\n",
    "    cr = HNC(beta, ur, tr)\n",
    "\n",
    "    # c(r) -> F(t(r)) from RISM equation\n",
    "    f_tr = RISM(cr, wk, rho, r_grid, k_grid, dr, dk)\n",
    "\n",
    "    # Use Picard iteration to get the new solution\n",
    "    # Since we set alpha = 1.0 above, this is \n",
    "    # essentially direct iteration (tr_new = f_tr).\n",
    "    tr_new = alpha * f_tr + (1.0 - alpha) * tr_prev\n",
    "    \n",
    "    # Check the absolute value of the difference between the current and previous solution\n",
    "    # We use .max() because we want to check that all values are below the tolerance, and\n",
    "    # if the maximum value of the difference array is below, then so must the other values be.\n",
    "    diff = abs((tr_new - tr_prev).max())\n",
    "    \n",
    "    # Set t(r) to the new t(r) we just computed\n",
    "    tr = tr_new\n",
    "\n",
    "    # Print the iteration step and difference\n",
    "    print(\"Iteration: {step} Diff: {diff}\".format(step=step, diff=diff))\n",
    "\n",
    "    # Test if the difference is below our tolerance\n",
    "    if diff < tolerance:\n",
    "        break\n",
    "\n",
    "    # Update our step counter. We have a max_step because we don't want this calculation to go \n",
    "    # on forever and freeze our PC.\n",
    "    step += 1"
   ]
  },
  {
   "cell_type": "markdown",
   "id": "c4b95f0a-7ab6-4d43-8094-922c5b53ea1f",
   "metadata": {},
   "source": [
    "Once solved, we can use the calculated correlation functions to calculate the radial distribution function and plot it."
   ]
  },
  {
   "cell_type": "code",
   "execution_count": 15,
   "id": "a8ae7f5f-578e-4bdb-8b4d-c3d97faceeb0",
   "metadata": {},
   "outputs": [
    {
     "data": {
      "image/png": "[encoded data removed]",
      "text/plain": [
       "<Figure size 640x480 with 1 Axes>"
      ]
     },
     "metadata": {},
     "output_type": "display_data"
    }
   ],
   "source": [
    "# Get c(r) from the solved t(r)\n",
    "cr = HNC(beta, ur, tr)\n",
    "\n",
    "# Get h(r)\n",
    "hr = tr + cr\n",
    "\n",
    "# Get and plot g(r)\n",
    "gr = hr + 1\n",
    "\n",
    "plt.plot(r_grid, gr)\n",
    "plt.show()"
   ]
  },
  {
   "cell_type": "markdown",
   "id": "2d48c3ec-ba25-4bbf-8d74-b48b1c38ae65",
   "metadata": {
    "tags": []
   },
   "source": [
    "This is the radial distribution function for a Lennard-Jones Argon liquid!"
   ]
  },
  {
   "cell_type": "markdown",
   "id": "d1c52054-2bd1-4781-ae01-97f863081200",
   "metadata": {},
   "source": [
    "On your machine you might find that it took over 300 iterations to come to a solution.\n",
    "We're using a very simple iteration scheme, but there are more complex iteration schemes we can use that can reduce the number of iterations.\n",
    "We will look at one convergence acceleration method later, but most methods are beyond the scope of this tutorial."
   ]
  },
  {
   "cell_type": "markdown",
   "id": "eec3b898-bea4-48df-b7a1-c7cf6553166f",
   "metadata": {},
   "source": [
    "## Nitrogen - Introducing the Coulomb Potential"
   ]
  },
  {
   "cell_type": "code",
   "execution_count": null,
   "id": "58baa068-c90a-49d8-a7fc-bc5e845754bd",
   "metadata": {},
   "outputs": [],
   "source": []
  }
 ],
 "metadata": {
  "kernelspec": {
   "display_name": "Python 3 (ipykernel)",
   "language": "python",
   "name": "python3"
  },
  "language_info": {
   "codemirror_mode": {
    "name": "ipython",
    "version": 3
   },
   "file_extension": ".py",
   "mimetype": "text/x-python",
   "name": "python",
   "nbconvert_exporter": "python",
   "pygments_lexer": "ipython3",
   "version": "3.9.17"
  }
 },
 "nbformat": 4,
 "nbformat_minor": 5
}
