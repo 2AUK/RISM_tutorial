{
 "cells": [
  {
   "cell_type": "markdown",
   "id": "5e929689-952b-4b00-b8eb-d6df4a0a5678",
   "metadata": {},
   "source": [
    "# RISM - A Gentle Introduction"
   ]
  },
  {
   "cell_type": "markdown",
   "id": "1cc3e0ab-8b1a-4a4c-9fcd-10b2458cd7d0",
   "metadata": {},
   "source": [
    "We are going to write a Python implementation of the extended RISM equation with the goal of computing the direct, indirect and total correlation function along with the radial distribution function."
   ]
  },
  {
   "cell_type": "markdown",
   "id": "43050c62-e1bb-46f3-a09e-bbc8871af275",
   "metadata": {},
   "source": [
    "First, we import the libraries we will be needing:"
   ]
  },
  {
   "cell_type": "code",
   "execution_count": 128,
   "id": "18a17f90-70f6-422e-b1cc-d0303bbe78f3",
   "metadata": {},
   "outputs": [],
   "source": [
    "import numpy as np\n",
    "from scipy.fftpack import dstn, idstn\n",
    "from scipy.special import erf\n",
    "import matplotlib.pyplot as plt"
   ]
  },
  {
   "cell_type": "markdown",
   "id": "cb1166f7-b064-45b0-b87f-b2ad0d00ee24",
   "metadata": {},
   "source": [
    "First, we need to set up our problem domain. While the RISM equations are written as continuous functions $r$ (e.g. $c(r)$), computationally we solve them on a discretised grid.\n",
    "\n",
    "We'll set up a discrete domain of length (or radius since we are working with spherically symmetric functions) $r = 15\\, Å$ partitioned into $N = 100$ points. The resulting grid spacing is given by $\\Delta r = \\frac{r}{N}$."
   ]
  },
  {
   "cell_type": "code",
   "execution_count": 129,
   "id": "97cc8d43-e8e2-422d-bfb6-82f92ada9573",
   "metadata": {},
   "outputs": [],
   "source": [
    "r = 15.0\n",
    "N = 500\n",
    "dr = r / N"
   ]
  },
  {
   "cell_type": "markdown",
   "id": "76ca9db6-c7e3-47f2-a548-b3951c60df83",
   "metadata": {},
   "source": [
    "We also want to set up a grid spacing for our Fourier-space grid such that $\\Delta r \\Delta k = \\frac{\\pi}{N}$"
   ]
  },
  {
   "cell_type": "code",
   "execution_count": 130,
   "id": "1879c0c5-94e4-43b2-bc3b-b538151c1585",
   "metadata": {},
   "outputs": [],
   "source": [
    "dk = 2.0 * np.pi / (2.0 * N * dr)"
   ]
  },
  {
   "cell_type": "markdown",
   "id": "19288397-40c9-438a-bd93-cf3568b6a87f",
   "metadata": {},
   "source": [
    "Lets check the equality we stated above:"
   ]
  },
  {
   "cell_type": "code",
   "execution_count": 131,
   "id": "bf0060ec-adb2-4b14-bf99-c1ae161f28ee",
   "metadata": {},
   "outputs": [
    {
     "data": {
      "text/plain": [
       "True"
      ]
     },
     "execution_count": 131,
     "metadata": {},
     "output_type": "execute_result"
    }
   ],
   "source": [
    "np.isclose(dr * dk, np.pi / N)"
   ]
  },
  {
   "cell_type": "markdown",
   "id": "2971c660-9d79-48d1-b188-7e59c83bf24c",
   "metadata": {},
   "source": [
    "We use `np.isclose()` here because we are comparing floating point numbers. Using `==` would not work since there is always some precision loss with floats. You need to compared them within tolerances instead.\n",
    "\n",
    "We can use these to generate our real and Fourier-space midpoint grids."
   ]
  },
  {
   "cell_type": "code",
   "execution_count": 132,
   "id": "7fdb7ab7-1798-4bc6-822a-9927a56f56c4",
   "metadata": {},
   "outputs": [],
   "source": [
    "r_grid = np.arange(0.5, N, 1.0) * dr\n",
    "k_grid = np.arange(0.5, N, 1.0) * dk"
   ]
  },
  {
   "cell_type": "markdown",
   "id": "eec3b898-bea4-48df-b7a1-c7cf6553166f",
   "metadata": {},
   "source": [
    "## Water - A System of Interest"
   ]
  },
  {
   "cell_type": "markdown",
   "id": "75c08c0d",
   "metadata": {},
   "source": [
    "Water"
   ]
  },
  {
   "cell_type": "code",
   "execution_count": 133,
   "id": "52056317-02ba-4bb2-bb6f-82449933ef50",
   "metadata": {
    "tags": []
   },
   "outputs": [],
   "source": [
    "T = 298.15 # Kelvin\n",
    "kB = 8.314462618e-3 # kJ / mol / K\n",
    "beta = 1.0 / T / kB # Thermodynamic Beta"
   ]
  },
  {
   "cell_type": "markdown",
   "id": "ecc93c8a",
   "metadata": {},
   "source": [
    "Programmatically"
   ]
  },
  {
   "cell_type": "code",
   "execution_count": 134,
   "id": "9ec9d76f",
   "metadata": {},
   "outputs": [],
   "source": [
    "ns = 3\n",
    "\n",
    "ow_eps = 78.15 * kB\n",
    "ow_sigma = 3.16572\n",
    "ow_charge = -0.8476\n",
    "\n",
    "hw_eps = 7.815 * kB\n",
    "hw_sigma = 1.16572\n",
    "hw_charge = 0.4238\n",
    "\n",
    "dens = 0.0334\n",
    "\n",
    "rho = np.diag([dens, dens, dens])\n",
    "\n",
    "params = [ [ow_eps, ow_sigma, ow_charge], [hw_eps, hw_sigma, hw_charge], [hw_eps, hw_sigma, hw_charge] ]\n",
    "\n",
    "coords = [ np.array([0.0, 0.0, 0.0]), np.array([1.0, 0.0, 0.0]), np.array([-0.333314, 0.942816, 0.0])]"
   ]
  },
  {
   "cell_type": "code",
   "execution_count": 135,
   "id": "9ac9ddb7",
   "metadata": {},
   "outputs": [],
   "source": [
    "def dist_matrix(coords):\n",
    "    ns = len(coords)\n",
    "    dist = np.zeros((ns, ns))\n",
    "    for i, j in np.ndindex((ns, ns)):\n",
    "        dist[i, j] = np.linalg.norm(coords[i] - coords[j])\n",
    "    return dist"
   ]
  },
  {
   "cell_type": "code",
   "execution_count": 136,
   "id": "2f299ebf",
   "metadata": {},
   "outputs": [],
   "source": [
    "def wk(coords, k):\n",
    "    dists = dist_matrix(coords)\n",
    "    out = np.zeros((N, ns, ns))\n",
    "    for i, j in np.ndindex((ns, ns)):\n",
    "        dist_ij = dists[i, j]\n",
    "        if dist_ij == 0.0:\n",
    "            out[:, i, j] = np.ones(N)\n",
    "        else:\n",
    "            out[:, i, j] = np.sin(k * dist_ij) / (k * dist_ij)\n",
    "    return out\n",
    "\n",
    "water_wk = wk(coords, k_grid)"
   ]
  },
  {
   "cell_type": "code",
   "execution_count": 137,
   "id": "b94ec468",
   "metadata": {},
   "outputs": [],
   "source": [
    "ec = 1.602176565e-19 # A*s\n",
    "eps_0 = 8.854187817620e-12 # A^2*s^4/kg/m^3\n",
    "Na = 6.02214129e23 # 1 / mol\n",
    "kc = 1.0 / 4.0 / np.pi/ eps_0 # J*m/A^2/s^2\n",
    "kc_a = kc * 1e10 # J*angstrom/A^2/s^2\n",
    "kc_akj = kc_a * 1e-3 # kJ*angstrom/A^2/s^2\n",
    "kc_akjmol = kc_akj * Na # kJ*angstrom/A^2/s^2/mol\n",
    "lb = ec * ec * kc_akjmol # kJ*angstrom/mol\n",
    "\n",
    "def LJ(epsilon, sigma, r):\n",
    "    return 4.0 * epsilon * ( np.power( (sigma / r), 12) - np.power( (sigma / r), 6) )\n",
    "\n",
    "def Coulomb(q, r):\n",
    "    return lb * q / r\n",
    "\n",
    "from scipy.special import erf\n",
    "\n",
    "def Ng_real(q, r):\n",
    "    return lb * q * erf(r) / r\n",
    "\n",
    "def Ng_fourier(q, k):\n",
    "    return 4.0 * np.pi * lb * q * np.exp(-np.power(k, 2.0) / 4.0) / np.power(k, 2.0)"
   ]
  },
  {
   "cell_type": "code",
   "execution_count": 138,
   "id": "0e99332f",
   "metadata": {},
   "outputs": [],
   "source": [
    "def lorentz_berthelot(eps1, eps2, sig1, sig2):\n",
    "    return np.sqrt(eps1 * eps2), 0.5 * (sig1 + sig2)"
   ]
  },
  {
   "cell_type": "code",
   "execution_count": 139,
   "id": "a091f9ee",
   "metadata": {},
   "outputs": [],
   "source": [
    "def energy(params, r):\n",
    "    out = np.zeros((N, ns, ns))\n",
    "    for i, j in np.ndindex((ns, ns)):\n",
    "        eps, sig = lorentz_berthelot(\n",
    "            params[i][0], params[j][0], params[i][1], params[j][1]\n",
    "        )\n",
    "        q = params[i][2] * params[j][2]\n",
    "        out[:, i, j] = LJ(eps, sig, r) + Coulomb(q, r)\n",
    "\n",
    "    return out"
   ]
  },
  {
   "cell_type": "code",
   "execution_count": 140,
   "id": "57b9c6e4",
   "metadata": {},
   "outputs": [],
   "source": [
    "def renorm(params, r, k):\n",
    "    out_r = np.zeros((N, ns, ns))\n",
    "    out_k = np.zeros((N, ns, ns))\n",
    "    for i, j in np.ndindex((ns, ns)):\n",
    "        q = params[i][2] * params[j][2]\n",
    "        out_r[:, i, j] = Ng_real(q, r)\n",
    "        out_k[:, i, j] = Ng_fourier(q, k)\n",
    "\n",
    "    return out_r, out_k"
   ]
  },
  {
   "cell_type": "code",
   "execution_count": 141,
   "id": "8cbc98a9",
   "metadata": {},
   "outputs": [],
   "source": [
    "ur = energy(params, r_grid)\n",
    "ur_lr, uk_lr = renorm(params, r_grid, k_grid)\n",
    "\n",
    "ur_sr = ur - ur_lr"
   ]
  },
  {
   "cell_type": "code",
   "execution_count": 142,
   "id": "229065ef",
   "metadata": {},
   "outputs": [],
   "source": [
    "def HNC(beta, ur, tr):\n",
    "    return np.exp(-beta * ur + tr) - 1.0 - tr\n",
    "\n",
    "def PY(beta, ur, tr):\n",
    "    return np.exp(-beta * ur) * (1.0 + tr) - 1.0 - tr\n",
    "\n",
    "def fbt(fr, r, k, dr):\n",
    "    return 2.0 * np.pi * dr * dstn(fr * r[:, np.newaxis, np.newaxis], type=4, axes=[0]) / k[:, np.newaxis, np.newaxis]\n",
    "\n",
    "def ifbt(fk, r, k, dk):\n",
    "    return dk / 4.0 / np.pi / np.pi * idstn(fk * k[:, np.newaxis, np.newaxis], type=4, axes=[0]) / r[:, np.newaxis, np.newaxis]\n",
    "\n",
    "def RISM(cr, vk_lr, w, p, r, k, dr, dk):\n",
    "    N = r.shape[0]\n",
    "    \n",
    "    I = np.eye(w.shape[1])\n",
    "    tk = np.zeros_like(cr)\n",
    "    # Transform c(r) to c(k)\n",
    "    ck = fbt(cr, r, k, dr)\n",
    "\n",
    "    ck -= vk_lr\n",
    "\n",
    "    # Solve the RISM equation for t(k)\n",
    "    for l in np.arange(0, N):\n",
    "        A = np.linalg.inv(I - p @ w[l] @ ck[l])\n",
    "        B = w[l] @ ck[l] @ w[l]\n",
    "        tk[l] = A @ B - ck[l]\n",
    "    \n",
    "    tk -= vk_lr\n",
    "    \n",
    "    # Transform t(k) to t(r)\n",
    "    tr = ifbt(tk, r, k, dk)\n",
    "    return tr\n",
    "\n",
    "def picard_iteration(tolerance, max_step, alpha, initial_tr, beta, ur_sr, uk_lr,  wk, rho):\n",
    "    # Set up our loop variable tr\n",
    "    tr = initial_tr\n",
    "    \n",
    "    # Define our counter\n",
    "    step = 0\n",
    "    \n",
    "    while True:\n",
    "        # Store previous t(r)\n",
    "        tr_prev = tr\n",
    "\n",
    "        # t(r) -> c(r) from closure\n",
    "        cr = HNC(beta, ur_sr, tr)\n",
    "\n",
    "        # c(r) -> F(t(r)) from RISM equation\n",
    "        f_tr = RISM(cr, beta * uk_lr, wk, rho, r_grid, k_grid, dr, dk)\n",
    "\n",
    "        # Use Picard iteration to get the new solution\n",
    "        # Since we set alpha = 1.0 above, this is \n",
    "        # essentially direct iteration (tr_new = f_tr).\n",
    "        tr_new = alpha * f_tr + (1.0 - alpha) * tr_prev\n",
    "\n",
    "        # Check the absolute value of the difference between the current and previous solution\n",
    "        # We use .max() because we want to check that all values are below the tolerance, and\n",
    "        # if the maximum value of the difference array is below, then so must the other values be.\n",
    "        diff = np.sqrt(np.power((tr_new - tr_prev), 2).sum() * dr)\n",
    "\n",
    "        # Set t(r) to the new t(r) we just computed\n",
    "        tr = tr_new\n",
    "\n",
    "        # Print the iteration step every 100 steps and difference\n",
    "        if step % 100 == 0:\n",
    "            print(\"Iteration: {step} Diff: {diff:.2e}\".format(step=step, diff=diff))\n",
    "\n",
    "        # Test if the difference is below our tolerance\n",
    "        if diff < tolerance:\n",
    "            print(\"Final Iteration: {step} Diff: {diff:.2e}\".format(step=step, diff=diff))\n",
    "            break\n",
    "        \n",
    "        # If we reach max_step, raise an error!\n",
    "        if step == max_step:\n",
    "            print(\"Reached max steps!\")\n",
    "            break\n",
    "\n",
    "        if np.any(np.isnan(tr)):\n",
    "            print(\"Diverged at iteration: {step}\".format(step=step))\n",
    "            break\n",
    "\n",
    "        # Update our step counter. We have a max_step because we don't want this calculation to go \n",
    "        # on forever and freeze our PC.\n",
    "        step += 1\n",
    "    \n",
    "    # Return solved t(r)\n",
    "    return tr"
   ]
  },
  {
   "cell_type": "code",
   "execution_count": 145,
   "id": "88235a2f",
   "metadata": {},
   "outputs": [
    {
     "name": "stdout",
     "output_type": "stream",
     "text": [
      "1.0\n",
      "Iteration: 0 Diff: 8.90e+00\n",
      "Iteration: 100 Diff: 4.26e-01\n",
      "Iteration: 200 Diff: 1.36e-01\n",
      "Iteration: 300 Diff: 4.04e-02\n",
      "Iteration: 400 Diff: 1.11e-02\n",
      "Iteration: 500 Diff: 2.99e-03\n",
      "Iteration: 600 Diff: 7.98e-04\n",
      "Iteration: 700 Diff: 2.12e-04\n",
      "Iteration: 800 Diff: 5.65e-05\n",
      "Iteration: 900 Diff: 1.50e-05\n",
      "Iteration: 1000 Diff: 4.00e-06\n",
      "Iteration: 1100 Diff: 1.06e-06\n",
      "Iteration: 1200 Diff: 2.82e-07\n",
      "Final Iteration: 1279 Diff: 9.92e-08\n"
     ]
    }
   ],
   "source": [
    "tolerance = 1e-7\n",
    "max_step = 10000\n",
    "alpha = 0.7\n",
    "initial_tr = np.zeros((N, ns, ns))\n",
    "lambdas = 1\n",
    "\n",
    "for ilam in range(1, lambdas+1):\n",
    "    lam = ilam / lambdas\n",
    "    print(lam)\n",
    "    tr = picard_iteration(tolerance, max_step, alpha, initial_tr, beta, lam * ur_sr, lam * uk_lr, water_wk, rho)\n",
    "    initial_tr = tr\n",
    "\n",
    "\n",
    "cr = HNC(beta, ur_sr, tr) - beta * ur_lr\n",
    "tr += beta * ur_lr"
   ]
  },
  {
   "cell_type": "code",
   "execution_count": 146,
   "id": "b138a013",
   "metadata": {},
   "outputs": [
    {
     "data": {
      "image/png": "[encoded data removed]",
      "text/plain": [
       "<Figure size 640x480 with 1 Axes>"
      ]
     },
     "metadata": {},
     "output_type": "display_data"
    }
   ],
   "source": [
    "hr = tr + cr\n",
    "\n",
    "gr = hr + 1.0\n",
    "\n",
    "plt.plot(r_grid, gr[:, 0, 0])\n",
    "plt.plot(r_grid, gr[:, 0, 1])\n",
    "plt.plot(r_grid, gr[:, 1, 1])\n",
    "plt.axhline(1, color=\"grey\", linestyle=\"--\", linewidth=2)\n",
    "plt.xlim([0, 9])\n",
    "plt.show()"
   ]
  }
 ],
 "metadata": {
  "kernelspec": {
   "display_name": "Python 3 (ipykernel)",
   "language": "python",
   "name": "python3"
  },
  "language_info": {
   "codemirror_mode": {
    "name": "ipython",
    "version": 3
   },
   "file_extension": ".py",
   "mimetype": "text/x-python",
   "name": "python",
   "nbconvert_exporter": "python",
   "pygments_lexer": "ipython3",
   "version": "3.10.13"
  }
 },
 "nbformat": 4,
 "nbformat_minor": 5
}
