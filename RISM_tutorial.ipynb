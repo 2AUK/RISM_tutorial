{
 "cells": [
  {
   "cell_type": "markdown",
   "id": "5e929689-952b-4b00-b8eb-d6df4a0a5678",
   "metadata": {},
   "source": [
    "# RISM - A Gentle Introduction"
   ]
  },
  {
   "cell_type": "markdown",
   "id": "1cc3e0ab-8b1a-4a4c-9fcd-10b2458cd7d0",
   "metadata": {},
   "source": [
    "We are going to write a Python implementation of the extended RISM equation with the goal of computing the direct, indirect and total correlation function along with the radial distribution function."
   ]
  },
  {
   "cell_type": "markdown",
   "id": "43050c62-e1bb-46f3-a09e-bbc8871af275",
   "metadata": {},
   "source": [
    "First, we import the libraries we will be needing:"
   ]
  },
  {
   "cell_type": "code",
   "execution_count": 1,
   "id": "18a17f90-70f6-422e-b1cc-d0303bbe78f3",
   "metadata": {},
   "outputs": [],
   "source": [
    "import numpy as np\n",
    "from scipy.fftpack import dstn, idstn\n",
    "from scipy.special import erf\n",
    "import matplotlib.pyplot as plt"
   ]
  },
  {
   "cell_type": "markdown",
   "id": "cb1166f7-b064-45b0-b87f-b2ad0d00ee24",
   "metadata": {},
   "source": [
    "First, we need to set up our problem domain. While the RISM equations are written as continuous functions $r$ (e.g. $c(r)$), computationally we solve them on a discretised grid.\n",
    "\n",
    "We'll set up a discrete domain of length (or radius since we are working with spherically symmetric functions) $r = 15\\, Å$ partitioned into $N = 100$ points. The resulting grid spacing is given by $\\Delta r = \\frac{r}{N}$."
   ]
  },
  {
   "cell_type": "code",
   "execution_count": 2,
   "id": "97cc8d43-e8e2-422d-bfb6-82f92ada9573",
   "metadata": {},
   "outputs": [],
   "source": [
    "r = 15.0\n",
    "N = 100\n",
    "dr = r / N"
   ]
  },
  {
   "cell_type": "markdown",
   "id": "76ca9db6-c7e3-47f2-a548-b3951c60df83",
   "metadata": {},
   "source": [
    "We also want to set up a grid spacing for our Fourier-space grid such that $\\Delta r \\Delta k = \\frac{\\pi}{N}$"
   ]
  },
  {
   "cell_type": "code",
   "execution_count": 3,
   "id": "1879c0c5-94e4-43b2-bc3b-b538151c1585",
   "metadata": {},
   "outputs": [],
   "source": [
    "dk = 2.0 * np.pi / (2.0 * N * dr)"
   ]
  },
  {
   "cell_type": "markdown",
   "id": "19288397-40c9-438a-bd93-cf3568b6a87f",
   "metadata": {},
   "source": [
    "Lets check the equality we stated above:"
   ]
  },
  {
   "cell_type": "code",
   "execution_count": 4,
   "id": "bf0060ec-adb2-4b14-bf99-c1ae161f28ee",
   "metadata": {},
   "outputs": [
    {
     "data": {
      "text/plain": [
       "True"
      ]
     },
     "execution_count": 4,
     "metadata": {},
     "output_type": "execute_result"
    }
   ],
   "source": [
    "np.isclose(dr * dk, np.pi / N)"
   ]
  },
  {
   "cell_type": "markdown",
   "id": "2971c660-9d79-48d1-b188-7e59c83bf24c",
   "metadata": {},
   "source": [
    "We use `np.isclose()` here because we are comparing floating point numbers. Using `==` would not work since there is always some precision loss with floats. You need to compared them within tolerances instead.\n",
    "\n",
    "We can use these to generate our real and Fourier-space midpoint grids."
   ]
  },
  {
   "cell_type": "code",
   "execution_count": 5,
   "id": "7fdb7ab7-1798-4bc6-822a-9927a56f56c4",
   "metadata": {},
   "outputs": [],
   "source": [
    "r_grid = np.arange(0.5, N, 1.0) * dr\n",
    "k_grid = np.arange(0.5, N, 1.0) * dk"
   ]
  },
  {
   "cell_type": "markdown",
   "id": "99ed2917-d40d-44ab-99bc-e2692ca4b81a",
   "metadata": {},
   "source": [
    "## Simple Argon Liquid"
   ]
  },
  {
   "cell_type": "markdown",
   "id": "2c1fc071-4a19-405b-9883-101bfd6bff4e",
   "metadata": {},
   "source": [
    "Now that we have our problem domain set up, we can focus on solving a particular problem. We're going to look at solving RISM for a simple Lennard-Jones Argon liquid system.\n",
    "\n",
    "We first need to set up the thermodynamical state of the system and the unit systems we're going to use. We'll be working with energies in kJ / mol."
   ]
  },
  {
   "cell_type": "code",
   "execution_count": 6,
   "id": "594d458d-5e7e-41e3-b3d9-8e51a6c67f05",
   "metadata": {},
   "outputs": [],
   "source": [
    "T = 300.0 # Kelvin\n",
    "kB = 8.314462618e-3 # kJ / mol / K\n",
    "beta = 1.0 / T / kB # Thermodynamic Beta"
   ]
  },
  {
   "cell_type": "markdown",
   "id": "b22e027e-3dc7-4e1e-bac9-134396ff3f8c",
   "metadata": {},
   "source": [
    "We also need to define the parameters for Argon, as well as its number density. "
   ]
  },
  {
   "cell_type": "code",
   "execution_count": 7,
   "id": "420894b5-8233-4ae3-a487-ef436061fc88",
   "metadata": {},
   "outputs": [],
   "source": [
    "epsilon = 0.99773551416 # kJ / mol\n",
    "sigma = 3.4 # Angstroms\n",
    "rho = 0.021017479720736955"
   ]
  },
  {
   "cell_type": "markdown",
   "id": "2df16806-3053-4f18-9e36-99b5d8d652c1",
   "metadata": {},
   "source": [
    "We need to tabulate the LJ potential with the above parameters. We define a function to evaluate the potential over a grid, and then we plot the potential."
   ]
  },
  {
   "cell_type": "code",
   "execution_count": 8,
   "id": "4041ca68-9477-44f1-8dd5-9fb46128f8d3",
   "metadata": {},
   "outputs": [],
   "source": [
    "def LJ(epsilon, sigma, r):\n",
    "    return 4.0 * epsilon * ( np.power( (sigma / r), 12) - np.power( (sigma / r), 6) )"
   ]
  },
  {
   "cell_type": "code",
   "execution_count": 9,
   "id": "b8161d69-4283-4ca8-a45b-7f1a31e516bf",
   "metadata": {},
   "outputs": [
    {
     "data": {
      "image/png": "[encoded data removed]",
      "text/plain": [
       "<Figure size 640x480 with 1 Axes>"
      ]
     },
     "metadata": {},
     "output_type": "display_data"
    }
   ],
   "source": [
    "ur = LJ(epsilon, sigma, r_grid)\n",
    "\n",
    "plt.plot(r_grid, ur)\n",
    "plt.ylim([-1.5, 1.0])\n",
    "plt.show()"
   ]
  },
  {
   "cell_type": "markdown",
   "id": "51afe76f-9b93-496e-aaa1-b4d87865cf65",
   "metadata": {},
   "source": [
    "One aspect of the RISM equation that we need to consider is the intramolecular correlation function $\\omega(k)$. In the case of a simple liquid, $\\omega(k) = 1$, in which case we the RISM equation reduces to the Ornstein-Zernike (OZ) equation.\n",
    "We'll implement the full RISM equation, but we will set $\\omega(k)$ to 1 for the case our current system."
   ]
  },
  {
   "cell_type": "code",
   "execution_count": 10,
   "id": "d252ba9f-5ccd-4efc-930a-00d31cc92d1c",
   "metadata": {},
   "outputs": [],
   "source": [
    "wk = np.ones(N)"
   ]
  },
  {
   "cell_type": "markdown",
   "id": "bc6c6720-0ee0-4604-8e1a-37ad9cdb88aa",
   "metadata": {},
   "source": [
    "Another aspect is the closure. The closure is what relates our unknowns ($h(r)$ and $c(r)$), in a sense \"closing\" the RISM equation.\n",
    "Generally the closure in terms of $c(r)$ is $$ c(r) = e^{-\\beta u(r) + t(r) - B(r)} - t(r) - 1 $$ where $B(r)$ is the bridge function - something that we need to approximate - and $t(r) = h(r) - c(r)$ is the indirect correlation function.\n",
    "\n",
    "We're going to use the simplest approximation, $B(r) = 0$. This is the Hypernetted Chain (HNC) closure.\n",
    "\n",
    "$$ c(r) = e^{-\\beta u(r) + t(r)} - t(r) - 1 $$"
   ]
  },
  {
   "cell_type": "code",
   "execution_count": 11,
   "id": "ec371707-7ab8-4875-89ca-da7f5a3d292c",
   "metadata": {},
   "outputs": [],
   "source": [
    "def HNC(beta, ur, tr):\n",
    "    return np.exp(-beta * ur + tr) - 1.0 - tr"
   ]
  },
  {
   "cell_type": "markdown",
   "id": "e0f5f445-e7ec-465e-9829-dddd494cd9c1",
   "metadata": {},
   "source": [
    "The final detail before we implement the RISM equation is that we need to be able to transform our correlation functions into Fourier-space and back.\n",
    "We use the Fourier transforms of spherically symmetric functions:\n",
    "\n",
    "$$ f(k) = 4 \\pi \\int_0^\\infty f(r) r^2 \\frac{\\sin(kr)}{kr} dr $$\n",
    "\n",
    "and the inverse:\n",
    "\n",
    "$$ f(r) = \\frac{1}{2 \\pi^2} \\int_0^\\infty f(k) k^2 \\frac{\\sin(kr)}{kr} dk $$\n",
    "\n",
    "The function $J_0(kr) = \\frac{\\sin(kr)}{kr}$ is the zeroth-order spherical Bessel function of the first kind, so sometimes these transforms are called Fourier-Bessel (or Hankel) transforms.\n",
    "\n",
    "This can neatly be related to the Fourier sine transform:\n",
    "\n",
    "$$ f(k) = \\int_0^\\infty f(r) \\sin(kr) dr $$\n",
    "\n",
    "$$ f(r) = \\frac{2}{\\pi} \\int_0^\\infty f(k) \\sin(kr) dk $$\n",
    "\n",
    "So that the fourier transform of the spherically symmetric function $f(r)$ is just the Fourier sine transform of the function $f(r) \\cdot r$\n",
    "\n",
    "Scipy has discrete sine transform functions we can use."
   ]
  },
  {
   "cell_type": "code",
   "execution_count": 12,
   "id": "44e20eaa-2675-4e6e-a373-4558e8b3005a",
   "metadata": {},
   "outputs": [],
   "source": [
    "def fbt(fr, r, k, dr):\n",
    "    return 2.0 * np.pi * dr * dstn(fr * r, type=4, axes=[0]) / k\n",
    "\n",
    "def ifbt(fk, r, k, dk):\n",
    "    return dk / 4.0 / np.pi / np.pi * idstn(fk * k, type=4, axes=[0]) / r"
   ]
  },
  {
   "cell_type": "markdown",
   "id": "f2209dda-8a0a-4864-b8b3-76b9e29f7d67",
   "metadata": {},
   "source": [
    "We have all the key parts to solve the RISM equation now.\n",
    "The equation in Fourier-space is $$h(k) = \\omega(k) * c(k) * \\omega(k) - \\rho * \\omega(k) * c(k) * h(k)$$\n",
    "We can rearrange this for $h(k)$ $$h(k) = [1 - \\rho * \\omega(k) * c(k)]^{-1} \\omega(k) * c(k) * \\omega(k)$$\n",
    "\n",
    "For brevity, I'm going to drop the function argument $(k)$\n",
    "$$h = [1 - \\rho\\omega c]^{-1} \\omega c \\omega$$\n",
    "\n",
    "We're interested in calculating the indirect correlation function $t(k)$ $$t = [1 - \\rho\\omega c]^{-1} \\omega c \\omega - c$$"
   ]
  },
  {
   "cell_type": "code",
   "execution_count": 13,
   "id": "539abfca-a1fb-4915-a3cf-9be460f3418c",
   "metadata": {},
   "outputs": [],
   "source": [
    "def RISM(cr, w, p, r, k, dr, dk):\n",
    "    # Transform c(r) to c(k)\n",
    "    ck = fbt(cr, r, k, dr)\n",
    "    # Solve the RISM equation for t(k)\n",
    "    tk = w * ck * w / (1.0 - p * w * ck) - ck\n",
    "    # Transform t(k) to t(r)\n",
    "    tr = ifbt(tk, r, k, dk)\n",
    "    return tr"
   ]
  },
  {
   "cell_type": "markdown",
   "id": "30929a74-6da7-4b14-8128-31761f502679",
   "metadata": {},
   "source": [
    "We have all the equations we need to perform a single closure and RISM calculation. Now we need to numerically solve this problem.\n",
    "\n",
    "The RISM equation is an integro-differential equation, and is posed to be solved using fixed-point iteration (i.e. the self-consistent approach used in electronic structure theory e.g. for solving Hartree-Fock).\n",
    "\n",
    "We set some initial guess for $t_0(r)$, and use that as input into the closure and RISM equation, and get a new value out. If we represent the closure and RISM equation as an operator $F(\\cdot)$ on $t(r)$ then we get a value of $F(t(r))$.\n",
    "\n",
    "We can then mix this new value with our initial value to obtain a new solution for $t(r)$ $$t_1(r) = \\alpha F(t_0(r))  + (1 - \\alpha) t_0(r) $$\n",
    "\n",
    "More generally $$t_{k+1}(r) = \\alpha F(t_k(r)) + (1 + \\alpha) t_k(r)$$\n",
    "\n",
    "where $\\alpha$ is a dampening parameter. The lower this is, the stiffer our iteration process is (because we're including more of the previous solution than the current). This is called Picard iteration.\n",
    "\n",
    "\n",
    "We keep iterating this set of equations and check the difference between current and previous solutions until that difference is below some tolerance $\\zeta$ $$ |t_{k+1}(r) - t_{k}(r)| < \\zeta $$\n",
    "\n",
    "Once the difference is below this tolerance, the calculation is finished.\n",
    "\n",
    "We use an initial guess of $t(r) = 0$ and a tolerance of $\\zeta = 1\\times10^{-8}$"
   ]
  },
  {
   "cell_type": "code",
   "execution_count": 14,
   "id": "0036c47a-bd92-4463-85e5-48b26d4cf3c4",
   "metadata": {},
   "outputs": [
    {
     "name": "stdout",
     "output_type": "stream",
     "text": [
      "Iteration: 0 Diff: 3.97e-01\n",
      "Iteration: 1 Diff: 7.66e-02\n",
      "Iteration: 2 Diff: 1.34e-01\n",
      "Iteration: 3 Diff: 1.24e-01\n",
      "Iteration: 4 Diff: 9.47e-02\n",
      "Iteration: 5 Diff: 9.37e-02\n",
      "Iteration: 6 Diff: 8.38e-02\n",
      "Iteration: 7 Diff: 7.53e-02\n",
      "Iteration: 8 Diff: 7.03e-02\n",
      "Iteration: 9 Diff: 6.43e-02\n",
      "Iteration: 10 Diff: 5.93e-02\n",
      "Iteration: 11 Diff: 5.51e-02\n",
      "Iteration: 12 Diff: 5.11e-02\n",
      "Iteration: 13 Diff: 4.75e-02\n",
      "Iteration: 14 Diff: 4.42e-02\n",
      "Iteration: 15 Diff: 4.12e-02\n",
      "Iteration: 16 Diff: 3.85e-02\n",
      "Iteration: 17 Diff: 3.60e-02\n",
      "Iteration: 18 Diff: 3.37e-02\n",
      "Iteration: 19 Diff: 3.15e-02\n",
      "Iteration: 20 Diff: 2.96e-02\n",
      "Iteration: 21 Diff: 2.77e-02\n",
      "Iteration: 22 Diff: 2.60e-02\n",
      "Iteration: 23 Diff: 2.44e-02\n",
      "Iteration: 24 Diff: 2.30e-02\n",
      "Iteration: 25 Diff: 2.16e-02\n",
      "Iteration: 26 Diff: 2.03e-02\n",
      "Iteration: 27 Diff: 1.91e-02\n",
      "Iteration: 28 Diff: 1.80e-02\n",
      "Iteration: 29 Diff: 1.70e-02\n",
      "Iteration: 30 Diff: 1.60e-02\n",
      "Iteration: 31 Diff: 1.51e-02\n",
      "Iteration: 32 Diff: 1.42e-02\n",
      "Iteration: 33 Diff: 1.34e-02\n",
      "Iteration: 34 Diff: 1.27e-02\n",
      "Iteration: 35 Diff: 1.19e-02\n",
      "Iteration: 36 Diff: 1.13e-02\n",
      "Iteration: 37 Diff: 1.06e-02\n",
      "Iteration: 38 Diff: 1.00e-02\n",
      "Iteration: 39 Diff: 9.49e-03\n",
      "Iteration: 40 Diff: 8.97e-03\n",
      "Iteration: 41 Diff: 8.47e-03\n",
      "Iteration: 42 Diff: 8.01e-03\n",
      "Iteration: 43 Diff: 7.57e-03\n",
      "Iteration: 44 Diff: 7.15e-03\n",
      "Iteration: 45 Diff: 6.76e-03\n",
      "Iteration: 46 Diff: 6.40e-03\n",
      "Iteration: 47 Diff: 6.05e-03\n",
      "Iteration: 48 Diff: 5.72e-03\n",
      "Iteration: 49 Diff: 5.41e-03\n",
      "Iteration: 50 Diff: 5.12e-03\n",
      "Iteration: 51 Diff: 4.84e-03\n",
      "Iteration: 52 Diff: 4.58e-03\n",
      "Iteration: 53 Diff: 4.34e-03\n",
      "Iteration: 54 Diff: 4.10e-03\n",
      "Iteration: 55 Diff: 3.88e-03\n",
      "Iteration: 56 Diff: 3.67e-03\n",
      "Iteration: 57 Diff: 3.48e-03\n",
      "Iteration: 58 Diff: 3.29e-03\n",
      "Iteration: 59 Diff: 3.12e-03\n",
      "Iteration: 60 Diff: 2.95e-03\n",
      "Iteration: 61 Diff: 2.79e-03\n",
      "Iteration: 62 Diff: 2.64e-03\n",
      "Iteration: 63 Diff: 2.50e-03\n",
      "Iteration: 64 Diff: 2.37e-03\n",
      "Iteration: 65 Diff: 2.24e-03\n",
      "Iteration: 66 Diff: 2.13e-03\n",
      "Iteration: 67 Diff: 2.01e-03\n",
      "Iteration: 68 Diff: 1.91e-03\n",
      "Iteration: 69 Diff: 1.80e-03\n",
      "Iteration: 70 Diff: 1.71e-03\n",
      "Iteration: 71 Diff: 1.62e-03\n",
      "Iteration: 72 Diff: 1.53e-03\n",
      "Iteration: 73 Diff: 1.45e-03\n",
      "Iteration: 74 Diff: 1.38e-03\n",
      "Iteration: 75 Diff: 1.30e-03\n",
      "Iteration: 76 Diff: 1.23e-03\n",
      "Iteration: 77 Diff: 1.17e-03\n",
      "Iteration: 78 Diff: 1.11e-03\n",
      "Iteration: 79 Diff: 1.05e-03\n",
      "Iteration: 80 Diff: 9.93e-04\n",
      "Iteration: 81 Diff: 9.41e-04\n",
      "Iteration: 82 Diff: 8.91e-04\n",
      "Iteration: 83 Diff: 8.44e-04\n",
      "Iteration: 84 Diff: 8.00e-04\n",
      "Iteration: 85 Diff: 7.58e-04\n",
      "Iteration: 86 Diff: 7.18e-04\n",
      "Iteration: 87 Diff: 6.80e-04\n",
      "Iteration: 88 Diff: 6.44e-04\n",
      "Iteration: 89 Diff: 6.10e-04\n",
      "Iteration: 90 Diff: 5.78e-04\n",
      "Iteration: 91 Diff: 5.48e-04\n",
      "Iteration: 92 Diff: 5.19e-04\n",
      "Iteration: 93 Diff: 4.92e-04\n",
      "Iteration: 94 Diff: 4.66e-04\n",
      "Iteration: 95 Diff: 4.41e-04\n",
      "Iteration: 96 Diff: 4.18e-04\n",
      "Iteration: 97 Diff: 3.96e-04\n",
      "Iteration: 98 Diff: 3.75e-04\n",
      "Iteration: 99 Diff: 3.56e-04\n",
      "Iteration: 100 Diff: 3.37e-04\n",
      "Iteration: 101 Diff: 3.19e-04\n",
      "Iteration: 102 Diff: 3.03e-04\n",
      "Iteration: 103 Diff: 2.87e-04\n",
      "Iteration: 104 Diff: 2.72e-04\n",
      "Iteration: 105 Diff: 2.57e-04\n",
      "Iteration: 106 Diff: 2.44e-04\n",
      "Iteration: 107 Diff: 2.31e-04\n",
      "Iteration: 108 Diff: 2.19e-04\n",
      "Iteration: 109 Diff: 2.07e-04\n",
      "Iteration: 110 Diff: 1.96e-04\n",
      "Iteration: 111 Diff: 1.86e-04\n",
      "Iteration: 112 Diff: 1.76e-04\n",
      "Iteration: 113 Diff: 1.67e-04\n",
      "Iteration: 114 Diff: 1.58e-04\n",
      "Iteration: 115 Diff: 1.50e-04\n",
      "Iteration: 116 Diff: 1.42e-04\n",
      "Iteration: 117 Diff: 1.35e-04\n",
      "Iteration: 118 Diff: 1.28e-04\n",
      "Iteration: 119 Diff: 1.21e-04\n",
      "Iteration: 120 Diff: 1.15e-04\n",
      "Iteration: 121 Diff: 1.09e-04\n",
      "Iteration: 122 Diff: 1.03e-04\n",
      "Iteration: 123 Diff: 9.75e-05\n",
      "Iteration: 124 Diff: 9.24e-05\n",
      "Iteration: 125 Diff: 8.75e-05\n",
      "Iteration: 126 Diff: 8.29e-05\n",
      "Iteration: 127 Diff: 7.86e-05\n",
      "Iteration: 128 Diff: 7.45e-05\n",
      "Iteration: 129 Diff: 7.06e-05\n",
      "Iteration: 130 Diff: 6.69e-05\n",
      "Iteration: 131 Diff: 6.34e-05\n",
      "Iteration: 132 Diff: 6.00e-05\n",
      "Iteration: 133 Diff: 5.69e-05\n",
      "Iteration: 134 Diff: 5.39e-05\n",
      "Iteration: 135 Diff: 5.11e-05\n",
      "Iteration: 136 Diff: 4.84e-05\n",
      "Iteration: 137 Diff: 4.59e-05\n",
      "Iteration: 138 Diff: 4.34e-05\n",
      "Iteration: 139 Diff: 4.12e-05\n",
      "Iteration: 140 Diff: 3.90e-05\n",
      "Iteration: 141 Diff: 3.70e-05\n",
      "Iteration: 142 Diff: 3.50e-05\n",
      "Iteration: 143 Diff: 3.32e-05\n",
      "Iteration: 144 Diff: 3.14e-05\n",
      "Iteration: 145 Diff: 2.98e-05\n",
      "Iteration: 146 Diff: 2.82e-05\n",
      "Iteration: 147 Diff: 2.68e-05\n",
      "Iteration: 148 Diff: 2.54e-05\n",
      "Iteration: 149 Diff: 2.40e-05\n",
      "Iteration: 150 Diff: 2.28e-05\n",
      "Iteration: 151 Diff: 2.16e-05\n",
      "Iteration: 152 Diff: 2.04e-05\n",
      "Iteration: 153 Diff: 1.94e-05\n",
      "Iteration: 154 Diff: 1.84e-05\n",
      "Iteration: 155 Diff: 1.74e-05\n",
      "Iteration: 156 Diff: 1.65e-05\n",
      "Iteration: 157 Diff: 1.56e-05\n",
      "Iteration: 158 Diff: 1.48e-05\n",
      "Iteration: 159 Diff: 1.40e-05\n",
      "Iteration: 160 Diff: 1.33e-05\n",
      "Iteration: 161 Diff: 1.26e-05\n",
      "Iteration: 162 Diff: 1.19e-05\n",
      "Iteration: 163 Diff: 1.13e-05\n",
      "Iteration: 164 Diff: 1.07e-05\n",
      "Iteration: 165 Diff: 1.01e-05\n",
      "Iteration: 166 Diff: 9.61e-06\n",
      "Iteration: 167 Diff: 9.11e-06\n",
      "Iteration: 168 Diff: 8.63e-06\n",
      "Iteration: 169 Diff: 8.18e-06\n",
      "Iteration: 170 Diff: 7.75e-06\n",
      "Iteration: 171 Diff: 7.34e-06\n",
      "Iteration: 172 Diff: 6.96e-06\n",
      "Iteration: 173 Diff: 6.59e-06\n",
      "Iteration: 174 Diff: 6.25e-06\n",
      "Iteration: 175 Diff: 5.92e-06\n",
      "Iteration: 176 Diff: 5.61e-06\n",
      "Iteration: 177 Diff: 5.32e-06\n",
      "Iteration: 178 Diff: 5.04e-06\n",
      "Iteration: 179 Diff: 4.77e-06\n",
      "Iteration: 180 Diff: 4.52e-06\n",
      "Iteration: 181 Diff: 4.29e-06\n",
      "Iteration: 182 Diff: 4.06e-06\n",
      "Iteration: 183 Diff: 3.85e-06\n",
      "Iteration: 184 Diff: 3.65e-06\n",
      "Iteration: 185 Diff: 3.46e-06\n",
      "Iteration: 186 Diff: 3.27e-06\n",
      "Iteration: 187 Diff: 3.10e-06\n",
      "Iteration: 188 Diff: 2.94e-06\n",
      "Iteration: 189 Diff: 2.79e-06\n",
      "Iteration: 190 Diff: 2.64e-06\n",
      "Iteration: 191 Diff: 2.50e-06\n",
      "Iteration: 192 Diff: 2.37e-06\n",
      "Iteration: 193 Diff: 2.25e-06\n",
      "Iteration: 194 Diff: 2.13e-06\n",
      "Iteration: 195 Diff: 2.02e-06\n",
      "Iteration: 196 Diff: 1.91e-06\n",
      "Iteration: 197 Diff: 1.81e-06\n",
      "Iteration: 198 Diff: 1.72e-06\n",
      "Iteration: 199 Diff: 1.63e-06\n",
      "Iteration: 200 Diff: 1.54e-06\n",
      "Iteration: 201 Diff: 1.46e-06\n",
      "Iteration: 202 Diff: 1.38e-06\n",
      "Iteration: 203 Diff: 1.31e-06\n",
      "Iteration: 204 Diff: 1.24e-06\n",
      "Iteration: 205 Diff: 1.18e-06\n",
      "Iteration: 206 Diff: 1.11e-06\n",
      "Iteration: 207 Diff: 1.06e-06\n",
      "Iteration: 208 Diff: 1.00e-06\n",
      "Iteration: 209 Diff: 9.49e-07\n",
      "Iteration: 210 Diff: 8.99e-07\n",
      "Iteration: 211 Diff: 8.52e-07\n",
      "Iteration: 212 Diff: 8.07e-07\n",
      "Iteration: 213 Diff: 7.65e-07\n",
      "Iteration: 214 Diff: 7.25e-07\n",
      "Iteration: 215 Diff: 6.87e-07\n",
      "Iteration: 216 Diff: 6.51e-07\n",
      "Iteration: 217 Diff: 6.16e-07\n",
      "Iteration: 218 Diff: 5.84e-07\n",
      "Iteration: 219 Diff: 5.54e-07\n",
      "Iteration: 220 Diff: 5.24e-07\n",
      "Iteration: 221 Diff: 4.97e-07\n",
      "Iteration: 222 Diff: 4.71e-07\n",
      "Iteration: 223 Diff: 4.46e-07\n",
      "Iteration: 224 Diff: 4.23e-07\n",
      "Iteration: 225 Diff: 4.01e-07\n",
      "Iteration: 226 Diff: 3.80e-07\n",
      "Iteration: 227 Diff: 3.60e-07\n",
      "Iteration: 228 Diff: 3.41e-07\n",
      "Iteration: 229 Diff: 3.23e-07\n",
      "Iteration: 230 Diff: 3.06e-07\n",
      "Iteration: 231 Diff: 2.90e-07\n",
      "Iteration: 232 Diff: 2.75e-07\n",
      "Iteration: 233 Diff: 2.60e-07\n",
      "Iteration: 234 Diff: 2.47e-07\n",
      "Iteration: 235 Diff: 2.34e-07\n",
      "Iteration: 236 Diff: 2.22e-07\n",
      "Iteration: 237 Diff: 2.10e-07\n",
      "Iteration: 238 Diff: 1.99e-07\n",
      "Iteration: 239 Diff: 1.88e-07\n",
      "Iteration: 240 Diff: 1.79e-07\n",
      "Iteration: 241 Diff: 1.69e-07\n",
      "Iteration: 242 Diff: 1.60e-07\n",
      "Iteration: 243 Diff: 1.52e-07\n",
      "Iteration: 244 Diff: 1.44e-07\n",
      "Iteration: 245 Diff: 1.36e-07\n",
      "Iteration: 246 Diff: 1.29e-07\n",
      "Iteration: 247 Diff: 1.23e-07\n",
      "Iteration: 248 Diff: 1.16e-07\n",
      "Iteration: 249 Diff: 1.10e-07\n",
      "Iteration: 250 Diff: 1.04e-07\n",
      "Iteration: 251 Diff: 9.88e-08\n",
      "Iteration: 252 Diff: 9.36e-08\n",
      "Iteration: 253 Diff: 8.87e-08\n",
      "Iteration: 254 Diff: 8.40e-08\n",
      "Iteration: 255 Diff: 7.96e-08\n",
      "Iteration: 256 Diff: 7.54e-08\n",
      "Iteration: 257 Diff: 7.15e-08\n",
      "Iteration: 258 Diff: 6.77e-08\n",
      "Iteration: 259 Diff: 6.42e-08\n",
      "Iteration: 260 Diff: 6.08e-08\n",
      "Iteration: 261 Diff: 5.76e-08\n",
      "Iteration: 262 Diff: 5.46e-08\n",
      "Iteration: 263 Diff: 5.17e-08\n",
      "Iteration: 264 Diff: 4.90e-08\n",
      "Iteration: 265 Diff: 4.65e-08\n",
      "Iteration: 266 Diff: 4.40e-08\n",
      "Iteration: 267 Diff: 4.17e-08\n",
      "Iteration: 268 Diff: 3.95e-08\n",
      "Iteration: 269 Diff: 3.75e-08\n",
      "Iteration: 270 Diff: 3.55e-08\n",
      "Iteration: 271 Diff: 3.36e-08\n",
      "Iteration: 272 Diff: 3.19e-08\n",
      "Iteration: 273 Diff: 3.02e-08\n",
      "Iteration: 274 Diff: 2.86e-08\n",
      "Iteration: 275 Diff: 2.71e-08\n",
      "Iteration: 276 Diff: 2.57e-08\n",
      "Iteration: 277 Diff: 2.43e-08\n",
      "Iteration: 278 Diff: 2.31e-08\n",
      "Iteration: 279 Diff: 2.19e-08\n",
      "Iteration: 280 Diff: 2.07e-08\n",
      "Iteration: 281 Diff: 1.96e-08\n",
      "Iteration: 282 Diff: 1.86e-08\n",
      "Iteration: 283 Diff: 1.76e-08\n",
      "Iteration: 284 Diff: 1.67e-08\n",
      "Iteration: 285 Diff: 1.58e-08\n",
      "Iteration: 286 Diff: 1.50e-08\n",
      "Iteration: 287 Diff: 1.42e-08\n",
      "Iteration: 288 Diff: 1.35e-08\n",
      "Iteration: 289 Diff: 1.28e-08\n",
      "Iteration: 290 Diff: 1.21e-08\n",
      "Iteration: 291 Diff: 1.15e-08\n",
      "Iteration: 292 Diff: 1.09e-08\n",
      "Iteration: 293 Diff: 1.03e-08\n",
      "Iteration: 294 Diff: 9.74e-09\n"
     ]
    }
   ],
   "source": [
    "# Setting up parameters for iterations\n",
    "tolerance = 1e-8\n",
    "max_steps = 1000\n",
    "step = 0\n",
    "\n",
    "# 1.0 is essentially undamped direct iteration\n",
    "alpha = 1.0\n",
    "\n",
    "# Setting up initial guess\n",
    "tr = np.zeros(N)\n",
    "\n",
    "while step < max_steps:\n",
    "    # Store previous t(r)\n",
    "    tr_prev = tr\n",
    "\n",
    "    # t(r) -> c(r) from closure\n",
    "    cr = HNC(beta, ur, tr)\n",
    "\n",
    "    # c(r) -> F(t(r)) from RISM equation\n",
    "    f_tr = RISM(cr, wk, rho, r_grid, k_grid, dr, dk)\n",
    "\n",
    "    # Use Picard iteration to get the new solution\n",
    "    # Since we set alpha = 1.0 above, this is \n",
    "    # essentially direct iteration (tr_new = f_tr).\n",
    "    tr_new = alpha * f_tr + (1.0 - alpha) * tr_prev\n",
    "    \n",
    "    # Check the absolute value of the difference between the current and previous solution\n",
    "    # We use .max() because we want to check that all values are below the tolerance, and\n",
    "    # if the maximum value of the difference array is below, then so must the other values be.\n",
    "    # We multiply by dr to normalise this over grid spacing\n",
    "    diff = abs((tr_new - tr_prev).max()) * dr\n",
    "    \n",
    "    # Set t(r) to the new t(r) we just computed\n",
    "    tr = tr_new\n",
    "\n",
    "    # Print the iteration step and difference\n",
    "    print(\"Iteration: {step} Diff: {diff:.2e}\".format(step=step, diff=diff))\n",
    "\n",
    "    # Test if the difference is below our tolerance\n",
    "    if diff < tolerance:\n",
    "        break\n",
    "\n",
    "    # Update our step counter. We have a max_step because we don't want this calculation to go \n",
    "    # on forever and freeze our PC.\n",
    "    step += 1"
   ]
  },
  {
   "cell_type": "markdown",
   "id": "c4b95f0a-7ab6-4d43-8094-922c5b53ea1f",
   "metadata": {},
   "source": [
    "Once solved, we can use the calculated correlation functions to calculate the radial distribution function and plot it."
   ]
  },
  {
   "cell_type": "code",
   "execution_count": 15,
   "id": "a8ae7f5f-578e-4bdb-8b4d-c3d97faceeb0",
   "metadata": {},
   "outputs": [
    {
     "data": {
      "image/png": "[encoded data removed]",
      "text/plain": [
       "<Figure size 640x480 with 1 Axes>"
      ]
     },
     "metadata": {},
     "output_type": "display_data"
    }
   ],
   "source": [
    "# Get c(r) from the solved t(r)\n",
    "cr = HNC(beta, ur, tr)\n",
    "\n",
    "# Get h(r)\n",
    "hr = tr + cr\n",
    "\n",
    "# Get and plot g(r)\n",
    "gr = hr + 1\n",
    "\n",
    "plt.plot(r_grid, gr)\n",
    "plt.show()"
   ]
  },
  {
   "cell_type": "markdown",
   "id": "2d48c3ec-ba25-4bbf-8d74-b48b1c38ae65",
   "metadata": {
    "tags": []
   },
   "source": [
    "This is the radial distribution function for a Lennard-Jones Argon liquid!"
   ]
  },
  {
   "cell_type": "markdown",
   "id": "d1c52054-2bd1-4781-ae01-97f863081200",
   "metadata": {},
   "source": [
    "On your machine you might find that it took over 300 iterations to come to a solution.\n",
    "We're using a very simple iteration scheme, but there are more complex iteration schemes we can use that can reduce the number of iterations.\n",
    "We will look at one convergence acceleration method later, but most methods are beyond the scope of this tutorial."
   ]
  },
  {
   "cell_type": "markdown",
   "id": "eec3b898-bea4-48df-b7a1-c7cf6553166f",
   "metadata": {},
   "source": [
    "## Nitrogen - Introducing Molecular Liquids and the Coulomb Potential"
   ]
  },
  {
   "cell_type": "markdown",
   "id": "3767a000-2627-4404-a8a1-eba07ef33335",
   "metadata": {},
   "source": [
    "We want to look at more than just simple Lennard-Jones fluids. We can consider an uncharged homonuclear diatomic molecule, and nitrogen is a good such example.\n",
    "Lets define the parameters, system and units."
   ]
  },
  {
   "cell_type": "code",
   "execution_count": 16,
   "id": "52056317-02ba-4bb2-bb6f-82449933ef50",
   "metadata": {
    "tags": []
   },
   "outputs": [],
   "source": [
    "T = 72.0 # Kelvin\n",
    "kB = 8.314462618e-3 # kJ / mol / K\n",
    "beta = 1.0 / T / kB # Thermodynamic Beta\n",
    "\n",
    "n2_epsilon = 0.3658363552 # kJ / mol\n",
    "n2_sigma = 3.341 # Angstroms"
   ]
  },
  {
   "cell_type": "markdown",
   "id": "0d3fbfa2-d3cb-4f4c-8966-ce831aeec07c",
   "metadata": {},
   "source": [
    "Notice that we've defined a bond length here. We need this for computing the $\\omega(k)$.\n",
    "\n",
    "First we need to define the shape of our arrays. We're still working $N$ grid points but we're now dealing with 2 atoms (or sites in the terminology of RISM).\n",
    "\n",
    "It's useful to define a variable for our system size."
   ]
  },
  {
   "cell_type": "code",
   "execution_count": 17,
   "id": "4442311f-cd2c-4b7c-bc85-2729184a9268",
   "metadata": {
    "tags": []
   },
   "outputs": [],
   "source": [
    "ns = 2 # Number of sites\n",
    "\n",
    "wk = np.zeros((N, ns, ns)) # 3D array of number of points X number of sites X number of sites"
   ]
  },
  {
   "cell_type": "markdown",
   "id": "b07f7c3c-ced4-4ca7-938a-362ee9da13b7",
   "metadata": {},
   "source": [
    "Now we need to define what the intramolecular correlation function looks like $$\\omega_{ij}(k) = \\delta_{ij} + (1 - \\delta_{ij})\\frac{\\sin(kd_{ij})}{kd_{ij}}$$\n",
    "where $\\delta_{ij}$ is the Kronecker delta, and $d_{ij}$ is the distance between site $i$ and $j$.\n",
    "\n",
    "\n",
    "For nitrogen, we can explicitly define these for each $ij$ pair. If we number both nitrogens as $\\textrm{N}_1$ and $\\textrm{N}_2$ and we state the bond length between them to be $1.1\\, Å$ then we can write \n",
    "\n",
    "$$\\omega_{\\textrm{N}_1 \\textrm{N}_1} = \\omega_{\\textrm{N}_2 \\textrm{N}_2} = 1$$\n",
    "\n",
    "$$\\omega_{\\textrm{N}_1 \\textrm{N}_2} = \\omega_{\\textrm{N}_2 \\textrm{N}_1} = \\frac{\\sin(1.1k)}{1.1k}$$"
   ]
  },
  {
   "cell_type": "code",
   "execution_count": 18,
   "id": "eb689e74-9d00-4fd8-94fe-8d3ff80664b0",
   "metadata": {
    "tags": []
   },
   "outputs": [],
   "source": [
    "n2_bond_length = 1.1\n",
    "\n",
    "# [:, 0, 0] indicates a slice over the first axis (which we defined as the number of points above, and indexing the last 2 axes explicitly with 0 and 0 (or 1 and 1) etc.\n",
    "wk[:, 0, 0] = wk[:, 1, 1] = np.ones(N)\n",
    "wk[:, 0, 1] = wk[:, 1, 0] = np.sin(k_grid * n2_bond_length) / k_grid / n2_bond_length"
   ]
  },
  {
   "cell_type": "markdown",
   "id": "80b714ad-a089-47ac-90a2-87199ea4361e",
   "metadata": {},
   "source": [
    "We can compute the potential in a similar fashion"
   ]
  },
  {
   "cell_type": "code",
   "execution_count": 19,
   "id": "c86ec22f-ac7e-40c0-8f02-994edeaa2342",
   "metadata": {
    "tags": []
   },
   "outputs": [],
   "source": [
    "ur = np.zeros((N, ns, ns))\n",
    "\n",
    "ur[:, 0, 0] = ur[:, 0, 1] = ur[:, 1, 0] = ur[:, 1, 1] = LJ(n2_epsilon, n2_sigma, r_grid)"
   ]
  },
  {
   "cell_type": "markdown",
   "id": "d23b56d9-5140-4934-adc1-c529b1858156",
   "metadata": {},
   "source": [
    "We can do it like this because the two interaction sites are essentially equivalent, they have the exact same LJ parameters and charge, even if they are in different positions in space. We've accounted for the spatial difference with $\\omega(k)$."
   ]
  },
  {
   "cell_type": "code",
   "execution_count": 20,
   "id": "e81fe500-a44d-49e0-9b73-5f2bdcad4de0",
   "metadata": {
    "tags": []
   },
   "outputs": [
    {
     "data": {
      "image/png": "[encoded data removed]",
      "text/plain": [
       "<Figure size 640x480 with 1 Axes>"
      ]
     },
     "metadata": {},
     "output_type": "display_data"
    }
   ],
   "source": [
    "plt.plot(r_grid, ur[:, 0, 0])\n",
    "plt.ylim([-1.5, 1.0])\n",
    "plt.show()"
   ]
  },
  {
   "cell_type": "markdown",
   "id": "c705a1ac-823f-4a45-b0f3-822c95100b2a",
   "metadata": {},
   "source": [
    "We have our inputs (the potential energy and the intramolecular correlation function), so lets solve the RISM equation.\n",
    "\n",
    "We're going to actually wrap a solver in a function for easier use in the future."
   ]
  },
  {
   "cell_type": "code",
   "execution_count": 21,
   "id": "60b8152b-1f97-458f-94d6-18d207412a1f",
   "metadata": {
    "tags": []
   },
   "outputs": [],
   "source": [
    "def picard_iteration(tolerance, max_step, alpha, initial_tr):\n",
    "    # Set up our loop variable tr\n",
    "    tr = initial_tr\n",
    "    \n",
    "    # Define our counter\n",
    "    step = 0\n",
    "    \n",
    "    while True:\n",
    "        # Store previous t(r)\n",
    "        tr_prev = tr\n",
    "\n",
    "        # t(r) -> c(r) from closure\n",
    "        cr = HNC(beta, ur, tr)\n",
    "\n",
    "        # c(r) -> F(t(r)) from RISM equation\n",
    "        f_tr = RISM(cr, wk, rho, r_grid, k_grid, dr, dk)\n",
    "\n",
    "        # Use Picard iteration to get the new solution\n",
    "        # Since we set alpha = 1.0 above, this is \n",
    "        # essentially direct iteration (tr_new = f_tr).\n",
    "        tr_new = alpha * f_tr + (1.0 - alpha) * tr_prev\n",
    "\n",
    "        # Check the absolute value of the difference between the current and previous solution\n",
    "        # We use .max() because we want to check that all values are below the tolerance, and\n",
    "        # if the maximum value of the difference array is below, then so must the other values be.\n",
    "        # We multiply by dr to normalise this over grid spacing.\n",
    "        diff = abs((tr_new - tr_prev).max()) * dr\n",
    "\n",
    "        # Set t(r) to the new t(r) we just computed\n",
    "        tr = tr_new\n",
    "\n",
    "        # Print the iteration step every 100 steps and difference\n",
    "        if step % 100 == 0:\n",
    "            print(\"Iteration: {step} Diff: {diff:.2e}\".format(step=step, diff=diff))\n",
    "\n",
    "        # Test if the difference is below our tolerance\n",
    "        if diff < tolerance:\n",
    "            break\n",
    "        \n",
    "        # If we reach max_step, raise an error!\n",
    "        if step == max_step:\n",
    "            raise Exception(\"Reached max steps!\")\n",
    "\n",
    "        # Update our step counter. We have a max_step because we don't want this calculation to go \n",
    "        # on forever and freeze our PC.\n",
    "        step += 1\n",
    "    \n",
    "    # Return solved t(r)\n",
    "    return tr"
   ]
  },
  {
   "cell_type": "markdown",
   "id": "4af11656-ceef-40f9-b8cc-6a9087425e54",
   "metadata": {},
   "source": [
    "Before we start the solver, there's something else we need to consider - the fbt and ifbt functions.\n",
    "\n",
    "We wrote them for 1D arrays in mind, but we're working with 3D arrays now. If you were try to use the above function without modifying the fbt and ifbt functions, you'd see that it wouldn't work because the r and k grids are not 3D, they're 1D, but our fr and fk grids are 3D now.\n",
    "\n",
    "We need to refactor them for 3D arrays. Fortunately this is an easy fix, we just need to introduce a new axis to the r and k grid. These are just empty axes that Numpy uses to properly broadcast a 1D array over 3D arrays."
   ]
  },
  {
   "cell_type": "code",
   "execution_count": 22,
   "id": "14b785a9-669e-4f77-b670-dd0715db857b",
   "metadata": {
    "tags": []
   },
   "outputs": [],
   "source": [
    "def fbt(fr, r, k, dr):\n",
    "    return 2.0 * np.pi * dr * dstn(fr * r[:, np.newaxis, np.newaxis], type=4, axes=[0]) / k[:, np.newaxis, np.newaxis]\n",
    "\n",
    "def ifbt(fk, r, k, dk):\n",
    "    return dk / 4.0 / np.pi / np.pi * idstn(fk * k[:, np.newaxis, np.newaxis], type=4, axes=[0]) / r[:, np.newaxis, np.newaxis]"
   ]
  },
  {
   "cell_type": "markdown",
   "id": "582040cc-5c25-492d-962a-1b391a7657fd",
   "metadata": {},
   "source": [
    "We also have a slightly more complicated problem on our hands now. Using an initial guess of 0 might not cut it, so we'll try using the Mayer-f function as an initial guess\n",
    "\n",
    "$$ f(r) = e^{-\\beta u(r)} - 1 $$"
   ]
  },
  {
   "cell_type": "code",
   "execution_count": 23,
   "id": "a9db80fc-9615-4808-b3de-c4d762668313",
   "metadata": {
    "tags": []
   },
   "outputs": [
    {
     "name": "stdout",
     "output_type": "stream",
     "text": [
      "Iteration: 0 Diff: 1.53e-01\n",
      "Iteration: 100 Diff: 1.92e-02\n",
      "Iteration: 200 Diff: 1.80e-02\n",
      "Iteration: 300 Diff: 1.69e-02\n",
      "Iteration: 400 Diff: 1.45e-02\n",
      "Iteration: 500 Diff: 1.37e-02\n",
      "Iteration: 600 Diff: 1.31e-02\n",
      "Iteration: 700 Diff: 1.25e-02\n",
      "Iteration: 800 Diff: 1.18e-02\n",
      "Iteration: 900 Diff: 1.11e-02\n",
      "Iteration: 1000 Diff: 9.97e-03\n"
     ]
    },
    {
     "ename": "Exception",
     "evalue": "Reached max steps!",
     "output_type": "error",
     "traceback": [
      "\u001b[0;31m---------------------------------------------------------------------------\u001b[0m",
      "\u001b[0;31mException\u001b[0m                                 Traceback (most recent call last)",
      "Cell \u001b[0;32mIn[23], line 6\u001b[0m\n\u001b[1;32m      3\u001b[0m alpha \u001b[38;5;241m=\u001b[39m \u001b[38;5;241m0.1\u001b[39m\n\u001b[1;32m      4\u001b[0m initial_tr \u001b[38;5;241m=\u001b[39m np\u001b[38;5;241m.\u001b[39mexp(\u001b[38;5;241m-\u001b[39mbeta \u001b[38;5;241m*\u001b[39m ur) \u001b[38;5;241m-\u001b[39m \u001b[38;5;241m1\u001b[39m\n\u001b[0;32m----> 6\u001b[0m tr \u001b[38;5;241m=\u001b[39m \u001b[43mpicard_iteration\u001b[49m\u001b[43m(\u001b[49m\u001b[43mtolerance\u001b[49m\u001b[43m,\u001b[49m\u001b[43m \u001b[49m\u001b[43mmax_step\u001b[49m\u001b[43m,\u001b[49m\u001b[43m \u001b[49m\u001b[43malpha\u001b[49m\u001b[43m,\u001b[49m\u001b[43m \u001b[49m\u001b[43minitial_tr\u001b[49m\u001b[43m)\u001b[49m\n",
      "Cell \u001b[0;32mIn[21], line 42\u001b[0m, in \u001b[0;36mpicard_iteration\u001b[0;34m(tolerance, max_step, alpha, initial_tr)\u001b[0m\n\u001b[1;32m     40\u001b[0m \u001b[38;5;66;03m# If we reach max_step, raise an error!\u001b[39;00m\n\u001b[1;32m     41\u001b[0m \u001b[38;5;28;01mif\u001b[39;00m step \u001b[38;5;241m==\u001b[39m max_step:\n\u001b[0;32m---> 42\u001b[0m     \u001b[38;5;28;01mraise\u001b[39;00m \u001b[38;5;167;01mException\u001b[39;00m(\u001b[38;5;124m\"\u001b[39m\u001b[38;5;124mReached max steps!\u001b[39m\u001b[38;5;124m\"\u001b[39m)\n\u001b[1;32m     44\u001b[0m \u001b[38;5;66;03m# Update our step counter. We have a max_step because we don't want this calculation to go \u001b[39;00m\n\u001b[1;32m     45\u001b[0m \u001b[38;5;66;03m# on forever and freeze our PC.\u001b[39;00m\n\u001b[1;32m     46\u001b[0m step \u001b[38;5;241m+\u001b[39m\u001b[38;5;241m=\u001b[39m \u001b[38;5;241m1\u001b[39m\n",
      "\u001b[0;31mException\u001b[0m: Reached max steps!"
     ]
    }
   ],
   "source": [
    "tolerance = 1e-8\n",
    "max_step = 1000\n",
    "alpha = 0.1\n",
    "initial_tr = np.exp(-beta * ur) - 1\n",
    "\n",
    "tr = picard_iteration(tolerance, max_step, alpha, initial_tr)"
   ]
  },
  {
   "cell_type": "markdown",
   "id": "408c228a-c25f-4b87-8bdc-a16706030ef8",
   "metadata": {},
   "source": [
    "1000 iterations doesn't seem to cut it on my machine. We might need to implement a different solver.\n",
    "\n",
    "Lets take a look at a simple convergence acceleration method called Ng acceleration.\n",
    "\n",
    "Convergence acceleration methods are a family of numerical methods that use the history of solutions to guide towards a new solution quickly.\n",
    "\n",
    "The basic idea of the Ng method is to save the previous 3 solutions and to use those to parametrise a new solution.\n",
    "\n",
    "Lets write a simple function for a single Ng step"
   ]
  },
  {
   "cell_type": "markdown",
   "id": "77fba300-895c-446e-8d41-a4259588c11e",
   "metadata": {},
   "source": [
    "In order to do that, we need to be able to properly model the long-range electrostatics via the Coulomb potential.\n",
    "A problem that arises is properly dealing with the long-range part when performing a Fourier transform - the potential will diverge!\n",
    "\n",
    "A simple solution is to break the potential energy into two parts - a short and long range component.\n",
    "Perform the fast Fourier transform for the short range component but choose the long-range component such that we can analytically transform it.\n",
    "\n",
    "We will choose such a form in a moment, first we should define the model we want to solve."
   ]
  },
  {
   "cell_type": "code",
   "execution_count": null,
   "id": "53eeb8cb-e1fe-47bb-8d5e-8523b2f41040",
   "metadata": {},
   "outputs": [],
   "source": []
  }
 ],
 "metadata": {
  "kernelspec": {
   "display_name": "Python 3 (ipykernel)",
   "language": "python",
   "name": "python3"
  },
  "language_info": {
   "codemirror_mode": {
    "name": "ipython",
    "version": 3
   },
   "file_extension": ".py",
   "mimetype": "text/x-python",
   "name": "python",
   "nbconvert_exporter": "python",
   "pygments_lexer": "ipython3",
   "version": "3.10.13"
  }
 },
 "nbformat": 4,
 "nbformat_minor": 5
}
