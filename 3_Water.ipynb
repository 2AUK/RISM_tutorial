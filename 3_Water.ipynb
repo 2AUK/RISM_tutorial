{
 "cells": [
  {
   "cell_type": "markdown",
   "id": "5e929689-952b-4b00-b8eb-d6df4a0a5678",
   "metadata": {},
   "source": [
    "# RISM - A Gentle Introduction"
   ]
  },
  {
   "cell_type": "markdown",
   "id": "6d7ccab8",
   "metadata": {},
   "source": [
    "## Preamble\n",
    "\n",
    "The code we've written so far:"
   ]
  },
  {
   "cell_type": "code",
   "execution_count": 11,
   "id": "fc859b93",
   "metadata": {},
   "outputs": [],
   "source": [
    "import numpy as np\n",
    "from scipy.fftpack import dstn, idstn\n",
    "import matplotlib.pyplot as plt\n",
    "from scipy.special import erf\n",
    "\n",
    "ec = 1.602176565e-19 # A*s\n",
    "eps_0 = 8.854187817620e-12 # A^2*s^4/kg/m^3\n",
    "Na = 6.02214129e23 # 1 / mol\n",
    "kc = 1.0 / 4.0 / np.pi / eps_0 # J*m/A^2/s^2\n",
    "kc_a = kc * 1e10 # J*angstrom/A^2/s^2\n",
    "kc_akj = kc_a * 1e-3 # kJ*angstrom/A^2/s^2\n",
    "kc_akjmol = kc_akj * Na # kJ*angstrom/A^2/s^2/mol\n",
    "c = ec * ec * kc_akjmol # kJ*angstrom/mol\n",
    "\n",
    "r = 15.0\n",
    "N = 100\n",
    "dr = r / N\n",
    "\n",
    "dk = 2.0 * np.pi / (2.0 * N * dr)\n",
    "\n",
    "r_grid = np.arange(0.5, N, 1.0) * dr\n",
    "k_grid = np.arange(0.5, N, 1.0) * dk\n",
    "\n",
    "def LJ(epsilon, sigma, r):\n",
    "    return 4.0 * epsilon * ( np.power( (sigma / r), 12) - np.power( (sigma / r), 6) )\n",
    "\n",
    "def Coulomb(q, r):\n",
    "    return c * q / r\n",
    "\n",
    "def Ng_real(q, r):\n",
    "    return c * q * erf(r) / r\n",
    "\n",
    "def Ng_fourier(q, k):\n",
    "    return 4.0 * np.pi * c * q * np.exp(-np.power(k, 2.0) / 4.0) / np.power(k, 2.0)\n",
    "\n",
    "def HNC(beta, ur, tr):\n",
    "    return np.exp(-beta * ur + tr) - 1.0 - tr\n",
    "\n",
    "def PY(beta, ur, tr):\n",
    "    return np.exp(-beta * ur) * (1.0 + tr) - 1.0 - tr\n",
    "\n",
    "def fbt(fr, r, k, dr):\n",
    "    return 2.0 * np.pi * dr * dstn(fr * r[:, np.newaxis, np.newaxis], type=4, axes=[0]) / k[:, np.newaxis, np.newaxis]\n",
    "\n",
    "def ifbt(fk, r, k, dk):\n",
    "    return dk / 4.0 / np.pi / np.pi * idstn(fk * k[:, np.newaxis, np.newaxis], type=4, axes=[0]) / r[:, np.newaxis, np.newaxis]\n",
    "\n",
    "def RISM(cr, vk_lr, w, p, r, k, dr, dk):\n",
    "    N = r.shape[0]\n",
    "    I = np.eye(w.shape[1])\n",
    "    tk = np.zeros_like(cr)\n",
    "    # Transform c(r) to c(k)\n",
    "    ck = fbt(cr, r, k, dr)\n",
    "\n",
    "    ck -= vk_lr\n",
    "\n",
    "    # Solve the RISM equation for t(k)\n",
    "    for l in np.arange(0, N):\n",
    "        A = np.linalg.inv(I - p @ w[l] @ ck[l])\n",
    "        B = w[l] @ ck[l] @ w[l]\n",
    "        tk[l] = A @ B - ck[l]\n",
    "    \n",
    "    tk -= vk_lr\n",
    "    \n",
    "    # Transform t(k) to t(r)\n",
    "    tr = ifbt(tk, r, k, dk)\n",
    "    return tr\n",
    "\n",
    "def picard_iteration(closure, tolerance, max_step, alpha, initial_tr, beta, ur_sr, uk_lr,  wk, rho):\n",
    "    # Set up our loop variable tr\n",
    "    tr = initial_tr\n",
    "    \n",
    "    # Define our counter\n",
    "    step = 0\n",
    "    \n",
    "    while True:\n",
    "        # Store previous t(r)\n",
    "        tr_prev = tr\n",
    "\n",
    "        # t(r) -> c(r) from closure\n",
    "        cr = closure(beta, ur_sr, tr)\n",
    "\n",
    "        # c(r) -> F(t(r)) from RISM equation\n",
    "        f_tr = RISM(cr, beta * uk_lr, wk, rho, r_grid, k_grid, dr, dk)\n",
    "\n",
    "        # Use Picard iteration to get the new solution\n",
    "        tr_new = alpha * f_tr + (1.0 - alpha) * tr_prev\n",
    "\n",
    "         # Check the L^2 norm between iterates\n",
    "        norm = np.sqrt(np.power((tr_new - tr_prev), 2).sum() * dr)\n",
    "\n",
    "        # Set t(r) to the new t(r) we just computed\n",
    "        tr = tr_new\n",
    "\n",
    "        # Print the iteration step every 100 steps and difference\n",
    "        if step % 100 == 0:\n",
    "            print(\"Iteration: {step} Norm: {norm:.2e}\".format(step=step, norm=norm))\n",
    "\n",
    "        # Test if the difference is below our tolerance\n",
    "        if norm < tolerance:\n",
    "            print(\"Final Iteration: {step} Norm: {norm:.2e}\".format(step=step, norm=norm))\n",
    "            break\n",
    "        \n",
    "        # If we reach max_step, raise an error!\n",
    "        if step == max_step:\n",
    "            print(\"Reached max steps!\")\n",
    "            break\n",
    "\n",
    "        # If any value is nan then the solver has diverged\n",
    "        if np.any(np.isnan(tr)):\n",
    "            print(\"Diverged at iteration: {step}\".format(step=step))\n",
    "            break\n",
    "\n",
    "        # Update our step counter. We have a max_step because we don't want this calculation to go \n",
    "        # on forever and freeze our PC.\n",
    "        step += 1\n",
    "    \n",
    "    # Return solved t(r)\n",
    "    return tr"
   ]
  },
  {
   "cell_type": "markdown",
   "id": "eec3b898-bea4-48df-b7a1-c7cf6553166f",
   "metadata": {},
   "source": [
    "## Water - A System of Interest"
   ]
  },
  {
   "cell_type": "markdown",
   "id": "75c08c0d",
   "metadata": {},
   "source": [
    "Water is a particular molecule of interest, and good one to try and model. We are going to use the cSPC/E water model. The principles of this model are essentially the same as nitrogen, except we're working with 3 atoms, rather than 2. We'll use this exercise to write function to programmatically compute the intramolecular function and potential energy as opposed to doing things by hand."
   ]
  },
  {
   "cell_type": "code",
   "execution_count": 12,
   "id": "52056317-02ba-4bb2-bb6f-82449933ef50",
   "metadata": {
    "tags": []
   },
   "outputs": [],
   "source": [
    "T = 298.15 # Kelvin\n",
    "kB = 8.314462618e-3 # kJ / mol / K\n",
    "beta = 1.0 / T / kB # Thermodynamic Beta"
   ]
  },
  {
   "cell_type": "markdown",
   "id": "ecc93c8a",
   "metadata": {},
   "source": [
    "We should set up our inputs so that we can programmatically iterate through them and set up our inputs for arbitrary sizes of systems. To achieve this, we'll just set up lists of parameters and coordinates. We'll then get the potentials from the parameters and intramolecular correlation function from the coordinates."
   ]
  },
  {
   "cell_type": "code",
   "execution_count": 13,
   "id": "9ec9d76f",
   "metadata": {},
   "outputs": [],
   "source": [
    "ns = 3 # Number of sites\n",
    "\n",
    "ow_eps = 78.15 * kB\n",
    "ow_sigma = 3.16572\n",
    "ow_charge = -0.8476\n",
    "\n",
    "hw_eps = 7.815 * kB\n",
    "hw_sigma = 1.16572\n",
    "hw_charge = 0.4238\n",
    "\n",
    "dens = 0.0334\n",
    "\n",
    "rho = np.diag([dens] * ns)\n",
    "\n",
    "params = [ [ow_eps, ow_sigma, ow_charge], [hw_eps, hw_sigma, hw_charge], [hw_eps, hw_sigma, hw_charge] ]\n",
    "\n",
    "coords = [ np.array([0.0, 0.0, 0.0]), np.array([1.0, 0.0, 0.0]), np.array([-0.333314, 0.942816, 0.0])]"
   ]
  },
  {
   "cell_type": "markdown",
   "id": "191b7749",
   "metadata": {},
   "source": [
    "We'll calculate a distance matrix from the coordinates to be used in the calculation of $\\omega(k)$"
   ]
  },
  {
   "cell_type": "code",
   "execution_count": 14,
   "id": "9ac9ddb7",
   "metadata": {},
   "outputs": [],
   "source": [
    "def dist_matrix(coords, ns):\n",
    "    ns = len(coords)\n",
    "    dist = np.zeros((ns, ns))\n",
    "    for i, j in np.ndindex((ns, ns)):\n",
    "        dist[i, j] = np.linalg.norm(coords[i] - coords[j])\n",
    "    return dist"
   ]
  },
  {
   "cell_type": "markdown",
   "id": "2e916478",
   "metadata": {},
   "source": [
    "And write a function to compute $\\omega(k)$ given the coordinates and the Fourier-space grid."
   ]
  },
  {
   "cell_type": "code",
   "execution_count": 15,
   "id": "2f299ebf",
   "metadata": {},
   "outputs": [],
   "source": [
    "def wk(coords, k, N, ns):\n",
    "    dists = dist_matrix(coords, ns)\n",
    "    out = np.zeros((N, ns, ns))\n",
    "    for i, j in np.ndindex((ns, ns)):\n",
    "        dist_ij = dists[i, j]\n",
    "        if dist_ij == 0.0:\n",
    "            out[:, i, j] = np.ones(N)\n",
    "        else:\n",
    "            out[:, i, j] = np.sin(k * dist_ij) / (k * dist_ij)\n",
    "    return out\n",
    "\n",
    "water_wk = wk(coords, k_grid, N, ns)"
   ]
  },
  {
   "cell_type": "markdown",
   "id": "ffbea809",
   "metadata": {},
   "source": [
    "Now that we're working with different sets of Lennard-Jones parameters, we need to be able to account for cross-interactions too (e.g. the interaction between oxygen and hydrogen in water). We use a mixing rule to do that, in this case the Lorentz-Berthelot mixing rule $$ \\sqrt(\\epsilon_a \\epsilon_b) $$ and $$\\frac{\\sigma_a + \\sigma_b}{2}$$ for some pair of atoms a and b."
   ]
  },
  {
   "cell_type": "code",
   "execution_count": 16,
   "id": "0e99332f",
   "metadata": {},
   "outputs": [],
   "source": [
    "def lorentz_berthelot(eps1, eps2, sig1, sig2):\n",
    "    return np.sqrt(eps1 * eps2), 0.5 * (sig1 + sig2)"
   ]
  },
  {
   "cell_type": "markdown",
   "id": "6433b9e6",
   "metadata": {},
   "source": [
    "We then should write functions that compute the total energy and the screened Coulomb potential for all possible pairs of atoms."
   ]
  },
  {
   "cell_type": "code",
   "execution_count": 17,
   "id": "a091f9ee",
   "metadata": {},
   "outputs": [],
   "source": [
    "def energy(params, r, N, ns):\n",
    "    out = np.zeros((N, ns, ns))\n",
    "    for i, j in np.ndindex((ns, ns)):\n",
    "        eps, sig = lorentz_berthelot(\n",
    "            params[i][0], params[j][0], params[i][1], params[j][1]\n",
    "        )\n",
    "        q = params[i][2] * params[j][2]\n",
    "        out[:, i, j] = LJ(eps, sig, r) + Coulomb(q, r)\n",
    "\n",
    "    return out\n",
    "\n",
    "def renorm(params, r, k, N, ns):\n",
    "    out_r = np.zeros((N, ns, ns))\n",
    "    out_k = np.zeros((N, ns, ns))\n",
    "    for i, j in np.ndindex((ns, ns)):\n",
    "        q = params[i][2] * params[j][2]\n",
    "        out_r[:, i, j] = Ng_real(q, r)\n",
    "        out_k[:, i, j] = Ng_fourier(q, k)\n",
    "\n",
    "    return out_r, out_k"
   ]
  },
  {
   "cell_type": "markdown",
   "id": "1b15161b",
   "metadata": {},
   "source": [
    "Then getting the energies just takes calling two relatively simple functions for systems of arbitraty size"
   ]
  },
  {
   "cell_type": "code",
   "execution_count": 18,
   "id": "8cbc98a9",
   "metadata": {},
   "outputs": [],
   "source": [
    "ur = energy(params, r_grid, N, ns)\n",
    "ur_lr, uk_lr = renorm(params, r_grid, k_grid, N, ns)\n",
    "\n",
    "ur_sr = ur - ur_lr"
   ]
  },
  {
   "cell_type": "code",
   "execution_count": 19,
   "id": "88235a2f",
   "metadata": {},
   "outputs": [
    {
     "name": "stdout",
     "output_type": "stream",
     "text": [
      "1.0\n",
      "Iteration: 0 Norm: 8.90e+00\n"
     ]
    },
    {
     "name": "stdout",
     "output_type": "stream",
     "text": [
      "Iteration: 100 Norm: 4.25e-01\n",
      "Iteration: 200 Norm: 1.35e-01\n",
      "Iteration: 300 Norm: 4.01e-02\n",
      "Iteration: 400 Norm: 1.10e-02\n",
      "Iteration: 500 Norm: 2.96e-03\n",
      "Iteration: 600 Norm: 7.87e-04\n",
      "Iteration: 700 Norm: 2.09e-04\n",
      "Iteration: 800 Norm: 5.55e-05\n",
      "Iteration: 900 Norm: 1.47e-05\n",
      "Iteration: 1000 Norm: 3.91e-06\n",
      "Iteration: 1100 Norm: 1.04e-06\n",
      "Iteration: 1200 Norm: 2.75e-07\n",
      "Final Iteration: 1277 Norm: 9.91e-08\n"
     ]
    }
   ],
   "source": [
    "tolerance = 1e-7\n",
    "max_step = 10000\n",
    "alpha = 0.7\n",
    "initial_tr = np.zeros((N, ns, ns))\n",
    "lambdas = 1\n",
    "\n",
    "for ilam in range(1, lambdas+1):\n",
    "    lam = ilam / lambdas\n",
    "    print(lam)\n",
    "    tr = picard_iteration(HNC, tolerance, max_step, alpha, initial_tr, beta, lam * ur_sr, lam * uk_lr, water_wk, rho)\n",
    "    initial_tr = tr\n",
    "\n",
    "\n",
    "cr = HNC(beta, ur_sr, tr) - beta * ur_lr\n",
    "tr += beta * ur_lr"
   ]
  },
  {
   "cell_type": "code",
   "execution_count": 20,
   "id": "b138a013",
   "metadata": {},
   "outputs": [
    {
     "data": {
      "image/png": "[encoded data removed]",
      "text/plain": [
       "<Figure size 640x480 with 1 Axes>"
      ]
     },
     "metadata": {},
     "output_type": "display_data"
    }
   ],
   "source": [
    "hr = tr + cr\n",
    "\n",
    "gr = hr + 1.0\n",
    "\n",
    "plt.plot(r_grid, gr[:, 0, 0])\n",
    "plt.plot(r_grid, gr[:, 0, 1])\n",
    "plt.plot(r_grid, gr[:, 1, 1])\n",
    "plt.axhline(1, color=\"grey\", linestyle=\"--\", linewidth=2)\n",
    "plt.xlim([0, 9])\n",
    "plt.show()"
   ]
  }
 ],
 "metadata": {
  "kernelspec": {
   "display_name": "Python 3 (ipykernel)",
   "language": "python",
   "name": "python3"
  },
  "language_info": {
   "codemirror_mode": {
    "name": "ipython",
    "version": 3
   },
   "file_extension": ".py",
   "mimetype": "text/x-python",
   "name": "python",
   "nbconvert_exporter": "python",
   "pygments_lexer": "ipython3",
   "version": "3.9.17"
  }
 },
 "nbformat": 4,
 "nbformat_minor": 5
}
