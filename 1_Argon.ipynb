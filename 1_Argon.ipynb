{
 "cells": [
  {
   "cell_type": "markdown",
   "id": "5e929689-952b-4b00-b8eb-d6df4a0a5678",
   "metadata": {},
   "source": [
    "# RISM - A Gentle Introduction"
   ]
  },
  {
   "cell_type": "markdown",
   "id": "1cc3e0ab-8b1a-4a4c-9fcd-10b2458cd7d0",
   "metadata": {},
   "source": [
    "We are going to write a Python implementation of the extended RISM equation with the goal of computing the direct, indirect and total correlation function along with the radial distribution function."
   ]
  },
  {
   "cell_type": "markdown",
   "id": "43050c62-e1bb-46f3-a09e-bbc8871af275",
   "metadata": {},
   "source": [
    "First, we import the libraries we will be needing:"
   ]
  },
  {
   "cell_type": "code",
   "execution_count": 135,
   "id": "18a17f90-70f6-422e-b1cc-d0303bbe78f3",
   "metadata": {},
   "outputs": [],
   "source": [
    "import numpy as np\n",
    "from scipy.fftpack import dstn, idstn\n",
    "import matplotlib.pyplot as plt"
   ]
  },
  {
   "cell_type": "markdown",
   "id": "cb1166f7-b064-45b0-b87f-b2ad0d00ee24",
   "metadata": {},
   "source": [
    "First, we need to set up our problem domain. While the RISM equations are written as continuous functions $r$ (e.g. $c(r)$), computationally we solve them on a discretised grid.\n",
    "\n",
    "We'll set up a discrete domain of length (or radius since we are working with spherically symmetric functions) $r = 15\\, Å$ partitioned into $N = 100$ points. The resulting grid spacing is given by $\\Delta r = \\frac{r}{N}$."
   ]
  },
  {
   "cell_type": "code",
   "execution_count": 136,
   "id": "97cc8d43-e8e2-422d-bfb6-82f92ada9573",
   "metadata": {},
   "outputs": [],
   "source": [
    "r = 15.0\n",
    "N = 100\n",
    "dr = r / N"
   ]
  },
  {
   "cell_type": "markdown",
   "id": "76ca9db6-c7e3-47f2-a548-b3951c60df83",
   "metadata": {},
   "source": [
    "We also want to set up a grid spacing for our Fourier-space grid such that $\\Delta r \\Delta k = \\frac{\\pi}{N}$"
   ]
  },
  {
   "cell_type": "code",
   "execution_count": 137,
   "id": "1879c0c5-94e4-43b2-bc3b-b538151c1585",
   "metadata": {},
   "outputs": [],
   "source": [
    "dk = 2.0 * np.pi / (2.0 * N * dr)"
   ]
  },
  {
   "cell_type": "markdown",
   "id": "19288397-40c9-438a-bd93-cf3568b6a87f",
   "metadata": {},
   "source": [
    "Lets check the equality we stated above:"
   ]
  },
  {
   "cell_type": "code",
   "execution_count": 138,
   "id": "bf0060ec-adb2-4b14-bf99-c1ae161f28ee",
   "metadata": {},
   "outputs": [
    {
     "data": {
      "text/plain": [
       "True"
      ]
     },
     "execution_count": 138,
     "metadata": {},
     "output_type": "execute_result"
    }
   ],
   "source": [
    "np.isclose(dr * dk, np.pi / N)"
   ]
  },
  {
   "cell_type": "markdown",
   "id": "2971c660-9d79-48d1-b188-7e59c83bf24c",
   "metadata": {},
   "source": [
    "We use `np.isclose()` here because we are comparing floating point numbers. Using `==` would not work since there is always some precision loss with floats. You need to compared them within tolerances instead.\n",
    "\n",
    "We can use these to generate our real and Fourier-space midpoint grids."
   ]
  },
  {
   "cell_type": "code",
   "execution_count": 139,
   "id": "7fdb7ab7-1798-4bc6-822a-9927a56f56c4",
   "metadata": {},
   "outputs": [],
   "source": [
    "r_grid = np.arange(0.5, N, 1.0) * dr\n",
    "k_grid = np.arange(0.5, N, 1.0) * dk"
   ]
  },
  {
   "cell_type": "markdown",
   "id": "99ed2917-d40d-44ab-99bc-e2692ca4b81a",
   "metadata": {},
   "source": [
    "## Simple Lennard-Jones Argon Liquid"
   ]
  },
  {
   "cell_type": "markdown",
   "id": "2c1fc071-4a19-405b-9883-101bfd6bff4e",
   "metadata": {},
   "source": [
    "Now that we have our problem domain set up, we can focus on solving a particular problem. We're going to look at solving RISM for a simple Lennard-Jones Argon liquid.\n",
    "\n",
    "We first need to set up the thermodynamical state of the system and the unit systems we're going to use. We'll be working with energies in kJ / mol."
   ]
  },
  {
   "cell_type": "code",
   "execution_count": 140,
   "id": "594d458d-5e7e-41e3-b3d9-8e51a6c67f05",
   "metadata": {},
   "outputs": [],
   "source": [
    "T = 85.0 # Kelvin\n",
    "kB = 8.314462618e-3 # kJ / mol / K\n",
    "beta = 1.0 / T / kB # Thermodynamic Beta\n",
    "ns = 1 # Number of sites"
   ]
  },
  {
   "cell_type": "markdown",
   "id": "b22e027e-3dc7-4e1e-bac9-134396ff3f8c",
   "metadata": {},
   "source": [
    "We also need to define the parameters for Argon, as well as its number density. "
   ]
  },
  {
   "cell_type": "code",
   "execution_count": 141,
   "id": "420894b5-8233-4ae3-a487-ef436061fc88",
   "metadata": {},
   "outputs": [],
   "source": [
    "ar_epsilon = 120.0 * 8.314462618e-3  # kJ / mol\n",
    "ar_sigma = 3.4 # Angstroms\n",
    "ar_dens = 0.021017479720736955 # 1 / Angstrom^3\n",
    "ar_rho = np.diag([ar_dens]) # Number density as a \"matrix\""
   ]
  },
  {
   "cell_type": "markdown",
   "id": "2df16806-3053-4f18-9e36-99b5d8d652c1",
   "metadata": {},
   "source": [
    "We need to tabulate the LJ potential with the above parameters. We define a function to evaluate the potential over a grid, and then we plot the potential."
   ]
  },
  {
   "cell_type": "code",
   "execution_count": 142,
   "id": "4041ca68-9477-44f1-8dd5-9fb46128f8d3",
   "metadata": {},
   "outputs": [],
   "source": [
    "def LJ(epsilon, sigma, r):\n",
    "    return 4.0 * epsilon * ( np.power( (sigma / r), 12) - np.power( (sigma / r), 6) )"
   ]
  },
  {
   "cell_type": "code",
   "execution_count": 143,
   "id": "b8161d69-4283-4ca8-a45b-7f1a31e516bf",
   "metadata": {},
   "outputs": [
    {
     "data": {
      "image/png": "[encoded data removed]",
      "text/plain": [
       "<Figure size 640x480 with 1 Axes>"
      ]
     },
     "metadata": {},
     "output_type": "display_data"
    }
   ],
   "source": [
    "ar_ur = np.zeros((N, ns, ns))\n",
    "ar_ur[:, 0, 0] = LJ(ar_epsilon, ar_sigma, r_grid)\n",
    "\n",
    "plt.plot(r_grid, ar_ur[:, 0, 0])\n",
    "plt.ylim([-1.5, 1.0])\n",
    "plt.show()"
   ]
  },
  {
   "cell_type": "markdown",
   "id": "51afe76f-9b93-496e-aaa1-b4d87865cf65",
   "metadata": {},
   "source": [
    "One aspect of the RISM equation that we need to consider is the intramolecular correlation function $\\omega(k)$. In the case of a simple liquid, $\\omega(k) = 1$, in which case we the RISM equation reduces to the Ornstein-Zernike (OZ) equation.\n",
    "We'll implement the full RISM equation, but we will set $\\omega(k)$ to 1 for the case our current system.\n",
    "\n",
    "Notice that we are setting up a 3D array, even though we just defined `ns = 1` above. This is because we plan to model molecular system later, where ns will be greater than 1. Setting up the maths for proper array sizes now means we don't need to refactor that aspect later."
   ]
  },
  {
   "cell_type": "code",
   "execution_count": 144,
   "id": "d252ba9f-5ccd-4efc-930a-00d31cc92d1c",
   "metadata": {},
   "outputs": [],
   "source": [
    "ar_wk = np.ones((N, ns, ns))"
   ]
  },
  {
   "cell_type": "markdown",
   "id": "bc6c6720-0ee0-4604-8e1a-37ad9cdb88aa",
   "metadata": {},
   "source": [
    "Another aspect is the closure. The closure is what relates our unknowns ($h(r)$ and $c(r)$), in a sense \"closing\" the RISM equation.\n",
    "Generally the closure in terms of $c(r)$ is $$ c(r) = e^{-\\beta u(r) + t(r) - B(r)} - t(r) - 1 $$ where $B(r)$ is the bridge function - something that we need to approximate - and $t(r) = h(r) - c(r)$ is the indirect correlation function.\n",
    "\n",
    "We're going to use the simplest approximation, $B(r) = 0$. This is the Hypernetted Chain (HNC) closure.\n",
    "\n",
    "$$ c(r) = e^{-\\beta u(r) + t(r)} - t(r) - 1 $$"
   ]
  },
  {
   "cell_type": "code",
   "execution_count": 145,
   "id": "ec371707-7ab8-4875-89ca-da7f5a3d292c",
   "metadata": {},
   "outputs": [],
   "source": [
    "def HNC(beta, ur, tr):\n",
    "    return np.exp(-beta * ur + tr) - 1.0 - tr"
   ]
  },
  {
   "cell_type": "markdown",
   "id": "e0f5f445-e7ec-465e-9829-dddd494cd9c1",
   "metadata": {},
   "source": [
    "The final detail before we implement the RISM equation is that we need to be able to transform our correlation functions into Fourier-space and back.\n",
    "We use the Fourier transforms of spherically symmetric functions:\n",
    "\n",
    "$$ f(k) = 4 \\pi \\int_0^\\infty f(r) r^2 \\frac{\\sin(kr)}{kr} dr $$\n",
    "\n",
    "and the inverse:\n",
    "\n",
    "$$ f(r) = \\frac{1}{2 \\pi^2} \\int_0^\\infty f(k) k^2 \\frac{\\sin(kr)}{kr} dk $$\n",
    "\n",
    "The function $J_0(kr) = \\frac{\\sin(kr)}{kr}$ is the zeroth-order spherical Bessel function of the first kind, so sometimes these transforms are called Fourier-Bessel (or Hankel) transforms.\n",
    "\n",
    "This can neatly be related to the Fourier sine transform:\n",
    "\n",
    "$$ f(k) = \\int_0^\\infty f(r) \\sin(kr) dr $$\n",
    "\n",
    "$$ f(r) = \\frac{2}{\\pi} \\int_0^\\infty f(k) \\sin(kr) dk $$\n",
    "\n",
    "So that the fourier transform of the spherically symmetric function $f(r)$ is just the Fourier sine transform of the function $f(r) \\cdot r$\n",
    "\n",
    "Scipy has discrete sine transform functions we can use. We use `newaxis` here to allow for broadcasting arrays of different dimensions together, since, for example, the `fbt` function takes `fr` as argument which is dimension N x ns x ns, and multiplies it by `r` which is dimension N. We use newaxis to allow `r` to be broadcast over all `ns x ns` components of `fr`"
   ]
  },
  {
   "cell_type": "code",
   "execution_count": 146,
   "id": "44e20eaa-2675-4e6e-a373-4558e8b3005a",
   "metadata": {},
   "outputs": [],
   "source": [
    "def fbt(fr, r, k, dr):\n",
    "    return 2.0 * np.pi * dr * dstn(fr * r[:, np.newaxis, np.newaxis], type=4, axes=[0]) / k[:, np.newaxis, np.newaxis]\n",
    "\n",
    "def ifbt(fk, r, k, dk):\n",
    "    return dk / 4.0 / np.pi / np.pi * idstn(fk * k[:, np.newaxis, np.newaxis], type=4, axes=[0]) / r[:, np.newaxis, np.newaxis]"
   ]
  },
  {
   "cell_type": "markdown",
   "id": "f2209dda-8a0a-4864-b8b3-76b9e29f7d67",
   "metadata": {},
   "source": [
    "We have all the key parts to solve the RISM equation now.\n",
    "The equation in Fourier-space is $$h(k) = \\omega(k) * c(k) * \\omega(k) - \\rho * \\omega(k) * c(k) * h(k)$$\n",
    "We can rearrange this for $h(k)$ $$h(k) = [I - \\rho * \\omega(k) * c(k)]^{-1} \\omega(k) * c(k) * \\omega(k)$$\n",
    "\n",
    "For brevity, I'm going to drop the function argument $(k)$ and $*$\n",
    "$$h = [I - \\rho\\omega c]^{-1} \\omega c \\omega$$\n",
    "\n",
    "We're interested in calculating the indirect correlation function $t(k)$ $$t = [I - \\rho\\omega c]^{-1} \\omega c \\omega - c$$"
   ]
  },
  {
   "cell_type": "code",
   "execution_count": 147,
   "id": "539abfca-a1fb-4915-a3cf-9be460f3418c",
   "metadata": {},
   "outputs": [],
   "source": [
    "def RISM(cr, w, p, r, k, dr, dk):\n",
    "    N = r.shape[0]\n",
    "    I = np.eye(w.shape[1])\n",
    "    tk = np.zeros_like(cr)\n",
    "    # Transform c(r) to c(k)\n",
    "    ck = fbt(cr, r, k, dr)\n",
    "    # Solve the RISM equation for t(k)\n",
    "    for l in np.arange(0, N): # loop over grid points and perform matmuls for the corresponding matrices\n",
    "        A = np.linalg.inv(I - p @ w[l] @ ck[l])\n",
    "        B = w[l] @ ck[l] @ w[l]\n",
    "        tk[l] = A @ B - ck[l]\n",
    "    # Transform t(k) to t(r)\n",
    "    tr = ifbt(tk, r, k, dk)\n",
    "    return tr"
   ]
  },
  {
   "cell_type": "markdown",
   "id": "30929a74-6da7-4b14-8128-31761f502679",
   "metadata": {},
   "source": [
    "We have all the equations we need to perform a single closure and RISM calculation. Now we need to numerically solve this problem.\n",
    "\n",
    "The RISM equation is an integro-differential equation, and is posed to be solved using fixed-point iteration (similar to the self-consistent approach used in electronic structure theory e.g. for solving Hartree-Fock).\n",
    "\n",
    "We set some initial guess for $t_0(r)$, and use that as input into the closure and RISM equation, and get a new value out. If we represent the closure and RISM equation as an operator $F(\\cdot)$ on $t(r)$ then we get a value of $F(t(r))$.\n",
    "\n",
    "We can then mix this new value with our initial value to obtain a new solution for $t(r)$ $$t_1(r) = \\alpha F(t_0(r))  + (1 - \\alpha) t_0(r) $$\n",
    "\n",
    "More generally $$t_{k+1}(r) = \\alpha F(t_k(r)) + (1 + \\alpha) t_k(r)$$\n",
    "\n",
    "where $\\alpha$ is a dampening parameter. The lower this is, the stiffer our iteration process is (because we're including more of the previous solution than the current). This is called Picard iteration.\n",
    "\n",
    "\n",
    "We keep iterating this set of equations and check the difference between current and previous solutions until that difference is below some tolerance $\\zeta$ $$ \\left\\Vert t_{k+1}(r) - t_{k}(r) \\right\\Vert_2 < \\zeta $$ where $\\left\\Vert f(x) \\right\\Vert_2 = \\sqrt{\\int_0^1 \\left|f(x)\\right|^2\\, dx}$ is the $L^2$-norm. In our case, the integral in the norm is over the full radius `L` that we defined earlier $$ \\left\\Vert t_{k+1}(r) - t_{k}(r) \\right\\Vert_2 = \\sqrt{\\int_0^L \\left| t_{k+1}(r) - t_{k}(r) \\right|^2\\, dr}$$\n",
    "\n",
    "Once the difference is below this tolerance, the calculation is finished.\n",
    "\n",
    "We use an initial guess of $t(r) = 0$ and a tolerance of $\\zeta = 1\\times10^{-5}$\n",
    "\n",
    "First, we define a function for our Picard iteration."
   ]
  },
  {
   "cell_type": "code",
   "execution_count": 148,
   "id": "0036c47a-bd92-4463-85e5-48b26d4cf3c4",
   "metadata": {},
   "outputs": [],
   "source": [
    "def picard_iteration(tolerance, max_step, alpha, initial_tr, beta, ur, wk, rho):\n",
    "    # Set up our loop variable tr\n",
    "    tr = initial_tr\n",
    "    \n",
    "    # Define our counter\n",
    "    step = 0\n",
    "    \n",
    "    while True:\n",
    "        # Store previous t(r)\n",
    "        tr_prev = tr\n",
    "\n",
    "        # t(r) -> c(r) from closure\n",
    "        cr = HNC(beta, ur, tr)\n",
    "\n",
    "        # c(r) -> F(t(r)) from RISM equation\n",
    "        f_tr = RISM(cr, wk, rho, r_grid, k_grid, dr, dk)\n",
    "\n",
    "        # Use Picard iteration to get the new solution\n",
    "        tr_new = alpha * f_tr + (1.0 - alpha) * tr_prev\n",
    "\n",
    "        # Check the L^2 norm between iterates\n",
    "        norm = np.sqrt(np.power((tr_new - tr_prev), 2).sum() * dr)\n",
    "\n",
    "        # Set t(r) to the new t(r) we just computed\n",
    "        tr = tr_new\n",
    "\n",
    "        # Print the iteration step every 100 steps and difference\n",
    "        if step % 100 == 0:\n",
    "            print(\"Iteration: {step} Norm: {norm:.2e}\".format(step=step, norm=norm))\n",
    "\n",
    "        # Test if the difference is below our tolerance\n",
    "        if norm < tolerance:\n",
    "            print(\"Final Iteration: {step} Norm: {norm:.2e}\".format(step=step, norm=norm))\n",
    "            break\n",
    "        \n",
    "        # If we reach max_step, raise an error!\n",
    "        if step == max_step:\n",
    "            print(\"Reached max steps!\")\n",
    "            break\n",
    "\n",
    "         # If any value is nan then the solver has diverged\n",
    "        if np.any(np.isnan(tr)):\n",
    "            print(\"Diverged at iteration: {step}\".format(step=step))\n",
    "            break\n",
    "\n",
    "        # Update our step counter. We have a max_step because we don't want this calculation to go \n",
    "        # on forever and freeze our PC.\n",
    "        step += 1\n",
    "    \n",
    "    # Return solved t(r)\n",
    "    return tr\n"
   ]
  },
  {
   "cell_type": "markdown",
   "id": "2db6a018",
   "metadata": {},
   "source": [
    "Then, we set up our solver parameters"
   ]
  },
  {
   "cell_type": "code",
   "execution_count": 149,
   "id": "6106a669",
   "metadata": {},
   "outputs": [],
   "source": [
    "# Setting up parameters for iterations\n",
    "tolerance = 1e-7 # Convergenc criterion\n",
    "max_step = 10000 # Max number of steps before stopping calculation if convergence criteron not met\n",
    "alpha = 0.3 # Damping parameter for Picard iteration\n",
    "initial_tr = np.zeros((N, ns, ns)) # Initial guess of 0\n",
    "\n"
   ]
  },
  {
   "cell_type": "markdown",
   "id": "688e89d3",
   "metadata": {},
   "source": [
    "Before going on, I want to introduce another method to aid convergence. A drawback of Picard iteration is its poor convergence properties when it comes to RISM - both that it takes a long time to converge and diverges easily.\n",
    "\n",
    "A way to mitigate this is through using a process called charging - we solve a simpler RISM problem by scaling the potential down by some factor $\\lambda$, the solution of which is used as an initial guess to a more complex problem where the potential is scaled by some factor $\\lambda + \\Delta \\lambda$.\n",
    "\n",
    "In this we case we use $\\lambda = \\left(0.25, 0.5, 0.75, 1.0 \\right)$. You can think of this as slowly switching on the interaction between an argon particle and the bulk of the liquid.\n",
    "\n",
    "This process is more generally used in computational chemistry for calculating free energies (e.g. Thermodynamic Integration, Free Energy Perturbation, Kirkwood Charging).\n",
    "\n",
    "We are using it purely as a numerical tool to aid convergence. In this context, what we're doing is a specific application of a more general approach called numerical continuation (specifically natural parameter continuation). Numerical continuation is used to explore the space of solutions of a problem in order to test for brancing paths, but it is also used to mitigate issues that can arise due to poor initial guesses.\n"
   ]
  },
  {
   "cell_type": "code",
   "execution_count": 150,
   "id": "f4cf4f2e",
   "metadata": {},
   "outputs": [
    {
     "name": "stdout",
     "output_type": "stream",
     "text": [
      "0.25\n",
      "Iteration: 0 Norm: 6.67e-01\n",
      "Iteration: 100 Norm: 3.28e-02\n",
      "Iteration: 200 Norm: 5.64e-03\n",
      "Iteration: 300 Norm: 1.03e-03\n"
     ]
    },
    {
     "name": "stdout",
     "output_type": "stream",
     "text": [
      "Iteration: 400 Norm: 1.90e-04\n",
      "Iteration: 500 Norm: 3.51e-05\n",
      "Iteration: 600 Norm: 6.49e-06\n",
      "Iteration: 700 Norm: 1.20e-06\n",
      "Iteration: 800 Norm: 2.22e-07\n",
      "Final Iteration: 848 Norm: 9.86e-08\n",
      "0.5\n",
      "Iteration: 0 Norm: 8.36e-01\n",
      "Iteration: 100 Norm: 1.45e-02\n",
      "Iteration: 200 Norm: 4.30e-03\n",
      "Iteration: 300 Norm: 1.31e-03\n",
      "Iteration: 400 Norm: 3.99e-04\n",
      "Iteration: 500 Norm: 1.22e-04\n",
      "Iteration: 600 Norm: 3.75e-05\n",
      "Iteration: 700 Norm: 1.15e-05\n",
      "Iteration: 800 Norm: 3.53e-06\n",
      "Iteration: 900 Norm: 1.08e-06\n",
      "Iteration: 1000 Norm: 3.32e-07\n",
      "Iteration: 1100 Norm: 1.02e-07\n",
      "Final Iteration: 1102 Norm: 9.94e-08\n",
      "0.75\n",
      "Iteration: 0 Norm: 1.59e+00\n",
      "Iteration: 100 Norm: 9.56e-03\n",
      "Iteration: 200 Norm: 3.61e-03\n",
      "Iteration: 300 Norm: 1.38e-03\n",
      "Iteration: 400 Norm: 5.31e-04\n",
      "Iteration: 500 Norm: 2.04e-04\n",
      "Iteration: 600 Norm: 7.89e-05\n",
      "Iteration: 700 Norm: 3.04e-05\n",
      "Iteration: 800 Norm: 1.17e-05\n",
      "Iteration: 900 Norm: 4.53e-06\n",
      "Iteration: 1000 Norm: 1.75e-06\n",
      "Iteration: 1100 Norm: 6.74e-07\n",
      "Iteration: 1200 Norm: 2.60e-07\n",
      "Iteration: 1300 Norm: 1.00e-07\n",
      "Final Iteration: 1301 Norm: 9.94e-08\n",
      "1.0\n",
      "Iteration: 0 Norm: 2.54e+00\n",
      "Iteration: 100 Norm: 6.77e-03\n",
      "Iteration: 200 Norm: 2.93e-03\n",
      "Iteration: 300 Norm: 1.28e-03\n",
      "Iteration: 400 Norm: 5.63e-04\n",
      "Iteration: 500 Norm: 2.48e-04\n",
      "Iteration: 600 Norm: 1.09e-04\n",
      "Iteration: 700 Norm: 4.80e-05\n",
      "Iteration: 800 Norm: 2.12e-05\n",
      "Iteration: 900 Norm: 9.32e-06\n",
      "Iteration: 1000 Norm: 4.11e-06\n",
      "Iteration: 1100 Norm: 1.81e-06\n",
      "Iteration: 1200 Norm: 7.97e-07\n",
      "Iteration: 1300 Norm: 3.51e-07\n",
      "Iteration: 1400 Norm: 1.55e-07\n",
      "Final Iteration: 1454 Norm: 9.94e-08\n"
     ]
    }
   ],
   "source": [
    "lambdas = 4\n",
    "\n",
    "for ilam in range(1, lambdas+1):\n",
    "    lam = ilam / lambdas\n",
    "    print(\"Current Lambda: \", lam)\n",
    "    tr = tr = picard_iteration(tolerance, max_step, alpha, initial_tr, beta, lam * ar_ur, ar_wk, ar_rho)\n",
    "    initial_tr = tr\n",
    "\n",
    "cr = HNC(beta, ar_ur, tr)"
   ]
  },
  {
   "cell_type": "markdown",
   "id": "c4b95f0a-7ab6-4d43-8094-922c5b53ea1f",
   "metadata": {},
   "source": [
    "Once solved, we can use the calculated correlation functions to calculate the radial distribution function and plot it."
   ]
  },
  {
   "cell_type": "code",
   "execution_count": 151,
   "id": "a8ae7f5f-578e-4bdb-8b4d-c3d97faceeb0",
   "metadata": {},
   "outputs": [
    {
     "data": {
      "image/png": "[encoded data removed]",
      "text/plain": [
       "<Figure size 640x480 with 1 Axes>"
      ]
     },
     "metadata": {},
     "output_type": "display_data"
    }
   ],
   "source": [
    "# Get h(r)\n",
    "hr = tr + cr\n",
    "\n",
    "# Get and plot g(r)\n",
    "gr = hr + 1\n",
    "\n",
    "plt.plot(r_grid, gr[:, 0, 0])\n",
    "plt.xlim([0, 10])\n",
    "plt.axhline(1, color=\"grey\", linestyle=\"--\", linewidth=2)\n",
    "plt.show()"
   ]
  },
  {
   "cell_type": "markdown",
   "id": "2d48c3ec-ba25-4bbf-8d74-b48b1c38ae65",
   "metadata": {
    "tags": []
   },
   "source": [
    "This is the radial distribution function for a Lennard-Jones liquid!"
   ]
  },
  {
   "cell_type": "markdown",
   "id": "d1c52054-2bd1-4781-ae01-97f863081200",
   "metadata": {},
   "source": [
    "On your machine you might find that it took over 1000 iterations to come to a solution.\n",
    "We're using a very simple iteration scheme, but there are more complex iteration schemes we can use that can reduce the number of iterations, but that's beyond the scope of this tutorial."
   ]
  }
 ],
 "metadata": {
  "kernelspec": {
   "display_name": "Python 3 (ipykernel)",
   "language": "python",
   "name": "python3"
  },
  "language_info": {
   "codemirror_mode": {
    "name": "ipython",
    "version": 3
   },
   "file_extension": ".py",
   "mimetype": "text/x-python",
   "name": "python",
   "nbconvert_exporter": "python",
   "pygments_lexer": "ipython3",
   "version": "3.9.17"
  }
 },
 "nbformat": 4,
 "nbformat_minor": 5
}
