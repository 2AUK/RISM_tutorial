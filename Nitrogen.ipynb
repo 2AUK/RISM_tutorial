{
 "cells": [
  {
   "cell_type": "markdown",
   "id": "5e929689-952b-4b00-b8eb-d6df4a0a5678",
   "metadata": {},
   "source": [
    "# RISM - A Gentle Introduction"
   ]
  },
  {
   "cell_type": "markdown",
   "id": "1cc3e0ab-8b1a-4a4c-9fcd-10b2458cd7d0",
   "metadata": {},
   "source": [
    "We are going to write a Python implementation of the extended RISM equation with the goal of computing the direct, indirect and total correlation function along with the radial distribution function."
   ]
  },
  {
   "cell_type": "markdown",
   "id": "43050c62-e1bb-46f3-a09e-bbc8871af275",
   "metadata": {},
   "source": [
    "First, we import the libraries we will be needing:"
   ]
  },
  {
   "cell_type": "code",
   "execution_count": 464,
   "id": "18a17f90-70f6-422e-b1cc-d0303bbe78f3",
   "metadata": {},
   "outputs": [],
   "source": [
    "import numpy as np\n",
    "from scipy.fftpack import dstn, idstn\n",
    "from scipy.special import erf\n",
    "import matplotlib.pyplot as plt"
   ]
  },
  {
   "cell_type": "markdown",
   "id": "cb1166f7-b064-45b0-b87f-b2ad0d00ee24",
   "metadata": {},
   "source": [
    "First, we need to set up our problem domain. While the RISM equations are written as continuous functions $r$ (e.g. $c(r)$), computationally we solve them on a discretised grid.\n",
    "\n",
    "We'll set up a discrete domain of length (or radius since we are working with spherically symmetric functions) $r = 15\\, Å$ partitioned into $N = 100$ points. The resulting grid spacing is given by $\\Delta r = \\frac{r}{N}$."
   ]
  },
  {
   "cell_type": "code",
   "execution_count": 465,
   "id": "97cc8d43-e8e2-422d-bfb6-82f92ada9573",
   "metadata": {},
   "outputs": [],
   "source": [
    "r = 15.0\n",
    "N = 2000\n",
    "dr = r / N"
   ]
  },
  {
   "cell_type": "markdown",
   "id": "76ca9db6-c7e3-47f2-a548-b3951c60df83",
   "metadata": {},
   "source": [
    "We also want to set up a grid spacing for our Fourier-space grid such that $\\Delta r \\Delta k = \\frac{\\pi}{N}$"
   ]
  },
  {
   "cell_type": "code",
   "execution_count": 466,
   "id": "1879c0c5-94e4-43b2-bc3b-b538151c1585",
   "metadata": {},
   "outputs": [],
   "source": [
    "dk = 2.0 * np.pi / (2.0 * N * dr)"
   ]
  },
  {
   "cell_type": "markdown",
   "id": "19288397-40c9-438a-bd93-cf3568b6a87f",
   "metadata": {},
   "source": [
    "Lets check the equality we stated above:"
   ]
  },
  {
   "cell_type": "code",
   "execution_count": 467,
   "id": "bf0060ec-adb2-4b14-bf99-c1ae161f28ee",
   "metadata": {},
   "outputs": [
    {
     "data": {
      "text/plain": [
       "True"
      ]
     },
     "execution_count": 467,
     "metadata": {},
     "output_type": "execute_result"
    }
   ],
   "source": [
    "np.isclose(dr * dk, np.pi / N)"
   ]
  },
  {
   "cell_type": "markdown",
   "id": "2971c660-9d79-48d1-b188-7e59c83bf24c",
   "metadata": {},
   "source": [
    "We use `np.isclose()` here because we are comparing floating point numbers. Using `==` would not work since there is always some precision loss with floats. You need to compared them within tolerances instead.\n",
    "\n",
    "We can use these to generate our real and Fourier-space midpoint grids."
   ]
  },
  {
   "cell_type": "code",
   "execution_count": 468,
   "id": "7fdb7ab7-1798-4bc6-822a-9927a56f56c4",
   "metadata": {},
   "outputs": [],
   "source": [
    "r_grid = np.arange(0.5, N, 1.0) * dr\n",
    "k_grid = np.arange(0.5, N, 1.0) * dk"
   ]
  },
  {
   "cell_type": "markdown",
   "id": "eec3b898-bea4-48df-b7a1-c7cf6553166f",
   "metadata": {},
   "source": [
    "## Nitrogen - Introducing Molecular Liquids and the Coulomb Potential"
   ]
  },
  {
   "cell_type": "markdown",
   "id": "3767a000-2627-4404-a8a1-eba07ef33335",
   "metadata": {},
   "source": [
    "We want to look at more than just simple Lennard-Jones fluids. We can consider an uncharged homonuclear diatomic molecule, and nitrogen is a good such example.\n",
    "Lets define the parameters, system and units."
   ]
  },
  {
   "cell_type": "code",
   "execution_count": 469,
   "id": "52056317-02ba-4bb2-bb6f-82449933ef50",
   "metadata": {
    "tags": []
   },
   "outputs": [],
   "source": [
    "T = 72.0 # Kelvin\n",
    "kB = 8.314462618e-3 # kJ / mol / K\n",
    "beta = 1.0 / T / kB # Thermodynamic Beta\n",
    "\n",
    "n2_epsilon = 44.0 * 8.314462618e-3 # kJ / mol\n",
    "n2_sigma = 3.341 # Angstroms\n",
    "n2_density = 0.01867 # 1 / Angstroms^3\n",
    "\n",
    "n2_rho = np.diag([n2_density, n2_density])"
   ]
  },
  {
   "cell_type": "markdown",
   "id": "0d3fbfa2-d3cb-4f4c-8966-ce831aeec07c",
   "metadata": {},
   "source": [
    "Notice that we've defined a bond length here. We need this for computing the $\\omega(k)$.\n",
    "\n",
    "First we need to define the shape of our arrays. We're still working $N$ grid points but we're now dealing with 2 atoms (or sites in the terminology of RISM).\n",
    "\n",
    "It's useful to define a variable for our system size."
   ]
  },
  {
   "cell_type": "code",
   "execution_count": 470,
   "id": "4442311f-cd2c-4b7c-bc85-2729184a9268",
   "metadata": {
    "tags": []
   },
   "outputs": [],
   "source": [
    "ns = 2 # Number of sites\n",
    "\n",
    "n2_wk = np.zeros((N, ns, ns)) # 3D array of number of points X number of sites X number of sites"
   ]
  },
  {
   "cell_type": "markdown",
   "id": "b07f7c3c-ced4-4ca7-938a-362ee9da13b7",
   "metadata": {},
   "source": [
    "Now we need to define what the intramolecular correlation function looks like $$\\omega_{ij}(k) = \\delta_{ij} + (1 - \\delta_{ij})\\frac{\\sin(kd_{ij})}{kd_{ij}}$$\n",
    "where $\\delta_{ij}$ is the Kronecker delta, and $d_{ij}$ is the distance between site $i$ and $j$.\n",
    "\n",
    "\n",
    "For nitrogen, we can explicitly define these for each $ij$ pair. If we number both nitrogens as $\\textrm{N}_1$ and $\\textrm{N}_2$ and we state the bond length between them to be $1.1\\, Å$ then we can write \n",
    "\n",
    "$$\\omega_{\\textrm{N}_1 \\textrm{N}_1} = \\omega_{\\textrm{N}_2 \\textrm{N}_2} = 1$$\n",
    "\n",
    "$$\\omega_{\\textrm{N}_1 \\textrm{N}_2} = \\omega_{\\textrm{N}_2 \\textrm{N}_1} = \\frac{\\sin(1.1k)}{1.1k}$$"
   ]
  },
  {
   "cell_type": "code",
   "execution_count": 471,
   "id": "eb689e74-9d00-4fd8-94fe-8d3ff80664b0",
   "metadata": {
    "tags": []
   },
   "outputs": [],
   "source": [
    "n2_bond_length = 1.1\n",
    "\n",
    "# [:, 0, 0] indicates a slice over the first axis (which we defined as the number of points above, and indexing the last 2 axes explicitly with 0 and 0 (or 1 and 1) etc.\n",
    "n2_wk[:, 0, 0] = n2_wk[:, 1, 1] = np.ones(N)\n",
    "n2_wk[:, 0, 1] = n2_wk[:, 1, 0] = np.sin(k_grid * n2_bond_length) / k_grid / n2_bond_length"
   ]
  },
  {
   "cell_type": "markdown",
   "id": "80b714ad-a089-47ac-90a2-87199ea4361e",
   "metadata": {},
   "source": [
    "We can compute the potential in a similar fashion"
   ]
  },
  {
   "cell_type": "code",
   "execution_count": 472,
   "id": "c86ec22f-ac7e-40c0-8f02-994edeaa2342",
   "metadata": {
    "tags": []
   },
   "outputs": [],
   "source": [
    "def LJ(epsilon, sigma, r):\n",
    "    return 4.0 * epsilon * ( np.power( (sigma / r), 12) - np.power( (sigma / r), 6) )\n",
    "\n",
    "n2_ur = np.zeros((N, ns, ns))\n",
    "\n",
    "n2_ur[:, 0, 0] = n2_ur[:, 0, 1] = n2_ur[:, 1, 0] = n2_ur[:, 1, 1] = LJ(n2_epsilon, n2_sigma, r_grid)"
   ]
  },
  {
   "cell_type": "markdown",
   "id": "d23b56d9-5140-4934-adc1-c529b1858156",
   "metadata": {},
   "source": [
    "We can do it like this because the two interaction sites are essentially equivalent, they have the exact same LJ parameters and charge, even if they are in different positions in space. We've accounted for the spatial difference with $\\omega(k)$."
   ]
  },
  {
   "cell_type": "code",
   "execution_count": 473,
   "id": "e81fe500-a44d-49e0-9b73-5f2bdcad4de0",
   "metadata": {
    "tags": []
   },
   "outputs": [
    {
     "data": {
      "image/png": "[encoded data removed]",
      "text/plain": [
       "<Figure size 640x480 with 1 Axes>"
      ]
     },
     "metadata": {},
     "output_type": "display_data"
    }
   ],
   "source": [
    "plt.plot(r_grid, n2_ur[:, 0, 0])\n",
    "plt.ylim([-0.4, 0.2])\n",
    "plt.show()"
   ]
  },
  {
   "cell_type": "markdown",
   "id": "c705a1ac-823f-4a45-b0f3-822c95100b2a",
   "metadata": {},
   "source": [
    "We have our inputs (the potential energy and the intramolecular correlation function), so lets solve the RISM equation.\n",
    "\n",
    "We're going to actually wrap a solver in a function for easier use in the future."
   ]
  },
  {
   "cell_type": "code",
   "execution_count": 474,
   "id": "60b8152b-1f97-458f-94d6-18d207412a1f",
   "metadata": {
    "tags": []
   },
   "outputs": [],
   "source": [
    "def picard_iteration(tolerance, max_step, alpha, initial_tr, beta, ur, wk, rho):\n",
    "    # Set up our loop variable tr\n",
    "    tr = initial_tr\n",
    "    \n",
    "    # Define our counter\n",
    "    step = 0\n",
    "    \n",
    "    while True:\n",
    "        # Store previous t(r)\n",
    "        tr_prev = tr\n",
    "\n",
    "        # t(r) -> c(r) from closure\n",
    "        cr = PY(beta, ur, tr)\n",
    "\n",
    "        # c(r) -> F(t(r)) from RISM equation\n",
    "        f_tr = RISM(cr, wk, rho, r_grid, k_grid, dr, dk)\n",
    "\n",
    "        # Use Picard iteration to get the new solution\n",
    "        # Since we set alpha = 1.0 above, this is \n",
    "        # essentially direct iteration (tr_new = f_tr).\n",
    "        tr_new = alpha * f_tr + (1.0 - alpha) * tr_prev\n",
    "\n",
    "        # Check the absolute value of the difference between the current and previous solution\n",
    "        # We use .max() because we want to check that all values are below the tolerance, and\n",
    "        # if the maximum value of the difference array is below, then so must the other values be.\n",
    "        diff = np.sqrt(np.power((tr_new - tr_prev), 2).sum() * dr)\n",
    "\n",
    "        # Set t(r) to the new t(r) we just computed\n",
    "        tr = tr_new\n",
    "\n",
    "        # Print the iteration step every 100 steps and difference\n",
    "        if step % 100 == 0:\n",
    "            print(\"Iteration: {step} Diff: {diff:.2e}\".format(step=step, diff=diff))\n",
    "\n",
    "        # Test if the difference is below our tolerance\n",
    "        if diff < tolerance:\n",
    "            print(\"Final Iteration: {step} Diff: {diff:.2e}\".format(step=step, diff=diff))\n",
    "            break\n",
    "        \n",
    "        # If we reach max_step, raise an error!\n",
    "        if step == max_step:\n",
    "            print(\"Reached max steps!\")\n",
    "            break\n",
    "\n",
    "        if np.any(np.isnan(tr)):\n",
    "            print(\"Diverged at iteration: {step}\".format(step=step))\n",
    "            break\n",
    "\n",
    "        # Update our step counter. We have a max_step because we don't want this calculation to go \n",
    "        # on forever and freeze our PC.\n",
    "        step += 1\n",
    "    \n",
    "    # Return solved t(r)\n",
    "    return tr"
   ]
  },
  {
   "cell_type": "markdown",
   "id": "4af11656-ceef-40f9-b8cc-6a9087425e54",
   "metadata": {},
   "source": [
    "Before we start the solver, there's something else we need to consider - the fbt and ifbt functions.\n",
    "\n",
    "We wrote them for 1D arrays in mind, but we're working with 3D arrays now. If you were try to use the above function without modifying the fbt and ifbt functions, you'd see that it wouldn't work because the r and k grids are not 3D, they're 1D, but our fr and fk grids are 3D now.\n",
    "\n",
    "We need to refactor them for 3D arrays. Fortunately this is an easy fix, we just need to introduce a new axis to the r and k grid. These are just empty axes that Numpy uses to properly broadcast a 1D array over 3D arrays."
   ]
  },
  {
   "cell_type": "code",
   "execution_count": 475,
   "id": "14b785a9-669e-4f77-b670-dd0715db857b",
   "metadata": {
    "tags": []
   },
   "outputs": [],
   "source": [
    "def HNC(beta, ur, tr):\n",
    "    return np.exp(-beta * ur + tr) - 1.0 - tr\n",
    "\n",
    "def PY(beta, ur, tr):\n",
    "    return np.exp(-beta * ur) * (1.0 + tr) - 1.0 - tr\n",
    "\n",
    "def fbt(fr, r, k, dr):\n",
    "    return 2.0 * np.pi * dr * dstn(fr * r[:, np.newaxis, np.newaxis], type=4, axes=[0]) / k[:, np.newaxis, np.newaxis]\n",
    "\n",
    "def ifbt(fk, r, k, dk):\n",
    "    return dk / 4.0 / np.pi / np.pi * idstn(fk * k[:, np.newaxis, np.newaxis], type=4, axes=[0]) / r[:, np.newaxis, np.newaxis]\n",
    "\n",
    "def RISM(cr, w, p, r, k, dr, dk):\n",
    "    N = r.shape[0]\n",
    "    I = np.eye(w.shape[1])\n",
    "    tk = np.zeros_like(cr)\n",
    "    # Transform c(r) to c(k)\n",
    "    ck = fbt(cr, r, k, dr)\n",
    "    # Solve the RISM equation for t(k)\n",
    "    for l in np.arange(0, N):\n",
    "        A = np.linalg.inv(I - p @ w[l] @ ck[l])\n",
    "        B = w[l] @ ck[l] @ w[l]\n",
    "        tk[l] = A @ B - ck[l]\n",
    "    # Transform t(k) to t(r)\n",
    "    tr = ifbt(tk, r, k, dk)\n",
    "    return tr\n"
   ]
  },
  {
   "cell_type": "markdown",
   "id": "582040cc-5c25-492d-962a-1b391a7657fd",
   "metadata": {},
   "source": [
    "We also have a slightly more complicated problem on our hands now. Using an initial guess of 0 might not cut it, so we'll try using the Mayer-f function as an initial guess\n",
    "\n",
    "$$ f(r) = e^{-\\beta u(r)} - 1 $$"
   ]
  },
  {
   "cell_type": "code",
   "execution_count": 476,
   "id": "a9db80fc-9615-4808-b3de-c4d762668313",
   "metadata": {
    "tags": []
   },
   "outputs": [
    {
     "name": "stdout",
     "output_type": "stream",
     "text": [
      "Iteration: 0 Diff: 2.68e+00\n"
     ]
    },
    {
     "name": "stdout",
     "output_type": "stream",
     "text": [
      "Iteration: 100 Diff: 6.77e-02\n",
      "Iteration: 200 Diff: 3.42e-02\n",
      "Iteration: 300 Diff: 2.17e-02\n",
      "Iteration: 400 Diff: 1.30e-02\n",
      "Iteration: 500 Diff: 7.40e-03\n",
      "Iteration: 600 Diff: 4.12e-03\n",
      "Iteration: 700 Diff: 2.25e-03\n",
      "Iteration: 800 Diff: 1.22e-03\n",
      "Iteration: 900 Diff: 6.56e-04\n",
      "Iteration: 1000 Diff: 3.53e-04\n",
      "Iteration: 1100 Diff: 1.89e-04\n",
      "Iteration: 1200 Diff: 1.01e-04\n",
      "Iteration: 1300 Diff: 5.43e-05\n",
      "Iteration: 1400 Diff: 2.91e-05\n",
      "Iteration: 1500 Diff: 1.56e-05\n",
      "Iteration: 1600 Diff: 8.34e-06\n",
      "Iteration: 1700 Diff: 4.47e-06\n",
      "Iteration: 1800 Diff: 2.39e-06\n",
      "Iteration: 1900 Diff: 1.28e-06\n",
      "Final Iteration: 1940 Diff: 9.97e-07\n"
     ]
    },
    {
     "data": {
      "image/png": "[encoded data removed]",
      "text/plain": [
       "<Figure size 640x480 with 1 Axes>"
      ]
     },
     "metadata": {},
     "output_type": "display_data"
    }
   ],
   "source": [
    "tolerance = 1e-6\n",
    "max_step = 10000\n",
    "alpha = 0.1\n",
    "initial_tr = np.zeros((N, ns, ns))\n",
    "tr = picard_iteration(tolerance, max_step, alpha, initial_tr, beta, n2_ur, n2_wk, n2_rho)\n",
    "cr = PY(beta, n2_ur, tr)\n",
    "hr = tr + cr\n",
    "gr = hr + 1.0\n",
    "\n",
    "gn = gr[:, 0, 0]\n",
    "plt.plot(r_grid, gr[:, 0, 0])\n",
    "plt.show()"
   ]
  },
  {
   "cell_type": "markdown",
   "id": "afc39ecb-7a27-4805-8edd-785d220ce69a",
   "metadata": {},
   "source": [
    "1000 iterations doesn't seem to cut it on my machine. We might need to introduce a new scheme to help with convergence.\n",
    "\n",
    "We're going to introduce charging, which is where we slowly switch on the potential and run the solver at each stage."
   ]
  },
  {
   "cell_type": "code",
   "execution_count": 477,
   "id": "4e6ce2fc-fed4-42a3-86e7-d70b9ab47a66",
   "metadata": {
    "tags": []
   },
   "outputs": [
    {
     "name": "stdout",
     "output_type": "stream",
     "text": [
      "0.3333333333333333\n",
      "Iteration: 0 Diff: 7.25e+00\n",
      "Iteration: 100 Diff: 2.88e-03\n",
      "Iteration: 200 Diff: 2.78e-05\n",
      "Iteration: 300 Diff: 2.70e-07\n",
      "Final Iteration: 322 Diff: 9.73e-08\n",
      "0.6666666666666666\n",
      "Iteration: 0 Diff: 7.87e+00\n",
      "Iteration: 100 Diff: 2.55e-03\n",
      "Iteration: 200 Diff: 7.76e-05\n",
      "Iteration: 300 Diff: 2.37e-06\n",
      "Final Iteration: 391 Diff: 9.90e-08\n",
      "1.0\n",
      "Iteration: 0 Diff: 1.73e+01\n",
      "Iteration: 100 Diff: 1.48e-03\n",
      "Iteration: 200 Diff: 6.23e-05\n",
      "Iteration: 300 Diff: 2.63e-06\n",
      "Iteration: 400 Diff: 1.11e-07\n",
      "Final Iteration: 404 Diff: 9.81e-08\n"
     ]
    }
   ],
   "source": [
    "tolerance = 1e-7\n",
    "max_step = 10000\n",
    "alpha = 0.5\n",
    "initial_tr = np.zeros((N, ns, ns))\n",
    "lambdas = 3\n",
    "\n",
    "for ilam in range(1, lambdas+1):\n",
    "    lam = ilam / lambdas\n",
    "    print(lam)\n",
    "    tr = picard_iteration(tolerance, max_step, alpha, initial_tr, beta, lam * n2_ur, n2_wk, n2_rho)\n",
    "    initial_tr = tr\n",
    "\n",
    "cr = PY(beta, n2_ur, tr)"
   ]
  },
  {
   "cell_type": "code",
   "execution_count": 478,
   "id": "055badb5",
   "metadata": {},
   "outputs": [
    {
     "data": {
      "image/png": "[encoded data removed]",
      "text/plain": [
       "<Figure size 640x480 with 1 Axes>"
      ]
     },
     "metadata": {},
     "output_type": "display_data"
    }
   ],
   "source": [
    "hr = tr + cr\n",
    "\n",
    "gr = hr + 1.0\n",
    "\n",
    "plt.plot(r_grid, gr[:, 0, 0])\n",
    "plt.axhline(1, color=\"grey\", linestyle=\"--\", linewidth=2)\n",
    "plt.xlim([0, 9])\n",
    "plt.show()"
   ]
  },
  {
   "cell_type": "markdown",
   "id": "77fba300-895c-446e-8d41-a4259588c11e",
   "metadata": {},
   "source": [
    "In order to do that, we need to be able to properly model the long-range electrostatics via the Coulomb potential.\n",
    "A problem that arises is properly dealing with the long-range part when performing a Fourier transform - the potential will diverge!\n",
    "\n",
    "A simple solution is to break the potential energy into two parts - a short and long range component.\n",
    "Perform the fast Fourier transform for the short range component but choose the long-range component such that we can analytically transform it.\n",
    "\n",
    "We will choose such a form in a moment, first we should define the model we want to solve.\n",
    "\n",
    "The model is essentially the same as before but we introduce a chage of $0.2\\, e$ and $-0.2\\, e$ on each nitrogen atom."
   ]
  },
  {
   "cell_type": "code",
   "execution_count": 479,
   "id": "53eeb8cb-e1fe-47bb-8d5e-8523b2f41040",
   "metadata": {},
   "outputs": [],
   "source": [
    "T = 72.0 # Kelvin\n",
    "kB = 8.314462618e-3 # kJ / mol / K\n",
    "beta = 1.0 / T / kB # Thermodynamic Beta\n",
    "\n",
    "n2_epsilon = 44.0 * 8.314462618e-3 # kJ / mol\n",
    "n2_sigma = 3.341 # Angstroms\n",
    "n2_density = 0.01867 # 1 / Angstroms^3\n",
    "\n",
    "n2_charge = 0.2 #ec\n",
    "\n",
    "n2_rho = np.diag([n2_density, n2_density])"
   ]
  },
  {
   "cell_type": "code",
   "execution_count": 480,
   "id": "67003384-1c67-451c-92cf-edb963dfb359",
   "metadata": {},
   "outputs": [],
   "source": [
    "ec = 1.602176565e-19 # A*s\n",
    "eps_0 = 8.854187817620e-12 # A^2*s^4/kg/m^3\n",
    "Na = 6.02214129e23 # 1 / mol\n",
    "kc = 1.0 / 4.0 / np.pi/ eps_0 # J*m/A^2/s^2\n",
    "kc_a = kc * 1e10 # J*angstrom/A^2/s^2\n",
    "kc_akj = kc_a * 1e-3 # kJ*angstrom/A^2/s^2\n",
    "kc_akjmol = kc_akj * Na # kJ*angstrom/A^2/s^2/mol\n",
    "lb = ec * ec * kc_akjmol # kJ*angstrom/mol\n",
    "\n",
    "def Coulomb(q, r):\n",
    "    return lb * q / r\n",
    "\n",
    "from scipy.special import erf\n",
    "\n",
    "def Ng_real(q, r):\n",
    "    return lb * q * erf(r) / r\n",
    "\n",
    "def Ng_fourier(q, k):\n",
    "    return 4.0 * np.pi * lb * q * np.exp(-np.power(k, 2.0) / 4.0) / np.power(k, 2.0)\n"
   ]
  },
  {
   "cell_type": "code",
   "execution_count": 481,
   "id": "3b0ba6a7",
   "metadata": {},
   "outputs": [],
   "source": [
    "n2_lj = np.zeros((N, ns, ns))\n",
    "n2_cou = np.zeros((N, ns, ns))\n",
    "n2_ng_real = np.zeros((N, ns, ns))\n",
    "n2_ng_fourier = np.zeros((N, ns, ns))\n",
    "\n",
    "n2_lj[:, 0, 0] = n2_lj[:, 0, 1] = n2_lj[:, 1, 0] = n2_lj[:, 1, 1] = LJ(n2_epsilon, n2_sigma, r_grid)\n",
    "\n",
    "n2_cou[:, 0, 0] = n2_cou[:, 1, 1] = Coulomb(n2_charge * n2_charge, r_grid)\n",
    "n2_cou[:, 0, 1] = n2_cou[:, 1, 0] = Coulomb(-n2_charge * n2_charge, r_grid)\n",
    "\n",
    "n2_ng_real[:, 0, 0] = n2_ng_real[:, 1, 1] = Ng_real(n2_charge * n2_charge, r_grid)\n",
    "n2_ng_real[:, 0, 1] = n2_ng_real[:, 1, 0] = Ng_real(-n2_charge * n2_charge, r_grid)\n",
    "\n",
    "n2_ng_fourier[:, 0, 0] = n2_ng_fourier[:, 1, 1] = Ng_fourier(n2_charge * n2_charge, k_grid)\n",
    "n2_ng_fourier[:, 0, 1] = n2_ng_fourier[:, 1, 0] = Ng_fourier(-n2_charge * n2_charge, k_grid)"
   ]
  },
  {
   "cell_type": "code",
   "execution_count": 482,
   "id": "6e4ebc96",
   "metadata": {},
   "outputs": [],
   "source": [
    "def RISM(cr, vk_lr, w, p, r, k, dr, dk):\n",
    "    N = r.shape[0]\n",
    "    I = np.eye(w.shape[1])\n",
    "    tk = np.zeros_like(cr)\n",
    "    # Transform c(r) to c(k)\n",
    "    ck = fbt(cr, r, k, dr)\n",
    "\n",
    "    ck -= vk_lr\n",
    "\n",
    "    # Solve the RISM equation for t(k)\n",
    "    for l in np.arange(0, N):\n",
    "        A = np.linalg.inv(I - p @ w[l] @ ck[l])\n",
    "        B = w[l] @ ck[l] @ w[l]\n",
    "        tk[l] = A @ B - ck[l]\n",
    "    \n",
    "    tk -= vk_lr\n",
    "    \n",
    "    # Transform t(k) to t(r)\n",
    "    tr = ifbt(tk, r, k, dk)\n",
    "    return tr\n",
    "\n",
    "def picard_iteration(tolerance, max_step, alpha, initial_tr, beta, ur_sr, uk_lr,  wk, rho):\n",
    "    # Set up our loop variable tr\n",
    "    tr = initial_tr\n",
    "    \n",
    "    # Define our counter\n",
    "    step = 0\n",
    "    \n",
    "    while True:\n",
    "        # Store previous t(r)\n",
    "        tr_prev = tr\n",
    "\n",
    "        # t(r) -> c(r) from closure\n",
    "        cr = PY(beta, ur_sr, tr)\n",
    "\n",
    "        # c(r) -> F(t(r)) from RISM equation\n",
    "        f_tr = RISM(cr, beta * uk_lr, wk, rho, r_grid, k_grid, dr, dk)\n",
    "\n",
    "        # Use Picard iteration to get the new solution\n",
    "        # Since we set alpha = 1.0 above, this is \n",
    "        # essentially direct iteration (tr_new = f_tr).\n",
    "        tr_new = alpha * f_tr + (1.0 - alpha) * tr_prev\n",
    "\n",
    "        # Check the absolute value of the difference between the current and previous solution\n",
    "        # We use .max() because we want to check that all values are below the tolerance, and\n",
    "        # if the maximum value of the difference array is below, then so must the other values be.\n",
    "        diff = np.sqrt(np.power((tr_new - tr_prev), 2).sum() * dr)\n",
    "\n",
    "        # Set t(r) to the new t(r) we just computed\n",
    "        tr = tr_new\n",
    "\n",
    "        # Print the iteration step every 100 steps and difference\n",
    "        if step % 100 == 0:\n",
    "            print(\"Iteration: {step} Diff: {diff:.2e}\".format(step=step, diff=diff))\n",
    "\n",
    "        # Test if the difference is below our tolerance\n",
    "        if diff < tolerance:\n",
    "            print(\"Final Iteration: {step} Diff: {diff:.2e}\".format(step=step, diff=diff))\n",
    "            break\n",
    "        \n",
    "        # If we reach max_step, raise an error!\n",
    "        if step == max_step:\n",
    "            print(\"Reached max steps!\")\n",
    "            break\n",
    "\n",
    "        if np.any(np.isnan(tr)):\n",
    "            print(\"Diverged at iteration: {step}\".format(step=step))\n",
    "            break\n",
    "\n",
    "        # Update our step counter. We have a max_step because we don't want this calculation to go \n",
    "        # on forever and freeze our PC.\n",
    "        step += 1\n",
    "    \n",
    "    # Return solved t(r)\n",
    "    return tr"
   ]
  },
  {
   "cell_type": "code",
   "execution_count": 484,
   "id": "a69df890",
   "metadata": {},
   "outputs": [
    {
     "name": "stdout",
     "output_type": "stream",
     "text": [
      "0.3333333333333333\n",
      "Iteration: 0 Diff: 7.88e+00\n",
      "Iteration: 100 Diff: 1.13e-01\n",
      "Iteration: 200 Diff: 2.13e-02\n",
      "Iteration: 300 Diff: 3.24e-03\n",
      "Iteration: 400 Diff: 4.75e-04\n",
      "Iteration: 500 Diff: 6.92e-05\n",
      "Iteration: 600 Diff: 1.01e-05\n",
      "Iteration: 700 Diff: 1.47e-06\n",
      "Iteration: 800 Diff: 2.13e-07\n",
      "Final Iteration: 840 Diff: 9.86e-08\n",
      "0.6666666666666666\n",
      "Iteration: 0 Diff: 8.45e+00\n",
      "Iteration: 100 Diff: 1.07e-01\n",
      "Iteration: 200 Diff: 2.73e-02\n",
      "Iteration: 300 Diff: 5.86e-03\n",
      "Iteration: 400 Diff: 1.20e-03\n",
      "Iteration: 500 Diff: 2.44e-04\n",
      "Iteration: 600 Diff: 4.96e-05\n",
      "Iteration: 700 Diff: 1.01e-05\n",
      "Iteration: 800 Diff: 2.04e-06\n",
      "Iteration: 900 Diff: 4.13e-07\n",
      "Final Iteration: 989 Diff: 9.99e-08\n",
      "1.0\n",
      "Iteration: 0 Diff: 1.75e+01\n",
      "Iteration: 100 Diff: 9.86e-02\n",
      "Iteration: 200 Diff: 2.88e-02\n",
      "Iteration: 300 Diff: 7.29e-03\n",
      "Iteration: 400 Diff: 1.77e-03\n",
      "Iteration: 500 Diff: 4.27e-04\n",
      "Iteration: 600 Diff: 1.03e-04\n",
      "Iteration: 700 Diff: 2.46e-05\n",
      "Iteration: 800 Diff: 5.91e-06\n",
      "Iteration: 900 Diff: 1.42e-06\n",
      "Iteration: 1000 Diff: 3.40e-07\n",
      "Final Iteration: 1086 Diff: 9.98e-08\n"
     ]
    }
   ],
   "source": [
    "tolerance = 1e-7\n",
    "max_step = 10000\n",
    "alpha = 0.5\n",
    "initial_tr = np.zeros((N, ns, ns))\n",
    "lambdas = 3\n",
    "\n",
    "n2_ur = n2_lj + n2_cou\n",
    "n2_ur_sr = n2_ur - n2_ng_real\n",
    "\n",
    "for ilam in range(1, lambdas+1):\n",
    "    lam = ilam / lambdas\n",
    "    print(lam)\n",
    "    tr = picard_iteration(tolerance, max_step, alpha, initial_tr, beta, lam * n2_ur_sr, lam * n2_ng_fourier, n2_wk, n2_rho)\n",
    "    initial_tr = tr\n",
    "\n",
    "\n",
    "cr = PY(beta, n2_ur_sr, tr) - beta * n2_ng_real\n",
    "tr += beta * n2_ng_real"
   ]
  },
  {
   "cell_type": "code",
   "execution_count": 524,
   "id": "12aecd4f",
   "metadata": {},
   "outputs": [
    {
     "name": "stdout",
     "output_type": "stream",
     "text": [
      "True\n",
      "[]\n"
     ]
    },
    {
     "data": {
      "image/png": "[encoded data removed]",
      "text/plain": [
       "<Figure size 640x480 with 1 Axes>"
      ]
     },
     "metadata": {},
     "output_type": "display_data"
    }
   ],
   "source": [
    "hr = tr + cr\n",
    "\n",
    "gr = hr + 1.0\n",
    "\n",
    "gpp = gr[:, 0, 0]\n",
    "gpn = gr[:, 0, 1]\n",
    "\n",
    "print(np.all(np.isclose(2 * gn, gpp + gpn, atol=1e-4, rtol=1e-8)))\n",
    "\n",
    "idx = np.where(np.isclose(2 * gn, gpp + gpn, atol=1e-4, rtol=1e-8) == False)\n",
    "\n",
    "print(abs((2 * gn) - (gpp + gpn))[idx])\n",
    "\n",
    "plt.plot(r_grid, gpp)\n",
    "plt.plot(r_grid, gpn)\n",
    "plt.plot(r_grid, gn)\n",
    "plt.plot(r_grid, (gpp + gpn) / 2.0)\n",
    "plt.scatter(r_grid[idx], gn[idx], marker=\".\")\n",
    "plt.axhline(1, color=\"grey\", linestyle=\"--\", linewidth=2)\n",
    "plt.xlim([0, 9])\n",
    "plt.show()"
   ]
  }
 ],
 "metadata": {
  "kernelspec": {
   "display_name": "Python 3 (ipykernel)",
   "language": "python",
   "name": "python3"
  },
  "language_info": {
   "codemirror_mode": {
    "name": "ipython",
    "version": 3
   },
   "file_extension": ".py",
   "mimetype": "text/x-python",
   "name": "python",
   "nbconvert_exporter": "python",
   "pygments_lexer": "ipython3",
   "version": "3.10.13"
  }
 },
 "nbformat": 4,
 "nbformat_minor": 5
}
